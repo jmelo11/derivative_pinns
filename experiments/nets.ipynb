{
 "cells": [
  {
   "cell_type": "markdown",
   "id": "b32ec4e1",
   "metadata": {},
   "source": [
    "# Do Nets Matter?\n",
    "#### Author: JP Melo"
   ]
  },
  {
   "cell_type": "markdown",
   "id": "408abab0",
   "metadata": {},
   "source": [
    "In this file we explore how different shapes of nets affect performance and accuracy of the model. We will use the same dataset as before, but we will create different nets with different shapes and compare their performance."
   ]
  },
  {
   "cell_type": "markdown",
   "id": "b50527de",
   "metadata": {},
   "source": [
    "### Imports"
   ]
  },
  {
   "cell_type": "code",
   "execution_count": 1,
   "id": "5d74c022",
   "metadata": {},
   "outputs": [
    {
     "name": "stderr",
     "output_type": "stream",
     "text": [
      "/Users/josemelo/Desktop/master/tesis/codes/.conda/lib/python3.11/site-packages/kfac/base_preconditioner.py:15: UserWarning: NVIDIA Apex is not installed or was not installed with --cpp_ext. Falling back to PyTorch flatten and unflatten.\n",
      "  from kfac.distributed import get_rank\n"
     ]
    }
   ],
   "source": [
    "from derpinns.nn import *\n",
    "from derpinns.utils import *\n",
    "from derpinns.trainer import *\n",
    "import torch\n",
    "import kfac"
   ]
  },
  {
   "cell_type": "markdown",
   "id": "bc70ad0c",
   "metadata": {},
   "source": [
    "## Parameters"
   ]
  },
  {
   "cell_type": "code",
   "execution_count": 2,
   "id": "1176864d",
   "metadata": {},
   "outputs": [],
   "source": [
    "# Fix seed for reproducibility\n",
    "torch.manual_seed(0)\n",
    "np.random.seed(0)\n",
    "\n",
    "# Global parameters\n",
    "assets = 2\n",
    "\n",
    "sampler = \"pseudo\"\n",
    "nn_shape = \"64x3\"\n",
    "device = torch.device(\"cpu\")\n",
    "dtype = torch.float32\n",
    "\n",
    "# Define option valuation params\n",
    "params = OptionParameters(\n",
    "    n_assets=assets,\n",
    "    tau=1.0,\n",
    "    sigma=np.array([0.2] * assets),\n",
    "    rho=np.eye(assets) + 0.25 * (np.ones((assets, assets)) - np.eye(assets)),\n",
    "    r=0.05,\n",
    "    strike=100,\n",
    "    payoff=payoff\n",
    ")\n",
    "\n",
    "# Define the number of samples to be used in each training stage\n",
    "\n",
    "adam_batch_size = 500\n",
    "adam_total_iter = 500\n",
    "adam_boundary_samples = 20_000\n",
    "adam_interior_samples = adam_boundary_samples*assets*2\n",
    "adam_initial_samples = adam_boundary_samples*assets*2\n",
    "\n",
    "lbfgs_boundary_samples = 1_000\n",
    "lbfgs_interior_samples = lbfgs_boundary_samples*assets*2\n",
    "lbfgs_initial_samples = lbfgs_boundary_samples*assets*2"
   ]
  },
  {
   "cell_type": "markdown",
   "id": "7bdffad9",
   "metadata": {},
   "source": [
    "## Training\n",
    "\n",
    "In this case, we use the full training pipeline as the idea is to analize the expressability of the model and not the training process."
   ]
  },
  {
   "cell_type": "markdown",
   "id": "75c5452c",
   "metadata": {},
   "source": [
    "### Vanilla NN"
   ]
  },
  {
   "cell_type": "code",
   "execution_count": 3,
   "id": "8a7c1354",
   "metadata": {},
   "outputs": [
    {
     "name": "stderr",
     "output_type": "stream",
     "text": [
      "Adam training:  53%|█████▎    | 263/500 [00:56<00:50,  4.67it/s, Interior=0.009718, Boundary=0.009706, Initial=0.127185, Total=0.146609, Max Error=103.7994995117, L2 Error=0.1787294447]\n"
     ]
    },
    {
     "ename": "KeyboardInterrupt",
     "evalue": "",
     "output_type": "error",
     "traceback": [
      "\u001b[0;31m---------------------------------------------------------------------------\u001b[0m",
      "\u001b[0;31mKeyboardInterrupt\u001b[0m                         Traceback (most recent call last)",
      "Cell \u001b[0;32mIn[3], line 29\u001b[0m\n\u001b[1;32m     20\u001b[0m trainer \u001b[38;5;241m=\u001b[39m PINNTrainer()\\\n\u001b[1;32m     21\u001b[0m     \u001b[38;5;241m.\u001b[39mwith_optimizer(optimizer)\\\n\u001b[1;32m     22\u001b[0m     \u001b[38;5;241m.\u001b[39mwith_device(device)\\\n\u001b[0;32m   (...)\u001b[0m\n\u001b[1;32m     25\u001b[0m     \u001b[38;5;241m.\u001b[39mwith_preconditioner(preconditioner)\\\n\u001b[1;32m     26\u001b[0m     \u001b[38;5;241m.\u001b[39mwith_epochs(adam_total_iter)\\\n\u001b[1;32m     28\u001b[0m \u001b[38;5;66;03m# first training stage\u001b[39;00m\n\u001b[0;32m---> 29\u001b[0m \u001b[43mtrainer\u001b[49m\u001b[38;5;241;43m.\u001b[39;49m\u001b[43mtrain\u001b[49m\u001b[43m(\u001b[49m\u001b[43m)\u001b[49m\n\u001b[1;32m     31\u001b[0m \u001b[38;5;66;03m# we create new samples for the second stage\u001b[39;00m\n\u001b[1;32m     32\u001b[0m dataset \u001b[38;5;241m=\u001b[39m SampledDataset(\n\u001b[1;32m     33\u001b[0m     params, lbfgs_interior_samples, lbfgs_initial_samples, lbfgs_boundary_samples, sampler, dtype, device, seed\u001b[38;5;241m=\u001b[39m\u001b[38;5;241m0\u001b[39m)\n",
      "File \u001b[0;32m~/Desktop/master/tesis/codes/derivative_pinns/src/derpinns/trainer.py:175\u001b[0m, in \u001b[0;36mPINNTrainer.train\u001b[0;34m(self)\u001b[0m\n\u001b[1;32m    172\u001b[0m     \u001b[38;5;28mself\u001b[39m\u001b[38;5;241m.\u001b[39mpreconditioner\u001b[38;5;241m.\u001b[39mstep()\n\u001b[1;32m    173\u001b[0m \u001b[38;5;28mself\u001b[39m\u001b[38;5;241m.\u001b[39moptimizer\u001b[38;5;241m.\u001b[39mstep()\n\u001b[0;32m--> 175\u001b[0m results \u001b[38;5;241m=\u001b[39m \u001b[43mcompare_with_mc\u001b[49m\u001b[43m(\u001b[49m\u001b[38;5;28;43mself\u001b[39;49m\u001b[38;5;241;43m.\u001b[39;49m\u001b[43mclosure\u001b[49m\u001b[38;5;241;43m.\u001b[39;49m\u001b[43mmodel\u001b[49m\u001b[43m,\u001b[49m\n\u001b[1;32m    176\u001b[0m \u001b[43m                          \u001b[49m\u001b[38;5;28;43mself\u001b[39;49m\u001b[38;5;241;43m.\u001b[39;49m\u001b[43mclosure\u001b[49m\u001b[38;5;241;43m.\u001b[39;49m\u001b[43mdataset\u001b[49m\u001b[38;5;241;43m.\u001b[39;49m\u001b[43mparams\u001b[49m\u001b[43m,\u001b[49m\u001b[43m \u001b[49m\u001b[43mn_prices\u001b[49m\u001b[38;5;241;43m=\u001b[39;49m\u001b[38;5;241;43m5\u001b[39;49m\u001b[43m,\u001b[49m\u001b[43m \u001b[49m\u001b[43mn_simulations\u001b[49m\u001b[38;5;241;43m=\u001b[39;49m\u001b[38;5;241;43m10_000\u001b[39;49m\u001b[43m,\u001b[49m\u001b[43m \u001b[49m\u001b[43mdtype\u001b[49m\u001b[38;5;241;43m=\u001b[39;49m\u001b[38;5;28;43mself\u001b[39;49m\u001b[38;5;241;43m.\u001b[39;49m\u001b[43mdtype\u001b[49m\u001b[43m,\u001b[49m\u001b[43m \u001b[49m\u001b[43mdevice\u001b[49m\u001b[38;5;241;43m=\u001b[39;49m\u001b[38;5;28;43mself\u001b[39;49m\u001b[38;5;241;43m.\u001b[39;49m\u001b[43mdevice\u001b[49m\u001b[43m,\u001b[49m\u001b[43m \u001b[49m\u001b[43mseed\u001b[49m\u001b[38;5;241;43m=\u001b[39;49m\u001b[38;5;241;43m44\u001b[39;49m\u001b[43m)\u001b[49m\n\u001b[1;32m    178\u001b[0m \u001b[38;5;28;01mif\u001b[39;00m \u001b[38;5;28mself\u001b[39m\u001b[38;5;241m.\u001b[39mscheduler:\n\u001b[1;32m    179\u001b[0m     \u001b[38;5;28;01mif\u001b[39;00m \u001b[38;5;28misinstance\u001b[39m(\u001b[38;5;28mself\u001b[39m\u001b[38;5;241m.\u001b[39mscheduler, torch\u001b[38;5;241m.\u001b[39moptim\u001b[38;5;241m.\u001b[39mlr_scheduler\u001b[38;5;241m.\u001b[39mReduceLROnPlateau):\n",
      "File \u001b[0;32m~/Desktop/master/tesis/codes/derivative_pinns/src/derpinns/solution.py:109\u001b[0m, in \u001b[0;36mcompare_with_mc\u001b[0;34m(model, params, n_prices, n_simulations, dtype, device, seed)\u001b[0m\n\u001b[1;32m    105\u001b[0m     nn_time \u001b[38;5;241m=\u001b[39m time\u001b[38;5;241m.\u001b[39mperf_counter() \u001b[38;5;241m-\u001b[39m t0\n\u001b[1;32m    107\u001b[0m t0 \u001b[38;5;241m=\u001b[39m time\u001b[38;5;241m.\u001b[39mperf_counter()\n\u001b[0;32m--> 109\u001b[0m Z \u001b[38;5;241m=\u001b[39m \u001b[43mrandom_samples\u001b[49m\u001b[43m(\u001b[49m\u001b[43mn_prices\u001b[49m\u001b[43m \u001b[49m\u001b[38;5;241;43m*\u001b[39;49m\u001b[43m \u001b[49m\u001b[43mn_simulations\u001b[49m\u001b[43m,\u001b[49m\u001b[43m \u001b[49m\u001b[43mparams\u001b[49m\u001b[38;5;241;43m.\u001b[39;49m\u001b[43mn_assets\u001b[49m\u001b[43m,\u001b[49m\n\u001b[1;32m    110\u001b[0m \u001b[43m                   \u001b[49m\u001b[43msampler\u001b[49m\u001b[38;5;241;43m=\u001b[39;49m\u001b[38;5;124;43m\"\u001b[39;49m\u001b[38;5;124;43mHalton\u001b[39;49m\u001b[38;5;124;43m\"\u001b[39;49m\u001b[43m)\u001b[49m\n\u001b[1;32m    111\u001b[0m Z \u001b[38;5;241m=\u001b[39m torch\u001b[38;5;241m.\u001b[39mas_tensor(norm\u001b[38;5;241m.\u001b[39mppf(Z), dtype\u001b[38;5;241m=\u001b[39mdtype, device\u001b[38;5;241m=\u001b[39mdevice)\n\u001b[1;32m    113\u001b[0m \u001b[38;5;66;03m# apply correlation\u001b[39;00m\n",
      "File \u001b[0;32m~/Desktop/master/tesis/codes/derivative_pinns/src/derpinns/sampling.py:16\u001b[0m, in \u001b[0;36mrandom_samples\u001b[0;34m(n_samples, dimension, sampler, seed)\u001b[0m\n\u001b[1;32m     14\u001b[0m     \u001b[38;5;28;01mreturn\u001b[39;00m pseudorandom(n_samples, dimension, seed)\n\u001b[1;32m     15\u001b[0m \u001b[38;5;28;01mif\u001b[39;00m sampler \u001b[38;5;129;01min\u001b[39;00m [\u001b[38;5;124m\"\u001b[39m\u001b[38;5;124mLHS\u001b[39m\u001b[38;5;124m\"\u001b[39m, \u001b[38;5;124m\"\u001b[39m\u001b[38;5;124mHalton\u001b[39m\u001b[38;5;124m\"\u001b[39m, \u001b[38;5;124m\"\u001b[39m\u001b[38;5;124mHammersley\u001b[39m\u001b[38;5;124m\"\u001b[39m, \u001b[38;5;124m\"\u001b[39m\u001b[38;5;124mSobol\u001b[39m\u001b[38;5;124m\"\u001b[39m]:\n\u001b[0;32m---> 16\u001b[0m     \u001b[38;5;28;01mreturn\u001b[39;00m \u001b[43mquasirandom\u001b[49m\u001b[43m(\u001b[49m\u001b[43mn_samples\u001b[49m\u001b[43m,\u001b[49m\u001b[43m \u001b[49m\u001b[43mdimension\u001b[49m\u001b[43m,\u001b[49m\u001b[43m \u001b[49m\u001b[43msampler\u001b[49m\u001b[43m,\u001b[49m\u001b[43m \u001b[49m\u001b[43mseed\u001b[49m\u001b[43m)\u001b[49m\n\u001b[1;32m     17\u001b[0m \u001b[38;5;28;01mraise\u001b[39;00m \u001b[38;5;167;01mValueError\u001b[39;00m(\u001b[38;5;124m\"\u001b[39m\u001b[38;5;124mf\u001b[39m\u001b[38;5;132;01m{sampler}\u001b[39;00m\u001b[38;5;124m sampling is not available.\u001b[39m\u001b[38;5;124m\"\u001b[39m)\n",
      "File \u001b[0;32m~/Desktop/master/tesis/codes/derivative_pinns/src/derpinns/sampling.py:51\u001b[0m, in \u001b[0;36mquasirandom\u001b[0;34m(n_samples, dimension, sampler, seed)\u001b[0m\n\u001b[1;32m     49\u001b[0m         skip \u001b[38;5;241m=\u001b[39m \u001b[38;5;241m2\u001b[39m\n\u001b[1;32m     50\u001b[0m space \u001b[38;5;241m=\u001b[39m [(\u001b[38;5;241m0.0\u001b[39m, \u001b[38;5;241m1.0\u001b[39m)] \u001b[38;5;241m*\u001b[39m dimension\n\u001b[0;32m---> 51\u001b[0m \u001b[38;5;28;01mreturn\u001b[39;00m np\u001b[38;5;241m.\u001b[39masarray(\n\u001b[1;32m     52\u001b[0m     sampler\u001b[38;5;241m.\u001b[39mgenerate(space, n_samples \u001b[38;5;241m+\u001b[39m skip, random_state\u001b[38;5;241m=\u001b[39mseed)[skip:]\n\u001b[1;32m     53\u001b[0m )\n",
      "\u001b[0;31mKeyboardInterrupt\u001b[0m: "
     ]
    }
   ],
   "source": [
    "model = build_nn(\n",
    "    nn_shape=nn_shape,\n",
    "    input_dim=assets,\n",
    "    dtype=torch.float32\n",
    ").apply(weights_init).to(device)\n",
    "model.train()\n",
    "\n",
    "dataset = SampledDataset(\n",
    "    params, adam_interior_samples, adam_initial_samples, adam_boundary_samples, sampler, dtype, device, seed=0)\n",
    "\n",
    "optimizer = torch.optim.Adam(model.parameters(), lr=1e-2, amsgrad=True)\n",
    "preconditioner = kfac.preconditioner.KFACPreconditioner(model)\n",
    "\n",
    "closure = DimlessBS()\\\n",
    "    .with_dataset(dataset, loader_opts={'batch_size': adam_batch_size, \"shuffle\": True, \"pin_memory\": True})\\\n",
    "    .with_model(model)\\\n",
    "    .with_device(device)\\\n",
    "    .with_dtype(dtype)\n",
    "\n",
    "trainer = PINNTrainer()\\\n",
    "    .with_optimizer(optimizer)\\\n",
    "    .with_device(device)\\\n",
    "    .with_dtype(dtype)\\\n",
    "    .with_training_step(closure)\\\n",
    "    .with_preconditioner(preconditioner)\\\n",
    "    .with_epochs(adam_total_iter)\\\n",
    "\n",
    "# first training stage\n",
    "trainer.train()\n",
    "\n",
    "# we create new samples for the second stage\n",
    "dataset = SampledDataset(\n",
    "    params, lbfgs_interior_samples, lbfgs_initial_samples, lbfgs_boundary_samples, sampler, dtype, device, seed=0)\n",
    "\n",
    "optimizer = LBFGS(\n",
    "    model.parameters(),\n",
    "    max_eval=1_000,\n",
    "    max_iter=5_000,\n",
    "    line_search_fn=\"strong_wolfe\",\n",
    ")\n",
    "batch_size = len(dataset)  # we use all samples\n",
    "\n",
    "closure = closure.with_dataset(\n",
    "    dataset, loader_opts={'batch_size': batch_size, \"shuffle\": False, \"pin_memory\": True})\n",
    "\n",
    "trainer = trainer.with_optimizer(optimizer).with_training_step(closure)\n",
    "\n",
    "# second training stage\n",
    "trainer.train()"
   ]
  },
  {
   "cell_type": "code",
   "execution_count": null,
   "id": "adaec2b8",
   "metadata": {},
   "outputs": [
    {
     "data": {
      "application/vnd.plotly.v1+json": {
       "config": {
        "plotlyServerURL": "https://plot.ly"
       },
       "data": [
        {
         "line": {
          "color": "#08306B"
         },
         "mode": "lines",
         "name": "PDE Loss",
         "type": "scatter",
         "x": {
          "bdata": "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",
          "dtype": "i2"
         },
         "y": {
          "bdata": "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",
          "dtype": "f8"
         }
        },
        {
         "line": {
          "color": "#3182BD"
         },
         "mode": "lines",
         "name": "Boundary Loss",
         "type": "scatter",
         "x": {
          "bdata": "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",
          "dtype": "i2"
         },
         "y": {
          "bdata": "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",
          "dtype": "f8"
         }
        },
        {
         "line": {
          "color": "#9ECAE1"
         },
         "mode": "lines",
         "name": "Initial Loss",
         "type": "scatter",
         "x": {
          "bdata": "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",
          "dtype": "i2"
         },
         "y": {
          "bdata": "heuRBLN28j+F65EEs3byP4XrkQSzdvI/heuRBLN28j+F65EEs3byP4XrkQSzdvI/heuRBLN28j+F65EEs3byP4XrkQSzdvI/heuRBLN28j+F65EEs3byP4XrkQSzdvI/heuRBLN28j+F65EEs3byP4XrkQSzdvI/heuRBLN28j+F65EEs3byP4XrkQSzdvI/heuRBLN28j+F65EEs3byP4XrkQSzdvI/heuRBLN28j+F65EEs3byP4XrkQSzdvI/heuRBLN28j+F65EEs3byP4XrkQSzdvI/heuRBLN28j+F65EEs3byP4XrkQSzdvI/heuRBLN28j+F65EEs3byP4XrkQSzdvI/heuRBLN28j+F65EEs3byP4XrkQSzdvI/heuRBLN28j+F65EEs3byP4XrkQSzdvI/heuRBLN28j+F65EEs3byP4XrkQSzdvI/heuRBLN28j+F65EEs3byP4XrkQSzdvI/heuRBLN28j+F65EEs3byP4XrkQSzdvI/heuRBLN28j+F65EEs3byP4/CdYk9v+8/UrieQ57f6j/NzEzjCXHnPylcj5BGRuU/exSua6tp4z9mZma75HvhP4/C9fXYjN8/zczM6RDZ3D8fheuKr3baP7gehRUVENg/ZmZm5yfn1T8AAIC14vLTPxSuRxwqG9I/pHA9/fNO0D9mZmZ+sFjNPz0K17l7cMo/XI/Ch/XOxz/D9SgfpFTFP1K4Huak5sI/XI/ChqKjwD89Ctdxmj+9PzMzM2fxsbk/j8L1gPpytj+uR+E6x4KzPx+F6zFT6rA/9ihcD/NXrT97FK6XtrWpP1K4Hm2QnqY/16NwxSH3oz89CtfTf+2hP5qZmckpfaA/CtejMA6Hnj8pXI+yUDmcP9ejcI1MXJo/XI/CZZEYmT9cj8JlzzSYP7gehbsEVJc/FK5HwbZelj+uR+HaULuVPwAAAKAb2JU/CtejsDeklj/D9Sj8osKXP7gehRtJkJg/j8L1SL+DmD/2KFyPcKGYP6RwPYqiAZo/XI/CtVJLnD/sUbhOlaaeP6RwPcI0I6A/KVyPQr6MoD8AAACQcNqgP+F6FP7/fKE/mpmZ6bSroj/sUbi2MCikP4/C9UDaN6U/SOF6vIJ6pT/NzMxcPBymPxSuR3HPwqc/FK5HUXn5qT+kcD1yfxqsP83MzDw5jK0/uB6FF4sLrj9SuB6Vkz2uP65H4apbUa8/zczMoMi4sD/Xo3CVvw6yP3E9CncWWLM/exSuZZIrtD/sUbjQm6C0PwrXowI6T7U/KVyPKDlftj+PwvWIQ5C3Pz0K1795j7g/Urge2QAyuT9mZmba9I65PzMzM4epALo/hetRxBK9uj+uR+EadrO7PwAAALACmLw/j8L1JH8XvT/2KFyLYDu9P4/C9eTdX70/PQrXw62/vT8AAADo5Ty+PzMzM1OriL4/pHA9yhmMvj/D9SgkWKS+P0jhemjKJ78/ZmZmYorovz/2KFwd9DfAP6RwPTh+PsA/FK5H20UgwD/sUbjQcELAP0jheog/38A/16NwRe7FwT+kcD3iVrLCP2ZmZj7yh8M/exSur1s9xD89Cte768nEP9ejcJ1gJcU/uB6Fd4BJxT/D9ShgcEXFP1yPwnknT8U/pHA93iydxT/D9ShYglXGP+F6FGKKbsc/XI/C6Xl6yD9I4XqI/CXJP65H4X4mZsk/XI/CmSlZyT/hehRaNDbJP0jhelhtUck/16NwDSysyT97FK5P8ffJP4XrUfCmFso/9ihcJ/QTyj8fheuJQAnKP1yPwq15Eso/16NwVe8Ryj/NzMyQtdPJPwAAABxeick/SOF6gDh5yT8fhettrLrJP+xRuMq9Pco/CtejHCLPyj9mZmZSpx/LP0jhemC2B8s/FK5HHUO9yj/D9SgIGJ7KP5qZmZUe3so/FK5HbUJpyz9cj8LFvAPMP3sUru8vf8w/16Nw5VXSzD9I4Xr01gvNP+F6FEbiNc0/16Nwze5RzT89CtcrFWrNPwAAAOgLl80/4XoUZgDzzT+kcD2qcYbOP+xRuNpqLc8/cT0KgzaAzz/sUbhKQkLPP7gehfeYg84/rkfhrmeMzT/Xo3CReLLMP6RwPQ7EMcw/w/UoQGgozD97FK5LfpbMPxSuR1VqV80/16Nw0eIYzj8fhevFAXXOP4/C9SzZNM4/exSuM3FlzT8pXI9aZFLMP3E9Ch81Wss/j8L1sPi/yj/Xo3Dlh6HKPz0K18uO9so/UrgeVQCRyz9cj8KVQAfMP2ZmZhaNCsw/Ctej6Fityz9I4XqsXl/LPwrXo4jmf8s/exSu36EtzD8fhes562fNP+xRuH6kFc8/exSu8a1y0D8AAAAeQijRP+xRuNzMh9E/FK5HP4ma0T+PwvX2ZXvRP1yPwtNtUNE/w/UokuVC0T/hehQ8XmjRPx+F629LstE/9ihcXVL40T9I4XrqXR3SP6RwPQBHLNI/7FG4hKg40j+4HoXh10fSP1yPwit3WNI/H4Xrfwlp0j+4HoUJbHjSP65H4XwqedI/4XoUQLVf0j/2KFzZlDDSPwrXozId99E/4XoU0Jq80T+F61EyRofRPxSuRzdKW9E/ZmZmdB450T9cj8KtSSrRPwrXo2zpS9E/hetRhJux0T8zMzOXSF7SPwrXo3TcRNM/16NwkcRM1D/sUbjS51nVP+F6FKLPUtY/7FG4Mr0j1z+PwvUUhMHXP1K4Hh2pK9g/H4Xre0Zp2D/2KFz5dYXYPwAAAPJyitg/4XoUWOV82D9xPQohJ2DYP5qZmVM1Otg/j8L12i8X2D/2KFy5mgbYP1K4HiN/Btg/7FG43PDv1z97FK4JRaLXP6RwPURXF9c/zczMsrpW1j+PwvUCLHLVPylcj6aMi9Q/mpmZba7I0z/hehSihDfTP+xRuGIx09I/AAAAToyS0j+kcD2aXGXSP83MzOptNdI/w/Uootvx0T/D9ShIBJTRP65H4cayKNE/XI/CVGbE0D8fhWulOmPQPwAAABFy/M8/FK5HxBs2zz8fhet+jofOP2ZmZgpuAM4/w/UoJ6WkzT/D9Sg5HWzNPx+F6zVfRM0/rkfhpq0WzT97FK4OZdTMP1yPwlLTgMw/XI/CfxorzD/NzEzaOebLP7geBUUDwss/4XqUJ8ulyz9mZuYtNjTLPx+F69tPGMo/w/Uoqw40yD/sUThbdKDFP1K4nk1tnsI/ZmZm2UEDvz97FK410zy5PzMzs3FjebQ/mpmZlj0RsT9xPQrcCfatP+F6FKOLfas/XI/C6kCEqT9I4XovK1CnPxSux7ZmyKQ/UriewHUzoj8fhetU2NSfP4XrUXuKRZw/cT0K2DC3mT+amZl5AdWXP8P1KFNsJJY/j8L1MaxclD9I4XqzmJCSP4XrUZoo/5A/exSuTdaRjz9SuB73QGKNP83MzJpo3Yo/exSuZ8QMiD/NzMyko2KFP2ZmZiYZQIM/mpmZoa6ngT9SuB5/X0uAPzMzM/95130/CtejxLYrez8pXI8mdRx5P65H4X6+5nc/SOF6NH7odj9xPQq5dF91Pylcj65gfXM/pHA9TlfjcT9SuB7F/uRwP+xRuBovTXA/4XoU5h9Obz/sUbiqbWhtP8P1KNBCTms/AAAALN9/aT+4HoU/yzVoP9ejcLlPfmc/FK5HIZipZj8UrkchQVplP4XrUcjfBmQ/XI/C1XvDYj8AAABQxs1hP0jherydN2E/16NwhYToYD/2KFwXioxgP4/C9Rju2l8/AAAAmBafXj8fhesptkZeP3sUrj9YQ14/4XoUFvKsXT+uR+EyF4hcP4XrUWC9c1s/MzMz+xUkWz+uR+HSumBbP8P1KITN41o/UrgevUCnWT+amZnB7eNYP+F6FHZET1k/pHA9ouElWj8fheu5s2BaP3sUrj9J3Vk/16NwFeyrWT9I4Xo8gUZaPz0K19sf2Fo/16Nw1SuxWj/D9ShU9F9aP5qZmUEo6Vo/XI/CfcK7Wz+PwvWw/elbP+xRuLbzlVs/H4XreW2CWz+uR+FCp+BbP2ZmZi4qZlw/9ihcR4tiXD+amZlxOApcP0jhesx2LFw/CtejYLeuXD+uR+HSt+BcP83MzJSk5lw/KVyPCqgPXT8K16NoSTBdP6RwPeKZMV0/16NwLWNCXT8UrkchLoxdP83MzJwdG14/KVyPQqm5Xj+PwvVIJANfP+F6FCaWhV8/FK5Hfa5yYD+PwvU0fXRhP9ejcHmvmGI/CtejnM6KYz+4HoXv9wJkPwAAAAQAVGQ/4XoUMvicZT8Urkc1Og5oP2ZmZgbxzWo/H4XrwdjcbD/sUbiujAhuP0jherzM024/PQrXo7rvbz+kcD2OMM1wP8P1KEgOw3E/zczMoNuycj9cj8IlQa9zPz0K15/94nQ/hetROPxFdj9mZmaGNK13P1yPwiVxG3k/H4XrcaiIej8K16MkNcR7P7gehQ/KjXw/SOF6GPP5fD+uR+EW8cB9P1yPwuG7jn8/hetR5qwsgT+kcD3wPM6CPx+F6yPac4Q/rkfhZILshT/sUbheBgmHP8P1KJh7t4c/7FG4miNAiD8fhespgmWJP3E9CglO6os/Ctejj+UDkD+F61FqiamSP1K4HiOkgZU/9ihchIkemD9I4XocBh6aPz0K12xrWps/CtejN5ETnD8K16PxF8+cP3sUrgT6+Z0/FK5HXNmsnz8AAIAJmuCgP2Zm5v+U9qE/cT0KdTDooj+uR+H7Y4mjP65H4TWL4qM/j8L1v5dSpD97FK5GiTelPz0K12JjpaY/7FG45oV2qD89CtcrlGiqP5qZmdWvNaw/uB6FX2WurT8pXI9m47OuP+xRuGqVPa8/PQrXp1a5rz8fheu3YHGwPzMzM2X0g7E/4XoUiKoPsz8AAABAW/u0P1yPwuvAJbc/H4Xrn4FquT9I4XoWr6S7PzMzM6Gosb0/zczMXtlyvz8K16NxEWfAP+F6FFto2cA/SOF6kbESwT8pXI89TijBPzMzM+haRsE/9ihco6+WwT/D9ShebyrCP2ZmZnBc/cI/UrgeCxT/wz9I4XpKlhrFP4/C9ZoaOsY/pHA9hJtHxz9xPQpZ8ivIP3sUrqMg0Mg/KVyPdkIoyT8fheuVyEjJP5qZmRVLXck/hetR5AR/yT9SuB4xvLfJP3sUrvODDMo/pHA91j58yj8K16NAGfrKP3E9CmeQaMs/CtejSMesyz9I4XpgcdHLP6RwPaZT68s/SOF6CEsGzD89Ctc/PivMPylcjxaGYMw/XI/CmQqmzD9SuB65oOzMP6RwPTJOE80/XI/CJV4AzT+PwvXEyLXMP2ZmZuqvU8w/4XoU6psJzD/NzMwYWO7LP65H4Ta6Asw/XI/CAebwyz9cj8KBWPfLP6RwPQpdAcw/exSuZ2Tcyz/NzMyAyXLLPylcj5q8xco/FK5HnSTlyT8zMzN33eLIP83MzFRf0Mc/ZmZmeNu7xj+F61HoQrnFP9ejcN2o2MQ/KVyPUEoqxD/NzMzGo7fDPylcj7yQf8M/Ctej0mBuwz+uR+EgQ1bDP+xRuIoCCMM/KVyPJvBtwj+F61GRF4zBP83MzCPMdMA/16NwO7uFvj/hehSwzx+8P6RwPSoz6rk/w/UouIgUuD/sUbi1QsK2P6RwPQM587U/mpmZVOBntT9cj8KIYsG0P/YoXM4M2bM/mpmZwfK0sj9cj8J3ZmixP4XrUVpRDbA/exSuExWLrT+F61FgEnqrP83MzFiVEqo/uB6F5NfxqD8AAADcmLSnP0jhetOLPqY/4XoU4puUpD97FK6DgNCiP0jhevdsGqE/w/UoLkE+nz/NzMwO8AedP2ZmZjrGsZs/16NwP0cUmz89CtfZ8HyaP4XrUUBo4Jg/4XoUPuv1lT+4HoU1BRiSPxSuR8mtS5A/PQrXS0CKjT+amZk5fq2KP+xRuDbsJYg/PQrXJ0vthT/hehQCEAKEP1yPwrGpN4I/w/UoOHSNgD/Xo3AFNCV+P0jheqSp9Hs/mpmZwfsYej9I4Xq4ZYl4Px+F66XnBnc/mpmZnWmVdT/2KFz/pj10P4XrUajU6HI/AAAAsB2jcT89Ctc3C3pwP+F6FIZA7W4/exSuh8YnbT8zMzOLHtRrP7gehQM+gmo/PQrXk8pLaT8UrkeBfzRoP1yPwi0aI2c/w/UoDMkYZj89CtcrgSllP1K4Hg24WWQ/zczMlBelYz9xPQrnbvtiPwAAAEjSWmI/j8L1cGjFYT/NzMyUND9hPxSuRxlBwmA/PQrXYzVHYD8AAAAwkpxfPzMzMzOQu14/hetRyM36XT9I4XrUZUpdP4/C9VhipVw/Urge9RIJXD8AAABwinNbPz0K14PJ31o/ZmZmhkxOWj+F61G4VsBZP4/C9XgOOFk/zczMjOq4WD89CtdjWERYP/YoXP821lc/7FG4DrxsVz8K16MAtwlXPwrXoxAwqVY/MzMzg7hKVj9I4XpMk+xVP+F6FJ6aj1U/exSul9s0VT+PwvUYZN1UPxSuR2GliVQ/FK5HOR86VD+PwvWobOxTP8P1KJxloFM/hetRuExYUz+F61EIgxJTPx+F6ykWz1I/SOF6/LKMUj/D9SjcuEtSP/YoXM9RDVI/cT0Kd67OUT/D9ShslY9RP9ejcFW7UFE/4XoUpkwTUT9xPQpX2dlQP1K4Hh2kpFA/uB6F4x9wUD+4HoVbAT1QPx+F64HKClA/uB6FexS0Tz/sUbh+8VdPP3sUrudVA08/exSu536zTj+F61GYYGZOP9ejcM2QGE4/hetRyFzKTT/hehTOY3xNPwrXo1A8M00/AAAAEBbuTD8zMzMTGatMPz0K11Maakw/H4XrEe8rTD+uR+FKKe9LP/YoXD8XsUs/cT0Kx3JySz9xPQoHDzZLP65H4Url+ko/j8L1CJzASj9SuB41+4RKP/YoXM/vSEo/16NwvVQNSj9xPQrn+NNJP65H4TpUnEk/cT0KNyFlST8K16OA9i1JP6RwPdoF90g/7FG4vkHBSD+4HoX7AoxIP65H4ZqKWEg/PQrXQ/skSD+PwvUIQ/FHPwrXo9CTvUc/7FG4Ti2KRz8AAACgL1hHPxSuR4F8J0c/uB6Fq6P2Rj89CtdTyMRGP1yPwnWVkkY/cT0KZy9hRj9xPQpn+TBGP/YoXK9DAkY/KVyPcmTVRT/2KFxfAalFPwAAAGCFfUU/rkfhishRRT/D9Sg8wiVFP3sUrtf2+UQ/AAAAYH3ORD/2KFzfpaREP6RwPRpQekQ/SOF6pBNRRD/2KFz/CChEP1yPwhX4/kM/exSuZ1TXQz9SuB4Fb7BDP0jheqTgiUM/CtejEOFjQz9SuB6Vwj1DPwrXo7DSGEM/w/Uo/Ir0Qj+amZm52dBCP2ZmZmaNrUI/16NwTceLQj8fhesxu2tCP8P1KJwATEI/exSuH3QrQj8zMzPbYQpCP8P1KEwW6kE/XI/C/SjLQT9SuB7d1K1BPx+F6+GFkkE/pHA90s13QT8UrkeB4l1BPwrXo+jXQ0E/PQrXC6cqQT+kcD3ilhJBPwAAAKAD/EA/4XoUjrTmQD9SuB4tDNJAP2ZmZg6LvUA/ZmZmXgCpQD+PwvXIaZRAP/YoXAfof0A/SOF6xF9rQD+amZlR/1ZAP0jheqSiQkA/w/Uo1OkuQD+kcD0aERxAP/YoXE9uCUA/7FG4jo7tPz9I4XrUNso/PwrXowC1pT8/H4XrMSOBPz+F61E49lw/Pz0K10PyOD8/uB6FK40VPz8pXI8ymPM+P3E9Clf40z4/SOF6dPuyPj/hehQOlZQ+P6RwPXo+dj4/PQrXExlYPj/Xo3ANETk+P0jheoSsGD4/CtejgKT4PT9mZmbmB9o9P83MzCx1vT0/KVyPUkuiPT/2KFx/c4Y9Pz0K1wOAaT0/cT0K50hLPT+uR+H66Ss9P83MzFyhCz0/exSuV1/rPD/hehSuyM08PxSuRyE9sjw/7FG4nlKYPD+4HoWbiX08P65H4SqcYjw/exSupwxHPD8pXI/CASs8P+xRuC54Djw/9ihcD2PwOz+PwvVI29I7P3sUrreKtTs/H4XrgbGYOz9xPQp33Hs7PylcjzLKXjs/cT0K545BOz8K16MwYCQ7P1yPwrU9Bzs/UrgeJUjqOj9mZmZ2g806PxSuRxFlsTo/exSuR+aVOj97FK4nyns6P/YoXG/VYTo/KVyPcu5HOj9SuB71mC06P4XrUTgsEzo/4XoUjoj2OT97FK7HK9s5P9ejcM25vzk/ZmZmxsSkOT+uR+F6dYo5PwrXowApcDk/SOF6hINWOT/NzMzMBTw5P8P1KCwaITk/hetRmOIFOT97FK7X0uo4P2ZmZta70Dg/4XoUfkK4OD/NzMyMpKA4PwrXoxCaiDg/rkfheq9vOD9SuB6l5VU4P+xRuH71Ozg/uB6F6zUjOD/2KFwvggo4P83MzJxu8jc/PQrXo0PbNz/NzMy8AcU3P1yPwhVfrzc/MzMz052ZNz8AAADg+IM3P/YoXL+Abjc/H4XrAUxZNz8fheuR8UM3P+xRuD7ELjc/SOF6FN4ZNz+kcD1KaAU3PwrXowCs8TY/16NwjdbeNj/NzMxMd8w2P3E9CgexujY/MzMz83upNj9mZmZmPZk2Pz0K18PKiDY/hetRiDF4Nj8zMzMzYmc2P+xRuF4dVjY/FK5HgWhENj/sUbheVzI2PwAAAEBHIDY/j8L1aO8NNj8K16Mgevs1P9ejcK1c6TU/uB6FO9zXNT+PwvVYucY1P83MzJzstTU/XI/CRRilNT9I4Xqk3pM1P8P1KFwwgjU/16NwHcNwNT/Xo3ANyF81Px+F63HyTTU/SOF6BEI8NT9xPQpHYCo1P/YoXB9nGDU/7FG4PpEGNT8pXI9S8/Q0P1K4HoWe4zQ/KVyPEszSND97FK6H88I0P83MzAzgszQ/UrgeFUelND97FK7H5ZU0PxSuR+HghDQ/CtejMINzND8UrkcR92E0P6RwPVopUDQ/CtejAGY+ND8pXI8i8Cw0P+F6FF55GzQ/exSu5/UJND+4HoV7wfgzP8P1KIwN6DM/rkfh+uPXMz+4HoX7LMgzP1yPwhV0uDM/SOF69BCpMz9mZmaGZpkzPz0K1/OGiTM/4XoUbiR5Mz9I4XrU0mczP5qZmRnzVjM/XI/CNZhEMz+PwvXY1TEzP1K4HmWqHjM/H4XrYbMLMz89CtdzCvkyP2ZmZhbV5jI/MzMzY/DUMj/2KFx/bsMyP4/C9bhNsjI/KVyPkoShMj8zMzPjm5AyP83MzLxZfzI/MzMzw7JtMj+PwvV4KlwyP1K4HnUISzI/4XoUDuQ6Mj8UrkcBtCsyP+xRuC6HHDI/ZmZmxisNMj9xPQoXjf0xP3sUrsfw7TE/mpmZyaHeMT+4HoXbaM8xP83MzEw3wDE/cT0KB+ewMT/Xo3A9eqExPx+F6wE+kjE/AAAAgOiCMT/NzMzcZXMxP3E9CjeCYzE/w/UojPdTMT+uR+Fy/0QxP9ejcJ3ZNjE/CtejmO4oMT/NzMx8XxsxP8P1KHyVDTE/H4Xr0Qn/MD9xPQpn9O8wPwrXo7Cg4DA/hetR+MbQMD+amZkxu8AwP+F6FJ6osDA/UrgeFbagMD/Xo3DF4pAwP+xRuEbigDA/9ihcn/9wMD+amZkRKWEwP+F6FBbKUTA/cT0KJyxDMD+amZnJTDQwP0jheuxYJjA/XI/C/X0ZMD9mZmZGSw0wP6RwPXqYATA/CtejoILqLz+uR+EasdAvP0jheqQLti8/9ihcL6WaLz9mZmbWnH8vPwrXo9AbZS8/FK5HUWtLLz/sUbh+WDIvP+xRuB5GGS8/4XoUbl//Lj/D9SiMheQuP83MzLxsyS4/9ihcz1muLj89CtfTrZMuP8P1KJwWei4/H4Xr4aFhLj9I4XokaUouP8P1KIySMy4/j8L1aFIdLj9cj8KlEQcuP4/C9bjc8C0/KVyP8rraLT9I4Xqk4sMtP9ejcI0vrS0/KVyPwrmXLT8UrkdhG4MtPylcj/I/by0/exSuFwVcLT+F61HoHkktP+xRuG4pNi0/XI/CZeIiLT8AAACwPBAtPz0K13Oh/iw/CtejMH7uLD+amZmZpt8sP5qZmVlP0iw/16Nwzb/FLD8zMzNzTLksPz0K16ObrCw/cT0Kt9mfLD/Xo3CNRZMsP0jheiRdhyw/PQrXAzJ8LD+kcD3qIXEsP83MzAxuZiw/j8L1KH1bLD/D9SjcelAsP/YoXM8YRSw/UrgeRQc5LD+PwvW4USssP+xRuA70HSw/CtejoEoRLD8zMzMjbgUsPwAAAHBW+is/UrgelVjvKz9mZmaGVeQrP8P1KPy12Cs/exSuV1bNKz8zMzMTcMIrPxSuRxEKuCs/KVyPksyuKz8K16MgqqUrP1K4HlV/nCs/XI/CtVOTKz8fheux/IkrP83MzPzgfys/KVyPMgB1Kz9xPQp3qmkrP4XrUQjgXSs/j8L1SP1RKz8K16NwGUYrP+F6FB5dOis/uB6FaygvKz9SuB4lQiQrP8P1KPwmGSs/H4XrYbQOKz+F61EYhwQrPzMzM/OC+io/uB6F66z0Kj8pXI8y8+oqP1yPwiVR4So/AAAAgErXKj9xPQqnOs0qP9ejcE0Qwyo/mpmZWd+4Kj+4HoVrxK4qP1yPwjVUpCo/7FG4bgaaKj+4HoX7b48qP5qZmZmrhCo/Urge1dV5Kj/D9Sj8B28qPzMzM3P/Yyo/9ihcryBZKj/NzMzcNE4qP7gehasSQyo/FK5HMfE3Kj89CtezjCwqP3E9CieoISo/pHA9ClwXKj/D9Sj8pw0qP8P1KCwdBCo/9ihcLxH7KT+4HoUbafEpP1K4HnWh5yk/exSud97dKT/D9ShcLtQpP4XrUThSyik/PQrX46jAKT89CtdD7bYpP2ZmZoZRrSk/zczMvLajKT/Xo3CdEpopP1yPwrW3kCk/MzMzo2KHKT+kcD2KtX4pP4XrUfhMdik/hetRmN1tKT97FK5X1GUpP+xRuG79XSk/SOF6lKVWKT8Urkcxak8pP9ejcM0RSCk/XI/CdaRAKT8Urkfx/DgpP9ejcL3tMCk/CtejYEwoKT8K16MQTx8pP+F6FI42Eik/SOF6dJ4IKT8K16Ngdf8oPzMzM0NK9ig/SOF6RAXtKD8pXI+yXOMoP1yPwhWb2Sg/exSuN8zPKD+F61F4EMYoP3E9CqeAvCg/uB6FuzqzKD9xPQonDqooP3E9CveyoCg/16NwrQaXKD8AAADg+owoP1yPwnWngig/XI/C1UZ4KD9SuB7V2W0oP2ZmZjaGYyg/4XoUruZYKD9xPQqHTE4oP/YoXM+YQyg/w/UovAg5KD/NzMx8ci4oP+F6FH6RIyg/w/Uo/HIZKD+uR+F6jg8oP/YoXI+4BSg/H4Xr4SL8Jz+F61FYyPInPxSuRyGR6Sc/XI/CpeDgJz/hehRON9knP+xRuN7u0Cc/AAAA4KHIJz/Xo3A9O8AnP2ZmZqbJtyc/hetROE2vJz9SuB7VxaYnP0jhemRunic/SOF69MeVJz8zMzMz8ownPxSuRzGXgyc/4XoUvvp5Jz+amZn5LHAnP+xRuF5hZic/ZmZmRmFcJz+amZlpS1InPwrXo4A4SCc/KVyPgv4+Jz+F61FIXTUnP3E9ChcpLCc/j8L16KkiJz+uR+EKKxknP65H4VrRDyc/KVyPIswGJz9I4Xpk5v0mP7gehevb9CY/zczM3OfrJj8AAABg2eImP4/C9Sjc2SY/9ihcvwXRJj+uR+GqdMgmP1yPwlU2wCY/pHA9qqW4Jj/NzMy8N7EmP+F6FM4MqiY/CtejMCSjJj+4HoXLXZwmP6RwPaohliY/hetR2MWPJj+4HoUbU4kmP1yPwrXDgiY/PQrX8xp8Jj+4HoULOHUmP9ejcJ0ZbiY/w/UoPH1mJj+PwvXYIl4mP8P1KEyQVSY/Ctej0KhMJj8fhetBnEMmP3sUrlc3OiY/MzMzw5YvJj9SuB6FkyUmP+F6FL6WGyY/PQrXU6IRJj8zMzOT4QcmP+xRuK45/iU/AAAAQL70JT8UrkeBaOslP83MzEwY4iU/CtejALLYJT9mZmaW1M8lP6RwPVobxyU/rkfhCkG+JT/sUbgORrUlP4/C9dhHrCU/zczMXICjJT9mZmY2SpwlP0jhelS3kyU/XI/ClbqLJT+uR+Fa1YMlP6RwPUoEfCU/H4XrITl0JT89Ctdjb2wlPwrXo7CzZCU/SOF6BO5cJT9mZmYWaFUlP4XrUSjzTSU/pHA92rJGJT/Xo3DdxD8lP+xRuL63OCU/MzMzk54xJT9cj8JFWiolP1yPwjWXIiU/XI/CFfUaJT8pXI9i3RIlPzMzM9OzCiU/16NwLWQCJT/2KFwvPvokP2ZmZtYz8iQ/FK5HwVjqJD/sUbj+tuIkP7gehesy2yQ/uB6FGwvUJD9cj8JFDM0kP0jheuTYxiQ/w/UonP7AJD+amZnJT7skP5qZmenctSQ/rkfhSnWwJD+uR+FqI6skP2ZmZsYLpiQ/ZmZmVtqgJD9xPQq3uZskPxSuR2HHliQ/H4XrQcWRJD89CtezxIwkP1yPwsW7hyQ/rkfhetSCJD/Xo3A9KH4kPx+F6+F6eSQ/cT0KZ4Z0JD8UrkeBjW8kPwrXo4DHaiQ/FK5HcQVmJD/sUbhOvmEkPwrXo+CKXSQ/SOF6hEpYJD/2KFyfFFQkP2ZmZsa1TyQ/MzMzw1RLJD97FK63A0ckPz0K10P+QiQ/j8L1yCk/JD+PwvUYhjskP4XrURglOCQ/CtejkBM1JD89CtfTsDEkPylcj5JLLiQ/XI/C5aoqJD+kcD0aSickP2ZmZjbdIyQ/SOF6tL0gJD9I4XqU2h0kPxSuR4EyGyQ/UrgeNaoYJD/2KFwfAhYkP+F6FO42EyQ/Urge9RkQJD+uR+Fq5QwkP3sUrge5CSQ/XI/CRSIGJD+PwvV4YAIkPwrXo/Ay/iM/w/UozPn5Iz+4HoWLGvUjP9ejcJ2S8CM/cT0Kd9vrIz9SuB71HecjP83MzOxs4iM/j8L1+PTdIz9cj8JFjNkjP5qZmRlU1SM/pHA9mg3RIz97FK7nn8wjP+F6FE4pyCM/exSuZ6TDIz/NzMy8F78jP+xRuH5CuiM/uB6Fi0+1Iz97FK63jLAjP/YoXP+FqyM/w/UoDHqmIz/Xo3AtUKEjP0jhemQ3nCM/KVyPcv2WIz9I4XrE4ZEjPz0K15PSjCM/cT0KN6aHIz/sUbheTIIjP1yPwqXsfCM/UrgeNTB3Iz/hehSuR3EjP+xRuF5gayM/rkfhClVlIz8pXI8iJV8jPwAAADCNWCM/mpmZKUtSIz/2KFxPwUsjPz0K1zMQRSM/XI/CBUE+Iz+F61FYljcjPylcj4LhMCM/16NwzTsqIz97FK7XjyMjP4XrUcgkHSM/XI/CRdgWIz9I4XqUqBAjPwAAALCmCiM/mpmZSbsEIz+amZnZkP4iPwAAAMCQ+CI/j8L1uJryIj/2KFyvtOwiP6RwPaqf5iI/AAAAEH/gIj9I4Xok+tsiPxSuR6Ej1iI/uB6FSx7QIj8fheuBwMkiPwrXo2ALwyI/XI/C5SC8Ij97FK6XX7UiPzMzM0OVriI/SOF6hK6nIj/hehR+06AiP2ZmZkbNmSI/SOF6FNOSIj97FK6X/YsiP5qZmalChSI/hetRSJt+Ij+kcD0KPngiP3E9Ctf8cSI/FK5HodtrIj8Urkfh4GUiPwAAAPC/XyI/XI/CtXtZIj8zMzNT9VIiP5qZmRkhTCI/CtejcFJFIj8fhesRIT4iP4/C9ZgANyI/hetRKO0vIj9I4XqUgygiP4XrUYgMISI/w/UoLHMZIj/Xo3CtyxEiPwAAAJArCiI/7FG4HsgCIj/sUbg+sfshP2ZmZibG9CE/zczMnOXtIT/Xo3BN3OYhPz0K19Oh3yE/UrgeNdvXIT9mZmY2zs8hPx+F65F0xyE/ZmZmpjS/IT8pXI+ik7YhPzMzM+MHriE/ZmZmZselIT8K16NglJ0hPxSuRzFulSE/w/UofFKNIT/sUbjOdYUhP4/C9SjJfSE/zczMTHx0IT8pXI8ivmwhP1K4HnVpZSE/PQrX03ReIT/NzMys4FchPxSuR1GAUSE/4XoUfv9KIT9SuB6FgUQhP1K4HuWpPiE/w/UozEk4IT89CtdDKzIhP/YoXM8PLCE/j8L1iPslIT+4HoUL3x8hPylcjzK5GSE/UrgetaoTIT/hehSuvg0hPylcj7LoByE/KVyP4t0BIT8zMzNzuvsgP1yPwrXC9SA/w/Uo7MfvID/hehQuBOogPx+F6wFY5CA/SOF6ZA7fID+F61EICNogP4XrUWgb1SA/MzMz42fQID8K16OQt8sgP/YoXB88yCA/UrgeBczDID9xPQqXM78gPwrXozDCuiA/H4XrIQW2ID+kcD2KMrEgPz0K14NWrCA/XI/CZYynID8K16PQwKIgPz0K10NyniA/H4XrQWSaID/2KFxvm5YgPzMzM6O0kiA/7FG4/jiPID+F61HIpIsgP3sUrvfohyA/4XoU3iiEID+PwvV4aIAgP7gehQurfCA/4XoUzvF4ID9SuB7lOHUgPylcj3KBcSA/SOF6FL1tID+amZlZzGkgP+F6FD7gZSA/zczMDPhhID+kcD3iDl4gPwrXo2AeWiA/zczM3DJWID8pXI96sFEgPxSuR9FoTSA/4XoU/v5IID8zMzPzfkQgP1K4Hj2nPyA/cT0Kpxk7ID8UrkexujYgP4/C9YhbMiA/PQrXgw4uID8pXI9axCkgPx+F6xG9JSA/uB6Fm9ohID9I4Xpc3x0gP9ejcNX9GSA/zczMvCsWID9mZmbeMxIgP1yPwh0dDiA/UrgeZdcJID/NzMy8fAUgP+xRuL76ACA/AAAAoPD4Hz9xPQpX3e0fP0jhejSh5B8/Urge5XDbHz9I4Xr03NEfP5qZmYl8yB8/FK5HQQi/Hz/Xo3D9mrUfP+F6FJ40rB8/AAAAkPyiHz/D9SgMlJkfP6RwPToakB8/16NwPcSGHz9cj8J1s30fP9ejcF2mdB8/CtejALprHz/2KFwf2mIfPx+F68HuWR8/mpmZWV5RHz9SuB4lsEgfP0jhetTvPx8/9ihcTxc3Hz/Xo3DtOy4fPx+F6zE4JR8/4XoUbm4cHz8fhesBiRMfP9ejcL2sCh8/Ctej0PUBHz9mZmYGo/keP4XrUXiQ8R4/XI/C9aHpHj/Xo3ANNOIeP+F6FC4T2x4/KVyPIgfUHj+kcD2aqc0eP1K4HnWCxh4/FK5H8dm+Hj+kcD266bYeP4/C9Tjqrh4/CtejwA2nHj+4HoVbGZ8eP3sUrgcclx4/FK5H0TqPHj+PwvV4bYceP2ZmZmYAgB4/MzMzA/h4Hj8UrkdRNHIeP7gehTuhax4/zczMrAhlHj8Urkfx114ePylcj4K8WB4/4XoU3m9SHj/hehTeUUweP4/C9ZhqRh4/KVyPMnBAHj/NzMx8lToePylcj9LZNB4/cT0KR0AvHj8pXI9SxSkePxSuR4F5JB4/PQrXo0EfHj+kcD3qCRoeP+F6FN6iFB4/AAAAoA8PHj8AAAAwlQkeP+xRuP50BB4/UrgepXz/HT/Xo3AN3PodP4/C9SgT9h0/ZmZmRrDxHT9I4XrkrO4dP3E9CreI6h0/Urge5S3mHT/2KFyv9uEdPwrXo4CI3R0/mpmZ2UrZHT8zMzMTOdUdPwAAAAAA0R0/7FG4foDMHT+uR+GaAsgdP4/C9Viuwx0/16NwDZS/HT+F61F4w7sdP65H4Urjtx0/pHA9Kiu0HT9mZmbWx7AdP7gehTu8rR0/16NwDf2qHT/Xo3BNU6gdP+xRuO5Eph0/ZmZmNvGjHT8UrkfB0KEdP3E9CqeAnx0/w/UoTF2dHT8fhevR55odPz0K10ONmB0/4XoUPv6VHT8pXI/CwJMdPzMzM8OLkR0/Urge9RiPHT+F61EolIwdP+xRuM7liR0/Ctej0C6HHT/NzMzMWYQdPx+F68GKgR0/7FG4HsN+HT/NzMzcB3wdP0jherRHeR0/",
          "dtype": "f8"
         }
        }
       ],
       "layout": {
        "height": 600,
        "legend": {
         "orientation": "h",
         "x": 0.5,
         "xanchor": "center",
         "y": 1,
         "yanchor": "top"
        },
        "template": {
         "data": {
          "bar": [
           {
            "error_x": {
             "color": "#2a3f5f"
            },
            "error_y": {
             "color": "#2a3f5f"
            },
            "marker": {
             "line": {
              "color": "white",
              "width": 0.5
             },
             "pattern": {
              "fillmode": "overlay",
              "size": 10,
              "solidity": 0.2
             }
            },
            "type": "bar"
           }
          ],
          "barpolar": [
           {
            "marker": {
             "line": {
              "color": "white",
              "width": 0.5
             },
             "pattern": {
              "fillmode": "overlay",
              "size": 10,
              "solidity": 0.2
             }
            },
            "type": "barpolar"
           }
          ],
          "carpet": [
           {
            "aaxis": {
             "endlinecolor": "#2a3f5f",
             "gridcolor": "#C8D4E3",
             "linecolor": "#C8D4E3",
             "minorgridcolor": "#C8D4E3",
             "startlinecolor": "#2a3f5f"
            },
            "baxis": {
             "endlinecolor": "#2a3f5f",
             "gridcolor": "#C8D4E3",
             "linecolor": "#C8D4E3",
             "minorgridcolor": "#C8D4E3",
             "startlinecolor": "#2a3f5f"
            },
            "type": "carpet"
           }
          ],
          "choropleth": [
           {
            "colorbar": {
             "outlinewidth": 0,
             "ticks": ""
            },
            "type": "choropleth"
           }
          ],
          "contour": [
           {
            "colorbar": {
             "outlinewidth": 0,
             "ticks": ""
            },
            "colorscale": [
             [
              0,
              "#0d0887"
             ],
             [
              0.1111111111111111,
              "#46039f"
             ],
             [
              0.2222222222222222,
              "#7201a8"
             ],
             [
              0.3333333333333333,
              "#9c179e"
             ],
             [
              0.4444444444444444,
              "#bd3786"
             ],
             [
              0.5555555555555556,
              "#d8576b"
             ],
             [
              0.6666666666666666,
              "#ed7953"
             ],
             [
              0.7777777777777778,
              "#fb9f3a"
             ],
             [
              0.8888888888888888,
              "#fdca26"
             ],
             [
              1,
              "#f0f921"
             ]
            ],
            "type": "contour"
           }
          ],
          "contourcarpet": [
           {
            "colorbar": {
             "outlinewidth": 0,
             "ticks": ""
            },
            "type": "contourcarpet"
           }
          ],
          "heatmap": [
           {
            "colorbar": {
             "outlinewidth": 0,
             "ticks": ""
            },
            "colorscale": [
             [
              0,
              "#0d0887"
             ],
             [
              0.1111111111111111,
              "#46039f"
             ],
             [
              0.2222222222222222,
              "#7201a8"
             ],
             [
              0.3333333333333333,
              "#9c179e"
             ],
             [
              0.4444444444444444,
              "#bd3786"
             ],
             [
              0.5555555555555556,
              "#d8576b"
             ],
             [
              0.6666666666666666,
              "#ed7953"
             ],
             [
              0.7777777777777778,
              "#fb9f3a"
             ],
             [
              0.8888888888888888,
              "#fdca26"
             ],
             [
              1,
              "#f0f921"
             ]
            ],
            "type": "heatmap"
           }
          ],
          "histogram": [
           {
            "marker": {
             "pattern": {
              "fillmode": "overlay",
              "size": 10,
              "solidity": 0.2
             }
            },
            "type": "histogram"
           }
          ],
          "histogram2d": [
           {
            "colorbar": {
             "outlinewidth": 0,
             "ticks": ""
            },
            "colorscale": [
             [
              0,
              "#0d0887"
             ],
             [
              0.1111111111111111,
              "#46039f"
             ],
             [
              0.2222222222222222,
              "#7201a8"
             ],
             [
              0.3333333333333333,
              "#9c179e"
             ],
             [
              0.4444444444444444,
              "#bd3786"
             ],
             [
              0.5555555555555556,
              "#d8576b"
             ],
             [
              0.6666666666666666,
              "#ed7953"
             ],
             [
              0.7777777777777778,
              "#fb9f3a"
             ],
             [
              0.8888888888888888,
              "#fdca26"
             ],
             [
              1,
              "#f0f921"
             ]
            ],
            "type": "histogram2d"
           }
          ],
          "histogram2dcontour": [
           {
            "colorbar": {
             "outlinewidth": 0,
             "ticks": ""
            },
            "colorscale": [
             [
              0,
              "#0d0887"
             ],
             [
              0.1111111111111111,
              "#46039f"
             ],
             [
              0.2222222222222222,
              "#7201a8"
             ],
             [
              0.3333333333333333,
              "#9c179e"
             ],
             [
              0.4444444444444444,
              "#bd3786"
             ],
             [
              0.5555555555555556,
              "#d8576b"
             ],
             [
              0.6666666666666666,
              "#ed7953"
             ],
             [
              0.7777777777777778,
              "#fb9f3a"
             ],
             [
              0.8888888888888888,
              "#fdca26"
             ],
             [
              1,
              "#f0f921"
             ]
            ],
            "type": "histogram2dcontour"
           }
          ],
          "mesh3d": [
           {
            "colorbar": {
             "outlinewidth": 0,
             "ticks": ""
            },
            "type": "mesh3d"
           }
          ],
          "parcoords": [
           {
            "line": {
             "colorbar": {
              "outlinewidth": 0,
              "ticks": ""
             }
            },
            "type": "parcoords"
           }
          ],
          "pie": [
           {
            "automargin": true,
            "type": "pie"
           }
          ],
          "scatter": [
           {
            "fillpattern": {
             "fillmode": "overlay",
             "size": 10,
             "solidity": 0.2
            },
            "type": "scatter"
           }
          ],
          "scatter3d": [
           {
            "line": {
             "colorbar": {
              "outlinewidth": 0,
              "ticks": ""
             }
            },
            "marker": {
             "colorbar": {
              "outlinewidth": 0,
              "ticks": ""
             }
            },
            "type": "scatter3d"
           }
          ],
          "scattercarpet": [
           {
            "marker": {
             "colorbar": {
              "outlinewidth": 0,
              "ticks": ""
             }
            },
            "type": "scattercarpet"
           }
          ],
          "scattergeo": [
           {
            "marker": {
             "colorbar": {
              "outlinewidth": 0,
              "ticks": ""
             }
            },
            "type": "scattergeo"
           }
          ],
          "scattergl": [
           {
            "marker": {
             "colorbar": {
              "outlinewidth": 0,
              "ticks": ""
             }
            },
            "type": "scattergl"
           }
          ],
          "scattermap": [
           {
            "marker": {
             "colorbar": {
              "outlinewidth": 0,
              "ticks": ""
             }
            },
            "type": "scattermap"
           }
          ],
          "scattermapbox": [
           {
            "marker": {
             "colorbar": {
              "outlinewidth": 0,
              "ticks": ""
             }
            },
            "type": "scattermapbox"
           }
          ],
          "scatterpolar": [
           {
            "marker": {
             "colorbar": {
              "outlinewidth": 0,
              "ticks": ""
             }
            },
            "type": "scatterpolar"
           }
          ],
          "scatterpolargl": [
           {
            "marker": {
             "colorbar": {
              "outlinewidth": 0,
              "ticks": ""
             }
            },
            "type": "scatterpolargl"
           }
          ],
          "scatterternary": [
           {
            "marker": {
             "colorbar": {
              "outlinewidth": 0,
              "ticks": ""
             }
            },
            "type": "scatterternary"
           }
          ],
          "surface": [
           {
            "colorbar": {
             "outlinewidth": 0,
             "ticks": ""
            },
            "colorscale": [
             [
              0,
              "#0d0887"
             ],
             [
              0.1111111111111111,
              "#46039f"
             ],
             [
              0.2222222222222222,
              "#7201a8"
             ],
             [
              0.3333333333333333,
              "#9c179e"
             ],
             [
              0.4444444444444444,
              "#bd3786"
             ],
             [
              0.5555555555555556,
              "#d8576b"
             ],
             [
              0.6666666666666666,
              "#ed7953"
             ],
             [
              0.7777777777777778,
              "#fb9f3a"
             ],
             [
              0.8888888888888888,
              "#fdca26"
             ],
             [
              1,
              "#f0f921"
             ]
            ],
            "type": "surface"
           }
          ],
          "table": [
           {
            "cells": {
             "fill": {
              "color": "#EBF0F8"
             },
             "line": {
              "color": "white"
             }
            },
            "header": {
             "fill": {
              "color": "#C8D4E3"
             },
             "line": {
              "color": "white"
             }
            },
            "type": "table"
           }
          ]
         },
         "layout": {
          "annotationdefaults": {
           "arrowcolor": "#2a3f5f",
           "arrowhead": 0,
           "arrowwidth": 1
          },
          "autotypenumbers": "strict",
          "coloraxis": {
           "colorbar": {
            "outlinewidth": 0,
            "ticks": ""
           }
          },
          "colorscale": {
           "diverging": [
            [
             0,
             "#8e0152"
            ],
            [
             0.1,
             "#c51b7d"
            ],
            [
             0.2,
             "#de77ae"
            ],
            [
             0.3,
             "#f1b6da"
            ],
            [
             0.4,
             "#fde0ef"
            ],
            [
             0.5,
             "#f7f7f7"
            ],
            [
             0.6,
             "#e6f5d0"
            ],
            [
             0.7,
             "#b8e186"
            ],
            [
             0.8,
             "#7fbc41"
            ],
            [
             0.9,
             "#4d9221"
            ],
            [
             1,
             "#276419"
            ]
           ],
           "sequential": [
            [
             0,
             "#0d0887"
            ],
            [
             0.1111111111111111,
             "#46039f"
            ],
            [
             0.2222222222222222,
             "#7201a8"
            ],
            [
             0.3333333333333333,
             "#9c179e"
            ],
            [
             0.4444444444444444,
             "#bd3786"
            ],
            [
             0.5555555555555556,
             "#d8576b"
            ],
            [
             0.6666666666666666,
             "#ed7953"
            ],
            [
             0.7777777777777778,
             "#fb9f3a"
            ],
            [
             0.8888888888888888,
             "#fdca26"
            ],
            [
             1,
             "#f0f921"
            ]
           ],
           "sequentialminus": [
            [
             0,
             "#0d0887"
            ],
            [
             0.1111111111111111,
             "#46039f"
            ],
            [
             0.2222222222222222,
             "#7201a8"
            ],
            [
             0.3333333333333333,
             "#9c179e"
            ],
            [
             0.4444444444444444,
             "#bd3786"
            ],
            [
             0.5555555555555556,
             "#d8576b"
            ],
            [
             0.6666666666666666,
             "#ed7953"
            ],
            [
             0.7777777777777778,
             "#fb9f3a"
            ],
            [
             0.8888888888888888,
             "#fdca26"
            ],
            [
             1,
             "#f0f921"
            ]
           ]
          },
          "colorway": [
           "#636efa",
           "#EF553B",
           "#00cc96",
           "#ab63fa",
           "#FFA15A",
           "#19d3f3",
           "#FF6692",
           "#B6E880",
           "#FF97FF",
           "#FECB52"
          ],
          "font": {
           "color": "#2a3f5f"
          },
          "geo": {
           "bgcolor": "white",
           "lakecolor": "white",
           "landcolor": "white",
           "showlakes": true,
           "showland": true,
           "subunitcolor": "#C8D4E3"
          },
          "hoverlabel": {
           "align": "left"
          },
          "hovermode": "closest",
          "mapbox": {
           "style": "light"
          },
          "paper_bgcolor": "white",
          "plot_bgcolor": "white",
          "polar": {
           "angularaxis": {
            "gridcolor": "#EBF0F8",
            "linecolor": "#EBF0F8",
            "ticks": ""
           },
           "bgcolor": "white",
           "radialaxis": {
            "gridcolor": "#EBF0F8",
            "linecolor": "#EBF0F8",
            "ticks": ""
           }
          },
          "scene": {
           "xaxis": {
            "backgroundcolor": "white",
            "gridcolor": "#DFE8F3",
            "gridwidth": 2,
            "linecolor": "#EBF0F8",
            "showbackground": true,
            "ticks": "",
            "zerolinecolor": "#EBF0F8"
           },
           "yaxis": {
            "backgroundcolor": "white",
            "gridcolor": "#DFE8F3",
            "gridwidth": 2,
            "linecolor": "#EBF0F8",
            "showbackground": true,
            "ticks": "",
            "zerolinecolor": "#EBF0F8"
           },
           "zaxis": {
            "backgroundcolor": "white",
            "gridcolor": "#DFE8F3",
            "gridwidth": 2,
            "linecolor": "#EBF0F8",
            "showbackground": true,
            "ticks": "",
            "zerolinecolor": "#EBF0F8"
           }
          },
          "shapedefaults": {
           "line": {
            "color": "#2a3f5f"
           }
          },
          "ternary": {
           "aaxis": {
            "gridcolor": "#DFE8F3",
            "linecolor": "#A2B1C6",
            "ticks": ""
           },
           "baxis": {
            "gridcolor": "#DFE8F3",
            "linecolor": "#A2B1C6",
            "ticks": ""
           },
           "bgcolor": "white",
           "caxis": {
            "gridcolor": "#DFE8F3",
            "linecolor": "#A2B1C6",
            "ticks": ""
           }
          },
          "title": {
           "x": 0.05
          },
          "xaxis": {
           "automargin": true,
           "gridcolor": "#EBF0F8",
           "linecolor": "#EBF0F8",
           "ticks": "",
           "title": {
            "standoff": 15
           },
           "zerolinecolor": "#EBF0F8",
           "zerolinewidth": 2
          },
          "yaxis": {
           "automargin": true,
           "gridcolor": "#EBF0F8",
           "linecolor": "#EBF0F8",
           "ticks": "",
           "title": {
            "standoff": 15
           },
           "zerolinecolor": "#EBF0F8",
           "zerolinewidth": 2
          }
         }
        },
        "title": {
         "text": "Loss History"
        },
        "width": 800,
        "xaxis": {
         "title": {
          "text": "Epoch"
         }
        },
        "yaxis": {
         "title": {
          "text": "Loss (log‑scale)"
         },
         "type": "log"
        }
       }
      }
     },
     "metadata": {},
     "output_type": "display_data"
    },
    {
     "name": "stdout",
     "output_type": "stream",
     "text": [
      "L2 Error:  0.15854408\n"
     ]
    }
   ],
   "source": [
    "with_vanilla = trainer.closure.get_state()\n",
    "plot_loss(with_vanilla, smooth=True, smooth_window=50)\n",
    "\n",
    "vanilla_l2 = compare_with_mc(model, params, n_prices=200,\n",
    "                             n_simulations=10_000, dtype=dtype, device=device, seed=42)['l2_rel_error']\n",
    "print(\"L2 Error: \", vanilla_l2*100)"
   ]
  },
  {
   "cell_type": "markdown",
   "id": "a02b9ad8",
   "metadata": {},
   "source": [
    "## With SPINN"
   ]
  },
  {
   "cell_type": "code",
   "execution_count": null,
   "id": "1698ce60",
   "metadata": {},
   "outputs": [
    {
     "ename": "TypeError",
     "evalue": "SPINN.__init__() got an unexpected keyword argument 'output_dim'",
     "output_type": "error",
     "traceback": [
      "\u001b[0;31m---------------------------------------------------------------------------\u001b[0m",
      "\u001b[0;31mTypeError\u001b[0m                                 Traceback (most recent call last)",
      "Cell \u001b[0;32mIn[47], line 2\u001b[0m\n\u001b[1;32m      1\u001b[0m \u001b[38;5;66;03m# Build the net to be used\u001b[39;00m\n\u001b[0;32m----> 2\u001b[0m model \u001b[38;5;241m=\u001b[39m \u001b[43mSPINN\u001b[49m\u001b[43m(\u001b[49m\u001b[43mn_layers\u001b[49m\u001b[38;5;241;43m=\u001b[39;49m\u001b[38;5;241;43m3\u001b[39;49m\u001b[43m,\u001b[49m\u001b[43m \u001b[49m\u001b[43minput_dim\u001b[49m\u001b[38;5;241;43m=\u001b[39;49m\u001b[43massets\u001b[49m\u001b[38;5;241;43m+\u001b[39;49m\u001b[38;5;241;43m1\u001b[39;49m\u001b[43m,\u001b[49m\u001b[43m \u001b[49m\u001b[43mhidden_dim\u001b[49m\u001b[38;5;241;43m=\u001b[39;49m\u001b[38;5;241;43m10\u001b[39;49m\u001b[43m,\u001b[49m\n\u001b[1;32m      3\u001b[0m \u001b[43moutput_dim\u001b[49m\u001b[38;5;241;43m=\u001b[39;49m\u001b[38;5;241;43m10\u001b[39;49m\u001b[43m,\u001b[49m\u001b[43m \u001b[49m\u001b[43mdtype\u001b[49m\u001b[38;5;241;43m=\u001b[39;49m\u001b[43mdtype\u001b[49m\u001b[43m)\u001b[49m\u001b[38;5;241m.\u001b[39mapply(weights_init)\u001b[38;5;241m.\u001b[39mto(device)\n\u001b[1;32m      5\u001b[0m dataset \u001b[38;5;241m=\u001b[39m SampledDataset(\n\u001b[1;32m      6\u001b[0m     params, adam_interior_samples, adam_initial_samples, adam_boundary_samples, sampler, dtype, device, seed\u001b[38;5;241m=\u001b[39m\u001b[38;5;241m0\u001b[39m)\n\u001b[1;32m      8\u001b[0m optimizer \u001b[38;5;241m=\u001b[39m torch\u001b[38;5;241m.\u001b[39moptim\u001b[38;5;241m.\u001b[39mAdam(model\u001b[38;5;241m.\u001b[39mparameters(), lr\u001b[38;5;241m=\u001b[39m\u001b[38;5;241m1e-3\u001b[39m, amsgrad\u001b[38;5;241m=\u001b[39m\u001b[38;5;28;01mTrue\u001b[39;00m)\n",
      "\u001b[0;31mTypeError\u001b[0m: SPINN.__init__() got an unexpected keyword argument 'output_dim'"
     ]
    }
   ],
   "source": [
    "# Build the net to be used\n",
    "model = SPINN(n_layers=3, input_dim=assets+1, hidden_dim=10,\n",
    "output_dim=10, dtype=dtype).apply(weights_init).to(device)\n",
    "\n",
    "dataset = SampledDataset(\n",
    "    params, adam_interior_samples, adam_initial_samples, adam_boundary_samples, sampler, dtype, device, seed=0)\n",
    "\n",
    "optimizer = torch.optim.Adam(model.parameters(), lr=1e-3, amsgrad=True)\n",
    "preconditioner = kfac.preconditioner.KFACPreconditioner(model)\n",
    "\n",
    "closure = DimlessBS()\\\n",
    "    .with_dataset(dataset, loader_opts={'batch_size': adam_batch_size, \"shuffle\": True, \"pin_memory\": True})\\\n",
    "    .with_model(model)\\\n",
    "    .with_device(device)\\\n",
    "    .with_dtype(dtype)\n",
    "\n",
    "trainer = PINNTrainer()\\\n",
    "    .with_optimizer(optimizer)\\\n",
    "    .with_device(device)\\\n",
    "    .with_dtype(dtype)\\\n",
    "    .with_training_step(closure)\\\n",
    "    .with_preconditioner(preconditioner)\\\n",
    "    .with_epochs(adam_total_iter)\\\n",
    "\n",
    "# first training stage\n",
    "trainer.train()\n",
    "\n",
    "# we create new samples for the second stage\n",
    "dataset = SampledDataset(\n",
    "    params, lbfgs_interior_samples, lbfgs_initial_samples, lbfgs_boundary_samples, sampler, dtype, device, seed=0)\n",
    "\n",
    "optimizer = LBFGS(\n",
    "    model.parameters(),\n",
    "    max_eval=1_000,\n",
    "    max_iter=5_000,\n",
    "    line_search_fn=\"strong_wolfe\",\n",
    ")\n",
    "batch_size = len(dataset)  # we use all samples\n",
    "\n",
    "closure = closure.with_dataset(\n",
    "    dataset, loader_opts={'batch_size': batch_size, \"shuffle\": False, \"pin_memory\": True})\n",
    "\n",
    "trainer = trainer.with_optimizer(optimizer).with_training_step(closure)\n",
    "\n",
    "# second training stage\n",
    "trainer.train()"
   ]
  },
  {
   "cell_type": "code",
   "execution_count": null,
   "id": "390f1c6d",
   "metadata": {},
   "outputs": [
    {
     "data": {
      "application/vnd.plotly.v1+json": {
       "config": {
        "plotlyServerURL": "https://plot.ly"
       },
       "data": [
        {
         "line": {
          "color": "#08306B"
         },
         "mode": "lines",
         "name": "PDE Loss",
         "type": "scatter",
         "x": {
          "bdata": "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",
          "dtype": "i2"
         },
         "y": {
          "bdata": "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",
          "dtype": "f8"
         }
        },
        {
         "line": {
          "color": "#3182BD"
         },
         "mode": "lines",
         "name": "Boundary Loss",
         "type": "scatter",
         "x": {
          "bdata": "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",
          "dtype": "i2"
         },
         "y": {
          "bdata": "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",
          "dtype": "f8"
         }
        },
        {
         "line": {
          "color": "#9ECAE1"
         },
         "mode": "lines",
         "name": "Initial Loss",
         "type": "scatter",
         "x": {
          "bdata": "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",
          "dtype": "i2"
         },
         "y": {
          "bdata": "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",
          "dtype": "f8"
         }
        }
       ],
       "layout": {
        "height": 600,
        "legend": {
         "orientation": "h",
         "x": 0.5,
         "xanchor": "center",
         "y": 1,
         "yanchor": "top"
        },
        "template": {
         "data": {
          "bar": [
           {
            "error_x": {
             "color": "#2a3f5f"
            },
            "error_y": {
             "color": "#2a3f5f"
            },
            "marker": {
             "line": {
              "color": "white",
              "width": 0.5
             },
             "pattern": {
              "fillmode": "overlay",
              "size": 10,
              "solidity": 0.2
             }
            },
            "type": "bar"
           }
          ],
          "barpolar": [
           {
            "marker": {
             "line": {
              "color": "white",
              "width": 0.5
             },
             "pattern": {
              "fillmode": "overlay",
              "size": 10,
              "solidity": 0.2
             }
            },
            "type": "barpolar"
           }
          ],
          "carpet": [
           {
            "aaxis": {
             "endlinecolor": "#2a3f5f",
             "gridcolor": "#C8D4E3",
             "linecolor": "#C8D4E3",
             "minorgridcolor": "#C8D4E3",
             "startlinecolor": "#2a3f5f"
            },
            "baxis": {
             "endlinecolor": "#2a3f5f",
             "gridcolor": "#C8D4E3",
             "linecolor": "#C8D4E3",
             "minorgridcolor": "#C8D4E3",
             "startlinecolor": "#2a3f5f"
            },
            "type": "carpet"
           }
          ],
          "choropleth": [
           {
            "colorbar": {
             "outlinewidth": 0,
             "ticks": ""
            },
            "type": "choropleth"
           }
          ],
          "contour": [
           {
            "colorbar": {
             "outlinewidth": 0,
             "ticks": ""
            },
            "colorscale": [
             [
              0,
              "#0d0887"
             ],
             [
              0.1111111111111111,
              "#46039f"
             ],
             [
              0.2222222222222222,
              "#7201a8"
             ],
             [
              0.3333333333333333,
              "#9c179e"
             ],
             [
              0.4444444444444444,
              "#bd3786"
             ],
             [
              0.5555555555555556,
              "#d8576b"
             ],
             [
              0.6666666666666666,
              "#ed7953"
             ],
             [
              0.7777777777777778,
              "#fb9f3a"
             ],
             [
              0.8888888888888888,
              "#fdca26"
             ],
             [
              1,
              "#f0f921"
             ]
            ],
            "type": "contour"
           }
          ],
          "contourcarpet": [
           {
            "colorbar": {
             "outlinewidth": 0,
             "ticks": ""
            },
            "type": "contourcarpet"
           }
          ],
          "heatmap": [
           {
            "colorbar": {
             "outlinewidth": 0,
             "ticks": ""
            },
            "colorscale": [
             [
              0,
              "#0d0887"
             ],
             [
              0.1111111111111111,
              "#46039f"
             ],
             [
              0.2222222222222222,
              "#7201a8"
             ],
             [
              0.3333333333333333,
              "#9c179e"
             ],
             [
              0.4444444444444444,
              "#bd3786"
             ],
             [
              0.5555555555555556,
              "#d8576b"
             ],
             [
              0.6666666666666666,
              "#ed7953"
             ],
             [
              0.7777777777777778,
              "#fb9f3a"
             ],
             [
              0.8888888888888888,
              "#fdca26"
             ],
             [
              1,
              "#f0f921"
             ]
            ],
            "type": "heatmap"
           }
          ],
          "histogram": [
           {
            "marker": {
             "pattern": {
              "fillmode": "overlay",
              "size": 10,
              "solidity": 0.2
             }
            },
            "type": "histogram"
           }
          ],
          "histogram2d": [
           {
            "colorbar": {
             "outlinewidth": 0,
             "ticks": ""
            },
            "colorscale": [
             [
              0,
              "#0d0887"
             ],
             [
              0.1111111111111111,
              "#46039f"
             ],
             [
              0.2222222222222222,
              "#7201a8"
             ],
             [
              0.3333333333333333,
              "#9c179e"
             ],
             [
              0.4444444444444444,
              "#bd3786"
             ],
             [
              0.5555555555555556,
              "#d8576b"
             ],
             [
              0.6666666666666666,
              "#ed7953"
             ],
             [
              0.7777777777777778,
              "#fb9f3a"
             ],
             [
              0.8888888888888888,
              "#fdca26"
             ],
             [
              1,
              "#f0f921"
             ]
            ],
            "type": "histogram2d"
           }
          ],
          "histogram2dcontour": [
           {
            "colorbar": {
             "outlinewidth": 0,
             "ticks": ""
            },
            "colorscale": [
             [
              0,
              "#0d0887"
             ],
             [
              0.1111111111111111,
              "#46039f"
             ],
             [
              0.2222222222222222,
              "#7201a8"
             ],
             [
              0.3333333333333333,
              "#9c179e"
             ],
             [
              0.4444444444444444,
              "#bd3786"
             ],
             [
              0.5555555555555556,
              "#d8576b"
             ],
             [
              0.6666666666666666,
              "#ed7953"
             ],
             [
              0.7777777777777778,
              "#fb9f3a"
             ],
             [
              0.8888888888888888,
              "#fdca26"
             ],
             [
              1,
              "#f0f921"
             ]
            ],
            "type": "histogram2dcontour"
           }
          ],
          "mesh3d": [
           {
            "colorbar": {
             "outlinewidth": 0,
             "ticks": ""
            },
            "type": "mesh3d"
           }
          ],
          "parcoords": [
           {
            "line": {
             "colorbar": {
              "outlinewidth": 0,
              "ticks": ""
             }
            },
            "type": "parcoords"
           }
          ],
          "pie": [
           {
            "automargin": true,
            "type": "pie"
           }
          ],
          "scatter": [
           {
            "fillpattern": {
             "fillmode": "overlay",
             "size": 10,
             "solidity": 0.2
            },
            "type": "scatter"
           }
          ],
          "scatter3d": [
           {
            "line": {
             "colorbar": {
              "outlinewidth": 0,
              "ticks": ""
             }
            },
            "marker": {
             "colorbar": {
              "outlinewidth": 0,
              "ticks": ""
             }
            },
            "type": "scatter3d"
           }
          ],
          "scattercarpet": [
           {
            "marker": {
             "colorbar": {
              "outlinewidth": 0,
              "ticks": ""
             }
            },
            "type": "scattercarpet"
           }
          ],
          "scattergeo": [
           {
            "marker": {
             "colorbar": {
              "outlinewidth": 0,
              "ticks": ""
             }
            },
            "type": "scattergeo"
           }
          ],
          "scattergl": [
           {
            "marker": {
             "colorbar": {
              "outlinewidth": 0,
              "ticks": ""
             }
            },
            "type": "scattergl"
           }
          ],
          "scattermap": [
           {
            "marker": {
             "colorbar": {
              "outlinewidth": 0,
              "ticks": ""
             }
            },
            "type": "scattermap"
           }
          ],
          "scattermapbox": [
           {
            "marker": {
             "colorbar": {
              "outlinewidth": 0,
              "ticks": ""
             }
            },
            "type": "scattermapbox"
           }
          ],
          "scatterpolar": [
           {
            "marker": {
             "colorbar": {
              "outlinewidth": 0,
              "ticks": ""
             }
            },
            "type": "scatterpolar"
           }
          ],
          "scatterpolargl": [
           {
            "marker": {
             "colorbar": {
              "outlinewidth": 0,
              "ticks": ""
             }
            },
            "type": "scatterpolargl"
           }
          ],
          "scatterternary": [
           {
            "marker": {
             "colorbar": {
              "outlinewidth": 0,
              "ticks": ""
             }
            },
            "type": "scatterternary"
           }
          ],
          "surface": [
           {
            "colorbar": {
             "outlinewidth": 0,
             "ticks": ""
            },
            "colorscale": [
             [
              0,
              "#0d0887"
             ],
             [
              0.1111111111111111,
              "#46039f"
             ],
             [
              0.2222222222222222,
              "#7201a8"
             ],
             [
              0.3333333333333333,
              "#9c179e"
             ],
             [
              0.4444444444444444,
              "#bd3786"
             ],
             [
              0.5555555555555556,
              "#d8576b"
             ],
             [
              0.6666666666666666,
              "#ed7953"
             ],
             [
              0.7777777777777778,
              "#fb9f3a"
             ],
             [
              0.8888888888888888,
              "#fdca26"
             ],
             [
              1,
              "#f0f921"
             ]
            ],
            "type": "surface"
           }
          ],
          "table": [
           {
            "cells": {
             "fill": {
              "color": "#EBF0F8"
             },
             "line": {
              "color": "white"
             }
            },
            "header": {
             "fill": {
              "color": "#C8D4E3"
             },
             "line": {
              "color": "white"
             }
            },
            "type": "table"
           }
          ]
         },
         "layout": {
          "annotationdefaults": {
           "arrowcolor": "#2a3f5f",
           "arrowhead": 0,
           "arrowwidth": 1
          },
          "autotypenumbers": "strict",
          "coloraxis": {
           "colorbar": {
            "outlinewidth": 0,
            "ticks": ""
           }
          },
          "colorscale": {
           "diverging": [
            [
             0,
             "#8e0152"
            ],
            [
             0.1,
             "#c51b7d"
            ],
            [
             0.2,
             "#de77ae"
            ],
            [
             0.3,
             "#f1b6da"
            ],
            [
             0.4,
             "#fde0ef"
            ],
            [
             0.5,
             "#f7f7f7"
            ],
            [
             0.6,
             "#e6f5d0"
            ],
            [
             0.7,
             "#b8e186"
            ],
            [
             0.8,
             "#7fbc41"
            ],
            [
             0.9,
             "#4d9221"
            ],
            [
             1,
             "#276419"
            ]
           ],
           "sequential": [
            [
             0,
             "#0d0887"
            ],
            [
             0.1111111111111111,
             "#46039f"
            ],
            [
             0.2222222222222222,
             "#7201a8"
            ],
            [
             0.3333333333333333,
             "#9c179e"
            ],
            [
             0.4444444444444444,
             "#bd3786"
            ],
            [
             0.5555555555555556,
             "#d8576b"
            ],
            [
             0.6666666666666666,
             "#ed7953"
            ],
            [
             0.7777777777777778,
             "#fb9f3a"
            ],
            [
             0.8888888888888888,
             "#fdca26"
            ],
            [
             1,
             "#f0f921"
            ]
           ],
           "sequentialminus": [
            [
             0,
             "#0d0887"
            ],
            [
             0.1111111111111111,
             "#46039f"
            ],
            [
             0.2222222222222222,
             "#7201a8"
            ],
            [
             0.3333333333333333,
             "#9c179e"
            ],
            [
             0.4444444444444444,
             "#bd3786"
            ],
            [
             0.5555555555555556,
             "#d8576b"
            ],
            [
             0.6666666666666666,
             "#ed7953"
            ],
            [
             0.7777777777777778,
             "#fb9f3a"
            ],
            [
             0.8888888888888888,
             "#fdca26"
            ],
            [
             1,
             "#f0f921"
            ]
           ]
          },
          "colorway": [
           "#636efa",
           "#EF553B",
           "#00cc96",
           "#ab63fa",
           "#FFA15A",
           "#19d3f3",
           "#FF6692",
           "#B6E880",
           "#FF97FF",
           "#FECB52"
          ],
          "font": {
           "color": "#2a3f5f"
          },
          "geo": {
           "bgcolor": "white",
           "lakecolor": "white",
           "landcolor": "white",
           "showlakes": true,
           "showland": true,
           "subunitcolor": "#C8D4E3"
          },
          "hoverlabel": {
           "align": "left"
          },
          "hovermode": "closest",
          "mapbox": {
           "style": "light"
          },
          "paper_bgcolor": "white",
          "plot_bgcolor": "white",
          "polar": {
           "angularaxis": {
            "gridcolor": "#EBF0F8",
            "linecolor": "#EBF0F8",
            "ticks": ""
           },
           "bgcolor": "white",
           "radialaxis": {
            "gridcolor": "#EBF0F8",
            "linecolor": "#EBF0F8",
            "ticks": ""
           }
          },
          "scene": {
           "xaxis": {
            "backgroundcolor": "white",
            "gridcolor": "#DFE8F3",
            "gridwidth": 2,
            "linecolor": "#EBF0F8",
            "showbackground": true,
            "ticks": "",
            "zerolinecolor": "#EBF0F8"
           },
           "yaxis": {
            "backgroundcolor": "white",
            "gridcolor": "#DFE8F3",
            "gridwidth": 2,
            "linecolor": "#EBF0F8",
            "showbackground": true,
            "ticks": "",
            "zerolinecolor": "#EBF0F8"
           },
           "zaxis": {
            "backgroundcolor": "white",
            "gridcolor": "#DFE8F3",
            "gridwidth": 2,
            "linecolor": "#EBF0F8",
            "showbackground": true,
            "ticks": "",
            "zerolinecolor": "#EBF0F8"
           }
          },
          "shapedefaults": {
           "line": {
            "color": "#2a3f5f"
           }
          },
          "ternary": {
           "aaxis": {
            "gridcolor": "#DFE8F3",
            "linecolor": "#A2B1C6",
            "ticks": ""
           },
           "baxis": {
            "gridcolor": "#DFE8F3",
            "linecolor": "#A2B1C6",
            "ticks": ""
           },
           "bgcolor": "white",
           "caxis": {
            "gridcolor": "#DFE8F3",
            "linecolor": "#A2B1C6",
            "ticks": ""
           }
          },
          "title": {
           "x": 0.05
          },
          "xaxis": {
           "automargin": true,
           "gridcolor": "#EBF0F8",
           "linecolor": "#EBF0F8",
           "ticks": "",
           "title": {
            "standoff": 15
           },
           "zerolinecolor": "#EBF0F8",
           "zerolinewidth": 2
          },
          "yaxis": {
           "automargin": true,
           "gridcolor": "#EBF0F8",
           "linecolor": "#EBF0F8",
           "ticks": "",
           "title": {
            "standoff": 15
           },
           "zerolinecolor": "#EBF0F8",
           "zerolinewidth": 2
          }
         }
        },
        "title": {
         "text": "Loss History"
        },
        "width": 800,
        "xaxis": {
         "title": {
          "text": "Epoch"
         }
        },
        "yaxis": {
         "title": {
          "text": "Loss (log‑scale)"
         },
         "type": "log"
        }
       }
      }
     },
     "metadata": {},
     "output_type": "display_data"
    },
    {
     "name": "stdout",
     "output_type": "stream",
     "text": [
      "L2 Error:  1.0758901\n"
     ]
    }
   ],
   "source": [
    "with_spinn = trainer.closure.get_state()\n",
    "plot_loss(with_spinn, smooth=True, smooth_window=50)\n",
    "\n",
    "spinn_l2 = compare_with_mc(model, params, n_prices=200,\n",
    "                           n_simulations=10_000, dtype=dtype, device=device, seed=42)['l2_rel_error']\n",
    "print(\"L2 Error: \", spinn_l2*100)"
   ]
  },
  {
   "cell_type": "markdown",
   "id": "9b9a0f69",
   "metadata": {},
   "source": [
    "## With NN+Anzats"
   ]
  },
  {
   "cell_type": "code",
   "execution_count": null,
   "id": "1cea1895",
   "metadata": {},
   "outputs": [
    {
     "name": "stderr",
     "output_type": "stream",
     "text": [
      "Adam training: 100%|██████████| 500/500 [01:33<00:00,  5.37it/s, Interior=0.000012, Boundary=0.000012, Initial=0.000134, Total=0.000158, Max Error=3.4232902527, L2 Error=0.0058265072]  \n",
      "LBFGS training: 100%|█████████▉| 999/1000 [07:13<00:00,  2.30it/s, Interior=0.000027, Boundary=0.000010, Initial=0.000110, Total=0.000147, Max Error=2.746403, L2 Error=0.004310]\n"
     ]
    }
   ],
   "source": [
    "model = NNAnzats(n_layers=3, input_dim=assets+1, hidden_dim=64,\n",
    "                 output_dim=1, dtype=dtype).apply(weights_init).to(device)\n",
    "\n",
    "dataset = SampledDataset(\n",
    "    params, adam_interior_samples, adam_initial_samples, adam_boundary_samples, sampler, dtype, device, seed=0)\n",
    "\n",
    "optimizer = torch.optim.Adam(model.parameters(), lr=1e-2, amsgrad=True)\n",
    "preconditioner = kfac.preconditioner.KFACPreconditioner(model)\n",
    "\n",
    "closure = DimlessBS()\\\n",
    "    .with_dataset(dataset, loader_opts={'batch_size': adam_batch_size, \"shuffle\": True, \"pin_memory\": True})\\\n",
    "    .with_model(model)\\\n",
    "    .with_device(device)\\\n",
    "    .with_dtype(dtype)\n",
    "\n",
    "trainer = PINNTrainer()\\\n",
    "    .with_optimizer(optimizer)\\\n",
    "    .with_device(device)\\\n",
    "    .with_dtype(dtype)\\\n",
    "    .with_training_step(closure)\\\n",
    "    .with_preconditioner(preconditioner)\\\n",
    "    .with_epochs(adam_total_iter)\\\n",
    "\n",
    "# first training stage\n",
    "trainer.train()"
   ]
  },
  {
   "cell_type": "code",
   "execution_count": null,
   "id": "6491f14d",
   "metadata": {},
   "outputs": [
    {
     "data": {
      "application/vnd.plotly.v1+json": {
       "config": {
        "plotlyServerURL": "https://plot.ly"
       },
       "data": [
        {
         "line": {
          "color": "#08306B"
         },
         "mode": "lines",
         "name": "PDE Loss",
         "type": "scatter",
         "x": {
          "bdata": "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",
          "dtype": "i2"
         },
         "y": {
          "bdata": "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",
          "dtype": "f8"
         }
        },
        {
         "line": {
          "color": "#3182BD"
         },
         "mode": "lines",
         "name": "Boundary Loss",
         "type": "scatter",
         "x": {
          "bdata": "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",
          "dtype": "i2"
         },
         "y": {
          "bdata": "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",
          "dtype": "f8"
         }
        },
        {
         "line": {
          "color": "#9ECAE1"
         },
         "mode": "lines",
         "name": "Initial Loss",
         "type": "scatter",
         "x": {
          "bdata": "AAABAAIAAwAEAAUABgAHAAgACQAKAAsADAANAA4ADwAQABEAEgATABQAFQAWABcAGAAZABoAGwAcAB0AHgAfACAAIQAiACMAJAAlACYAJwAoACkAKgArACwALQAuAC8AMAAxADIAMwA0ADUANgA3ADgAOQA6ADsAPAA9AD4APwBAAEEAQgBDAEQARQBGAEcASABJAEoASwBMAE0ATgBPAFAAUQBSAFMAVABVAFYAVwBYAFkAWgBbAFwAXQBeAF8AYABhAGIAYwBkAGUAZgBnAGgAaQBqAGsAbABtAG4AbwBwAHEAcgBzAHQAdQB2AHcAeAB5AHoAewB8AH0AfgB/AIAAgQCCAIMAhACFAIYAhwCIAIkAigCLAIwAjQCOAI8AkACRAJIAkwCUAJUAlgCXAJgAmQCaAJsAnACdAJ4AnwCgAKEAogCjAKQApQCmAKcAqACpAKoAqwCsAK0ArgCvALAAsQCyALMAtAC1ALYAtwC4ALkAugC7ALwAvQC+AL8AwADBAMIAwwDEAMUAxgDHAMgAyQDKAMsAzADNAM4AzwDQANEA0gDTANQA1QDWANcA2ADZANoA2wDcAN0A3gDfAOAA4QDiAOMA5ADlAOYA5wDoAOkA6gDrAOwA7QDuAO8A8ADxAPIA8wD0APUA9gD3APgA+QD6APsA/AD9AP4A/wAAAQEBAgEDAQQBBQEGAQcBCAEJAQoBCwEMAQ0BDgEPARABEQESARMBFAEVARYBFwEYARkBGgEbARwBHQEeAR8BIAEhASIBIwEkASUBJgEnASgBKQEqASsBLAEtAS4BLwEwATEBMgEzATQBNQE2ATcBOAE5AToBOwE8AT0BPgE/AUABQQFCAUMBRAFFAUYBRwFIAUkBSgFLAUwBTQFOAU8BUAFRAVIBUwFUAVUBVgFXAVgBWQFaAVsBXAFdAV4BXwFgAWEBYgFjAWQBZQFmAWcBaAFpAWoBawFsAW0BbgFvAXABcQFyAXMBdAF1AXYBdwF4AXkBegF7AXwBfQF+AX8BgAGBAYIBgwGEAYUBhgGHAYgBiQGKAYsBjAGNAY4BjwGQAZEBkgGTAZQBlQGWAZcBmAGZAZoBmwGcAZ0BngGfAaABoQGiAaMBpAGlAaYBpwGoAakBqgGrAawBrQGuAa8BsAGxAbIBswG0AbUBtgG3AbgBuQG6AbsBvAG9Ab4BvwHAAcEBwgHDAcQBxQHGAccByAHJAcoBywHMAc0BzgHPAdAB0QHSAdMB1AHVAdYB1wHYAdkB2gHbAdwB3QHeAd8B4AHhAeIB4wHkAeUB5gHnAegB6QHqAesB7AHtAe4B7wHwAfEB8gHzAfQB9QH2AfcB+AH5AfoB+wH8Af0B/gH/AQACAQICAgMCBAIFAgYCBwIIAgkCCgILAgwCDQIOAg8CEAIRAhICEwIUAhUCFgIXAhgCGQIaAhsCHAIdAh4CHwIgAiECIgIjAiQCJQImAicCKAIpAioCKwIsAi0CLgIvAjACMQIyAjMCNAI1AjYCNwI4AjkCOgI7AjwCPQI+Aj8CQAJBAkICQwJEAkUCRgJHAkgCSQJKAksCTAJNAk4CTwJQAlECUgJTAlQCVQJWAlcCWAJZAloCWwJcAl0CXgJfAmACYQJiAmMCZAJlAmYCZwJoAmkCagJrAmwCbQJuAm8CcAJxAnICcwJ0AnUCdgJ3AngCeQJ6AnsCfAJ9An4CfwKAAoECggKDAoQChQKGAocCiAKJAooCiwKMAo0CjgKPApACkQKSApMClAKVApYClwKYApkCmgKbApwCnQKeAp8CoAKhAqICowKkAqUCpgKnAqgCqQKqAqsCrAKtAq4CrwKwArECsgKzArQCtQK2ArcCuAK5AroCuwK8Ar0CvgK/AsACwQLCAsMCxALFAsYCxwLIAskCygLLAswCzQLOAs8C0ALRAtIC0wLUAtUC1gLXAtgC2QLaAtsC3ALdAt4C3wLgAuEC4gLjAuQC5QLmAucC6ALpAuoC6wLsAu0C7gLvAvAC8QLyAvMC9AL1AvYC9wL4AvkC+gL7AvwC/QL+Av8CAAMBAwIDAwMEAwUDBgMHAwgDCQMKAwsDDAMNAw4DDwMQAxEDEgMTAxQDFQMWAxcDGAMZAxoDGwMcAx0DHgMfAyADIQMiAyMDJAMlAyYDJwMoAykDKgMrAywDLQMuAy8DMAMxAzIDMwM0AzUDNgM3AzgDOQM6AzsDPAM9Az4DPwNAA0EDQgNDA0QDRQNGA0cDSANJA0oDSwNMA00DTgNPA1ADUQNSA1MDVANVA1YDVwNYA1kDWgNbA1wDXQNeA18DYANhA2IDYwNkA2UDZgNnA2gDaQNqA2sDbANtA24DbwNwA3EDcgNzA3QDdQN2A3cDeAN5A3oDewN8A30DfgN/A4ADgQOCA4MDhAOFA4YDhwOIA4kDigOLA4wDjQOOA48DkAORA5IDkwOUA5UDlgOXA5gDmQOaA5sDnAOdA54DnwOgA6EDogOjA6QDpQOmA6cDqAOpA6oDqwOsA60DrgOvA7ADsQOyA7MDtAO1A7YDtwO4A7kDugO7A7wDvQO+A78DwAPBA8IDwwPEA8UDxgPHA8gDyQPKA8sDzAPNA84DzwPQA9ED0gPTA9QD1QPWA9cD2APZA9oD2wPcA90D3gPfA+AD4QPiA+MD5APlA+YD5wPoA+kD6gPrA+wD7QPuA+8D8APxA/ID8wP0A/UD9gP3A/gD+QP6A/sD/AP9A/4D/wMABAEEAgQDBAQEBQQGBAcECAQJBAoECwQMBA0EDgQPBBAEEQQSBBMEFAQVBBYEFwQYBBkEGgQbBBwEHQQeBB8EIAQhBCIEIwQkBCUEJgQnBCgEKQQqBCsELAQtBC4ELwQwBDEEMgQzBDQENQQ2BDcEOAQ5BDoEOwQ8BD0EPgQ/BEAEQQRCBEMERARFBEYERwRIBEkESgRLBEwETQROBE8EUARRBFIEUwRUBFUEVgRXBFgEWQRaBFsEXARdBF4EXwRgBGEEYgRjBGQEZQRmBGcEaARpBGoEawRsBG0EbgRvBHAEcQRyBHMEdAR1BHYEdwR4BHkEegR7BHwEfQR+BH8EgASBBIIEgwSEBIUEhgSHBIgEiQSKBIsEjASNBI4EjwSQBJEEkgSTBJQElQSWBJcEmASZBJoEmwScBJ0EngSfBKAEoQSiBKMEpASlBKYEpwSoBKkEqgSrBKwErQSuBK8EsASxBLIEswS0BLUEtgS3BLgEuQS6BLsEvAS9BL4EvwTABMEEwgTDBMQExQTGBMcEyATJBMoEywTMBM0EzgTPBNAE0QTSBNME1ATVBNYE1wTYBNkE2gTbBNwE3QTeBN8E4AThBOIE4wTkBOUE5gTnBOgE6QTqBOsE7ATtBO4E7wTwBPEE8gTzBPQE9QT2BPcE+AT5BPoE+wT8BP0E/gT/BAAFAQUCBQMFBAUFBQYFBwUIBQkFCgULBQwFDQUOBQ8FEAURBRIFEwUUBRUFFgUXBRgFGQUaBRsFHAUdBR4FHwUgBSEFIgUjBSQFJQUmBScFKAUpBSoFKwUsBS0FLgUvBTAFMQUyBTMFNAU1BTYFNwU4BTkFOgU7BTwFPQU+BT8FQAVBBUIFQwVEBUUFRgVHBUgFSQVKBUsFTAVNBU4FTwVQBVEFUgVTBVQFVQVWBVcFWAVZBVoFWwVcBV0FXgVfBWAFYQViBWMFZAVlBWYFZwVoBWkFagVrBWwFbQVuBW8FcAVxBXIFcwV0BXUFdgV3BXgFeQV6BXsFfAV9BX4FfwWABYEFggWDBYQFhQWGBYcFiAWJBYoFiwWMBY0FjgWPBZAFkQWSBZMFlAWVBZYFlwWYBZkFmgWbBZwFnQWeBZ8FoAWhBaIFowWkBaUFpgWnBagFqQWqBasFrAWtBa4FrwWwBbEFsgWzBbQFtQW2BbcFuAW5BboFuwW8Bb0FvgW/BcAFwQXCBcMFxAXFBcYFxwXIBckFygXLBcwFzQXOBc8F0AXRBdIF0wXUBdUF1gXXBdgF2QXaBdsF",
          "dtype": "i2"
         },
         "y": {
          "bdata": "4XoUDp+HKD/hehQOn4coP+F6FA6fhyg/4XoUDp+HKD/hehQOn4coP+F6FA6fhyg/4XoUDp+HKD/hehQOn4coP+F6FA6fhyg/4XoUDp+HKD/hehQOn4coP+F6FA6fhyg/4XoUDp+HKD/hehQOn4coP+F6FA6fhyg/4XoUDp+HKD/hehQOn4coP+F6FA6fhyg/4XoUDp+HKD/hehQOn4coP+F6FA6fhyg/4XoUDp+HKD/hehQOn4coP+F6FA6fhyg/4XoUDp+HKD/hehQOn4coP+F6FA6fhyg/4XoUDp+HKD/hehQOn4coP+F6FA6fhyg/4XoUDp+HKD/hehQOn4coP+F6FA6fhyg/4XoUDp+HKD/hehQOn4coP+F6FA6fhyg/4XoUDp+HKD/hehQOn4coP+F6FA6fhyg/4XoUDp+HKD/hehQOn4coP+F6FA6fhyg/4XoUDp+HKD/hehQOn4coP+F6FA6fhyg/4XoUDp+HKD/hehQOn4coP+F6FA6fhyg/4XoUDp+HKD/hehQOn4coP+F6FO482SY/exSuJ1zVJj+PwvU4ltEmPwrXo0DfzSY/SOF69BzKJj/2KFzfaMYmPzMzMzPNwiY/w/UovC6/Jj9I4Xq0d7smPz0K1wOjtyY/cT0KB7mzJj/2KFwvvq8mPylcj4KzqyY/w/UovJqnJj8pXI/CcqMmP+F6FF47nyY/SOF6FPWaJj/sUbiOoZYmP1yPwpVBkiY/UrgepdKNJj+F61FYUIkmP3sUrle6hCY/j8L1eBeAJj8pXI/iaXsmPz0K17OvdiY/KVyPEudxJj9I4Xq0EG0mP4XrUcgvaCY/hetRyEZjJj/hehTeVF4mPylcj4JXWSY/16NwHU5UJj/NzMwsPE8mP0jhepQkSiY/mpmZqQVFJj9I4XrE3T8mP3sUrvetOiY/zczMfHM1Jj8K16MwKzAmP8P1KOzVKiY/16Nw7XYlJj97FK73ECAmP9ejcM2gGiY/PQrXsyEVJj/D9SiskQ8mPylcj5L1CSY/4XoULlMEJj9cj8KFrP4lPz0K12MA+SU/AAAAYEvzJT97FK4nje0lPx+F6xHI5yU/zczMfP7hJT9SuB7lMNwlP1yPwmVg1iU/FK5HEY/QJT/2KFzPvcolP2ZmZgbqxCU/UrgexRC/JT+uR+GKMbklPwAAAEBPsyU/UrgexWutJT+amZm5hqclPylcj0KfoSU/XI/CBbabJT8AAAAgy5UlP2ZmZjbejyU/ZmZmFu6JJT/Xo3DN+YMlP3E9CmcCfiU/7FG4Dgt4JT8pXI9iFXIlP1K4HvUfbCU/zczMDClmJT/sUbjuMGAlPwAAAFA3WiU/PQrXMzpUJT+4HoV7OE4lP+F6FF4zSCU/7FG4vi5CJT8K16MgLTwlP0jhelQuNiU/H4XrITAwJT9xPQpXMColP5qZmbktJCU/rkfh2igeJT8zMzMjJBglPxSuRyEiEiU/16NwfSUMJT9cj8K1LgYlP3E9Chc8ACU/w/Uo7Ez6JD/Xo3D9YfQkPylcjyJ87iQ/FK5HMZzoJD/sUbgOwuIkP1K4HjXt3CQ/mpmZ2RzXJD8K16MQUNEkP9ejcJ2IyyQ/SOF6xMnFJD/D9SjsFcAkP1yPwkVsuiQ/16Nwfcm0JD8UrkcRKa8kP4XrUWiIqSQ/ZmZmBuijJD+kcD2aSp4kP0jheuSxmCQ/KVyPohyTJD9mZmbmiI0kP+xRuM72hyQ/PQrXY2eCJD+amZl523wkPxSuR1FTdyQ/Ctej0M9xJD8AAACwUmwkPzMzM5PdZiQ/4XoUTnFhJD/sUbjuDFwkPwrXoxCuViQ/SOF6FFNRJD9mZmbG+0skP5qZmWmqRiQ/Urge5WFBJD9I4Xp0JDwkP6RwPTryNiQ/uB6F68gxJD/NzMzcpSwkP/YoXE+IJyQ/uB6FS3EiJD89CteTYh0kP3sUrvdbGCQ/Ctej4FwTJD9xPQr3ZQ4kPz0K1/N4CSQ/PQrXg5YEJD8pXI+Cvf8jP83MzLzs+iM/UrgepST2Iz9xPQp3ZfEjP7gehSuu7CM/cT0Kt//nIz+PwvV4XeMjP8P1KKzJ3iM/PQrXo0LaIz+4HoW7xdUjP9ejcF1T0SM/UrgeRe3MIz+F61HYk8gjP1K4HkVExCM/4XoUPvy/Iz+uR+FqvLsjP0jhejSItyM/rkfhOmOzIz9I4XqETa8jP1K4HhVGqyM/7FG4vkynIz8zMzNDY6MjP65H4aqLnyM/uB6FW8abIz+amZl5EZgjP1yPwgVslCM/zczMrNaQIz+amZmZUo0jP65H4drfiSM/hetRCH6GIz+uR+EKLYMjP3E9CgftfyM/7FG4Lr18Iz+kcD3qnHkjP6RwPQqMdiM/AAAAIIxzIz+4HoVbnnAjPwAAAEDCbSM/pHA9yvVqIz/sUbhuOGgjPx+F6/GJZSM/pHA9KupiIz+PwvWoWGAjP/YoXL/VXSM/UrgeRWFbIz+amZlZ+lgjP9ejcO2fViM/7FG4jlJUIz97FK5nElIjP7gehRveTyM/rkfharRNIz8fhevBlEsjP3sUrheASSM/4XoUPnhHIz9SuB7lfEUjP3sUrgeNQyM/zczMPKdBIz+F61H4yD8jPylcj4LxPSM/MzMzAyE8Iz9mZmamVzojP+xRuN6UOCM/pHA9qtg2Iz+F61FIJDUjP+F6FA54MyM/mpmZ+dIxIz/NzMx8MzAjP4XrUbiYLiM/7FG4zgQtIz8K16OgeCsjPz0K1+PyKSM/16NwXXAoIz+kcD1K7yYjP7gehVtwJSM/pHA9KvYjIz+PwvWYgSIjP+F6FJ4RISM/pHA9+qMfIz+kcD26OB4jPwrXo0DQHCM/KVyPUmkbIz+kcD0KAxojP0jhegSeGCM/w/UojDoXIz+amZmp2BUjPx+F62F3FCM/KVyPkhQTIz9I4XokrxEjP4/C9YhIECM/j8L1aOIOIz89CtfDfA0jP4/C9ZgZDCM/exSup7gKIz9xPQpXVgkjPwAAAKDyByM/4XoULpAGIz+PwvVYLwUjP4/C9TjPAyM/9ihcD24CIz+F61EYDAEjP3E9Cmer/yI/Ctej4Ez+Ij+uR+Eq7vwiP83MzKyO+yI/zczM3C/6Ij/Xo3D90fgiP83MzEx09yI/SOF6FBb2Ij+F61HouPQiP3E9Cqde8yI/MzMzwwXyIj8UrkdhrfAiP/YoXL9V7yI/ZmZmdv7tIj/sUbhuqOwiPwrXo1BT6yI/AAAAMP7pIj+4HoUbqegiP83MzIxS5yI/pHA9WvvlIj+amZkZouQiP2ZmZvZI4yI/16NwLfDhIj9mZmaWl+AiP3sUrpc/3yI/PQrXw+XdIj8fhesBitwiPx+F62Et2yI/XI/Cxc/ZIj/sUbhectgiPz0K14MU1yI/FK5HYbXVIj8AAACQVNQiPz0K1wPy0iI/SOF6BI/RIj+F61FILNAiP65H4ZrJziI/rkfhamfNIj8zMzPzBMwiP1K4HmWgyiI/9ihcbzvJIj8K16Nw1cciP83MzOxtxiI/w/UobAfFIj9I4XokocMiP1yPwuU5wiI/7FG4rtLAIj+amZlZar8iP83MzAwBviI/ZmZmRpe8Ij9xPQqHLLsiP3sUrvfAuSI/exSu51S4Ij89CtcT6LYiPylcj3J6tSI/KVyPEgy0Ij+PwvV4nLIiP6RwPTossSI/pHA9OruvIj/NzMwsSK4iP4XrUUjUrCI/exSul16rIj+amZnZ5qkiP6RwPRptqCI/hetR+PGmIj+kcD1qdKUiP8P1KFz1oyI/PQrXo3SiIj/2KFyP8qAiP3E9CldvnyI/AAAAsOudIj9mZmZWZ5wiPwrXo4DimiI/UrgeBV2ZIj/D9SiM1pciP65H4VpPliI/XI/CdceUIj+F61E4PpMiPwrXo4C0kSI/exSu1ymQIj8fhetxno4iP+F6FM4SjSI/16NwnYaLIj/hehQu+okiP0jheqRtiCI/rkfhWuCGIj/2KFzPUoUiP8P1KBzFgyI/CtejgDaCIj/D9Sisp4AiPxSuR4EYfyI/9ihcX4h9Ij8zMzMz+HsiP5qZmRlneiI/pHA9atV4Ij+kcD2qQ3ciP+F6FB6xdSI/rkfhih50Ij+uR+GKi3IiP7gehRv4cCI/j8L1eGRvIj+4HoWL0G0iP/YoXF88bCI/mpmZSahqIj8fhevhE2kiPylcj7J/ZyI/AAAAAOtlIj+amZl5VmQiP+F6FD7BYiI/XI/C5SxhIj9I4Xqkl18iP65H4YoDXiI/MzMzk25cIj/D9SiM2loiPx+F6/FFWSI/uB6FC7JXIj+kcD3KHlYiP8P1KCyLVCI/cT0Kp/hSIj/NzMycZVEiP6RwPSrTTyI/16Nw7UBOIj9mZmZ2rkwiP/YoXI8cSyI/cT0KV4pJIj/Xo3Ct+EciP+F6FP5mRiI/FK5HMdVEIj+uR+HKQ0MiPzMzM0OyQSI/ZmZm1iBAIj8UrkeRjz4iP6RwPcr9PCI/7FG4Xmw7Ij+F61HI2jkiP4XrUVhJOCI/cT0KN7g2Ij9SuB6lJjUiP0jhemSVMyI/SOF6JAQyIj/Xo3DdcjAiPzMzM8PhLiI/9ihcf1AtIj/Xo3A9vysiPwrXoyAuKiI/pHA9mpwoIj+kcD06CyciP83MzMx5JSI/mpmZaegjIj+uR+HqViIiP5qZmYnFICI/j8L1GDQfIj8UrkfBoh0iPwrXo2ARHCI/SOF6xH8aIj/2KFx/7hgiP1K4HoVcFyI/7FG4XsoVIj/hehQeOBQiP5qZmSmlEiI/j8L12BIRIj+uR+Fqfw8iP3sUrufsDSI/exSuh1kMIj8zMzNjxgoiPzMzMyMzCSI/KVyPUp8HIj8AAAAADAYiP83MzNx3BCI/CtejIOQCIj97FK43UAEiP/YoXP+7/yE/SOF65Cf+IT+F61GIk/whP3sUrkf/+iE/AAAAsGr5IT+kcD0a1vchP+xRuJ5B9iE/UrgeBa30IT9SuB5VGPMhP5qZmamD8SE/XI/C9e7vIT+kcD06Wu4hP3sUrpfF7CE/rkfhyjDrIT9xPQoXnOkhP6RwPToH6CE/cT0Kp3LmIT+PwvX43eQhP1K4HnVJ4yE/j8L16LThIT8zMzNDIOAhP4XrUciL3iE/XI/CJffcIT/D9SjcYtshPz0K12PO2SE/16NwXTrYIT+PwvXYpdYhP3sUrtcR1SE/H4XrgX3TIT/Xo3Ct6dEhP6RwPVpV0CE/mpmZmcHOIT9xPQpXLc0hP2ZmZqaZyyE/rkfhigXKIT9cj8JVcsghP4XrUVjfxiE/hetR2EzFIT9I4XqUusMhP7gehYsowiE/H4XroZbAIT/sUbj+BL8hP1yPwjUibiI/ZmZmdk4dIz/2KFzPe8wjP/YoXF+xeyQ/7FG4bu8qJT+F61FYNtolP4/C9RiGiSY/pHA9+t84Jz97FK4XRegnP0jhetS5lyg/exSutztHKT/NzMzsyPYpP2ZmZgZipio/UrgeNQlWKz89CtfTxgUsP9ejcL2ftSw/w/UoDJtlLT+4HoWLphUuPwAAALDAxS4/H4XrYeh1Lz9I4XqMEhMwP7gehXM+azA/KVyPon7DMD8fheshzRsxP1K4HiUldDE/rkfhioXMMT+F61E49SQyP9ejcJ1zfTI/w/Uo/PjVMj/D9SjkhS4zP7gehcMbhzM/ZmZmzrvfMz9SuB7FYzg0P1yPwrUTkTQ/uB6F087pND8UrkfZmUI1P+xRuN5xmzU/zczM3FX0NT+F61HgRU02P2ZmZjZCpjY/exSuT0b/Nj+4HoXjT1g3P1K4HlVgsTc/w/UopHwKOD+F61HwqGM4P4/C9aDovDg/exSuhzgWOT9cj8KVlG85P9ejcGX7yDk/7FG4/nMiOj+uR+GqpSM6Pz0K1yPYJDo/FK5HoRAmOj/D9SisTCc6P65H4YqUKDo/16NwregpOj+kcD1aQys6P7gehWurLDo/exSuRxEuOj9SuB7Vey86P6RwPbroMDo/SOF61E8yOj+4HoUbsjM6P+xRuF4PNTo/exSuZ2Y2Oj9I4XpEtTc6PwrXo4D7ODo/KVyPskQ6Oj8fhevhkTs6P83MzMzmPDo/MzMzYzQ+Oj/NzMxMeT86P1K4HvWtQDo/XI/CpdhBOj/NzMw8/kI6P83MzNweRDo/4XoUvjFFOj9mZmbmNEY6PzMzM6MuRzo/cT0Kxx9IOj/2KFz/CUk6PwAAADDtSTo/cT0KV8xKOj/sUbhOpks6P83MzHx3TDo/MzMzsztNOj9xPQon+U06P+xRuF60Tjo/XI/CxXFPOj+amZkZL1A6P1yPwhXrUDo/w/Uo3KRROj9cj8IlW1I6P+F6FG4EUzo/Urge9ZpTOj/D9Sh8BVQ6PzMzM3NAVDo/FK5H4U5UOj89CtcDS1Q6P3E9Cpc2VDo/XI/CBRdUOj+4HoUL81M6P8P1KOzKUzo/CtejQJlTOj+kcD1aWFM6P5qZmakNUzo/UrgehbFSOj9SuB4FLlI6P4XrURiAUTo/9ihc75pQOj89CtfTkk86P/YoXD+YTjo/7FG4fqZNOj/hehQ+vUw6P+F6FF7RSzo/7FG4LuJKOj/D9Sjc5kk6P6RwPWrcSDo/w/UozLRHOj8zMzPjc0Y6P1yPwnUPRTo/UrgeBZtDOj97FK7nHkI6P3sUroeZQDo/CtejYA0/Oj/Xo3DNeT06P5qZmennOzo/KVyPMlo6Oj97FK4nwjg6P3E9CqckNzo/rkfhul01Oj+F61HYRzM6Px+F67HqMDo/mpmZmVwuOj8UrkcR0Cs6PzMzM1NJKTo/zczMLLomOj9xPQrXHiQ6Px+F60FzITo/FK5HwZ4eOj8K16MAnhs6P6RwPZpXGDo/uB6Fe9sUOj8fhetRSBE6P+F6FC6oDTo/w/Uo7CAKOj9xPQoHsAY6P+xRuC5HAzo/Urgedcv/OT+PwvVYPvw5P+F6FG6x+Dk/16NwbSn1OT/hehQOpvE5P65H4eom7jk/pHA9OqnqOT+kcD1KIOc5P65H4fqV4zk/FK5HEQPgOT+4HoVrXNw5Pz0K14Nx2Dk/w/UoHDvUOT9mZmZ2s885P3sUrrctyzk/rkfhKp/GOT8UrkehGcI5P9ejcC2MvTk/AAAAEPK4OT8pXI8CNbQ5P4XrUchfrzk/KVyPokiqOT+uR+GK0aQ5P3E9Cgdpnjk/SOF6hMiXOT/sUbi+eJE5P1K4HtXuijk/ZmZmRhaEOT+uR+FqNn05P7gehYtmdjk/SOF6JIFvOT8fhethgGg5P4XrUTjBYTk/KVyP8mdbOT8zMzNzQlU5P4XrUYg1Tzk/XI/ClStJOT9cj8KVIkM5P1yPwvUoPTk/9ihc3zU3OT/2KFx/TTE5PwrXo2BzKzk/CtejELUlOT8fhevx3h85P65H4frwGTk/7FG4LlwTOT/hehT+rww5P8P1KOynBTk/pHA9atH+OD/NzMyMGfg4PwrXowB/8Tg/MzMzQ+jqOD8fhevBPOQ4P/YoXG9u3Tg/H4XrsYjWOD/hehSuic84PwAAALBcyDg/7FG4ntvAOD/hehT+srg4P0jhehQusDg/UrgeNYmnOD8AAAAA6544PwrXowCTljg/j8L1OPGNOD89CtezUIU4P5qZmdm9fDg/SOF6FF1zOD8K16PAwWk4P1K4HtVmYDg/hetRaHxXOD8zMzPTk044P1yPwnXNRTg/7FG4TvM8OD9SuB6VszQ4P7gehYsGLDg/uB6Fe2UjOD/2KFyvLRs4P1yPwtUXEzg/PQrXs88KOD8UrkfhNQI4P83MzByR+Tc/KVyPUsjwNz9cj8LV7+c3P+xRuK733jc/hetRmBvWNz8K16Ogfs03P7gehXsNxTc/w/UonMq8Nz/D9Shcl7Q3P2ZmZhZ4rDc/cT0KZ0mkNz9mZmYmIJw3P1K4HnX6kzc/AAAAQCuMNz8K16PglIQ3P1yPwrW3fTc/cT0KZ/x2Nz/hehT+yHA3PylcjwJqajc/j8L1OGRkNz/D9SjMQl43Pz0K18M7WDc/ZmZm1lJSNz+uR+GKjkw3P0jhelTZRjc/16NwfRNBNz+4HoWrWzs3Px+F67HiNTc/j8L1OOEwNz+kcD0KICw3P7gehctzJzc/7FG4TsoiNz8fhetRjx03Pylcj8KnFzc/UrgeRWwSNz8pXI+yjAw3P+F6FM7cBTc/cT0K1yb/Nj8fhevhgvc2Px+F6+FZ7zY/16NwnfbmNj8AAABg7942PzMzM+Or1zY/16NwjafQNj+PwvWYVso2P4XrUSiLwzY/ZmZmVuq8Nj+uR+FKXbY2P65H4RoHsDY/UrgexeOpNj9cj8KluqM2Pz0K1xNqnTY/16Nw/XeWNj/NzMzM8I42PzMzM7OzhjY/j8L12KR9Nj+PwvW4xXM2P3sUrgfeaTY/H4XrQX9fNj/2KFx/WVU2P65H4doLSzY/pHA9Oi1ANj+kcD3qTzU2P0jhelTOKTY/j8L1GCoeNj+PwvWoQhI2P/YoXF+PBjY/w/UobKH6NT/Xo3C9tO41PwrXo9BY4jU/PQrXEybWNT+4HoVb8Mk1P9ejcE3RvTU/AAAAgPyxNT97FK7nmaY1P5qZmXmrmzU/uB6Fa7GQNT9SuB7V84U1PwrXo1BzezU/ZmZmBkFxNT/Xo3D9UWc1PwrXo9C+XTU/hetRGJ5UNT8pXI8S8Us1P+F6FD5lQTU/cT0Klyo2NT/NzMxcAyw1PwrXowCpITU/7FG43vUXNT/2KFzflg41P+F6FL7yBTU/w/Uo/L/8ND8AAADw1fI0P3E9Cnfi6DQ/AAAAoBTeND9I4XqkMdM0PwAAAGDmxzQ/hetRyFO8ND+kcD36A7E0PxSuR1HGpTQ/CtejoM+aND8fhevxC5A0Pz0K17PZhTQ/uB6FOxd8ND8zMzNjMHM0P1yPwkXMajQ/KVyP0qFiND/D9SjM/1k0P3E9CkffUTQ/H4XrEUJJND9cj8JVpUA0P2ZmZnZiODQ/cT0Kl5AvND8AAAAgqiY0Pylcj7KHHDQ/MzMz88IRND8AAABQTwQ0P4XrUbg6+DM/cT0Kd1nrMz/hehR+vd4zP4/C9Qib0TM/SOF6ZLTEMz/Xo3Bdl7czP+F6FB4MqjM/uB6Fi2mcMz+PwvWo3o4zPx+F60EzgjM/UrgeZcB1Mz9mZmZWTmkzP3sUrjfYXDM/SOF6ZEtQMz9xPQrXrUMzP+xRuD4iNzM/zczM/P0qMz8pXI+C+h8zP4XrUejvFTM/AAAAAC8MMz89CteDnAIzPylcj6LT+DI/9ihc35LuMj+4HoV73+IyPylcj+II1zI/KVyPUtnKMj+kcD06z74yPwAAAGDBszI/SOF6dMemMj+4HoVrBJsyP3E9CucqjzI/ZmZmVvyBMj97FK4H93MyPxSuR3HZZDI/j8L1uINWMj9cj8JVhUcyPx+F6xGvODI/UrgepXApMj9mZmYWWhoyP83MzJxICzI/XI/CZU38MT+4HoXLRu0xPz0K1xNg3jE/16NwnZfPMT/2KFxvGMExPzMzMxNGszE/exSu91WmMT/D9SiM8poxP9ejcH1WkDE/mpmZ2UOIMT8K16NwlH4xP83MzCy5dTE/XI/CFaBsMT9cj8JV82MxP83MzIztWjE/hetRONdRMT+4HoUL8UgxPylcj3KaPzE/4XoUrsw1MT8zMzMjFSsxP7gehbvMHzE/uB6FO/wTMT/2KFyfhAcxPxSuR3Ec+zA/uB6F0xjuMD9mZmZeUeEwP/YoXH+21DA/H4Xr0WnHMD+PwvXIbrowP4XrUTCdrTA/hetRkB2hMD/hehSGz5QwP0jhekR3iDA/zczMDFR9MD9xPQrv0HIwPwrXo6gWaTA/w/Uo7FlfMD89CtfrXVUwP1yPwkVyTTA/FK5HsT1EMD9xPQr/mjswP7gehWPyMzA/AAAAEAEtMD+PwvXYAycwPzMzM+teIDA/CtejMBcaMD+kcD0y7BMwP+xRuLYODjA/PQrXaxgIMD/NzMxsRQIwP6RwPbrg9y8/uB6Fq9HpLz+4HoUbEdsvP/YoXB+Iyi8/uB6F2+65Lz9SuB5l6qcvPxSuR1EilS8/exSupzCBLz+4HoVbN2wvP4XrUfiUVi8/FK5HEWtBLz97FK5nUCwvP3E9CnchFy8/16NwHQwCLz9cj8I1iuwuP4XrUQh21y4/pHA9StTBLj9I4XrESKwuP+F6FP6Pli4/H4XrcUeBLj8K16NAb2wuP6RwPRp8WC4/exSuN6tFLj/NzMzcyDIuP3E9CueAIS4/9ihcTw8QLj9mZmZW4P4tPylcj5KP7i0/7FG4XlHdLT8pXI9SE8stP83MzLzCty0/FK5HsYeiLT97FK5XYY4tPwrXo3DueS0/4XoUrmhlLT8zMzOTNVEtP3E9CvcaOy0/FK5H8SUlLT89CtfDog4tPz0K16N09yw/Urge1U7fLD+F61HoTcYsPx+F6yFArCw/AAAAAMOSLD9xPQrXPHksPylcjyJ4YCw/UrgeJStHLD8fhesRWi0sP1K4HnV6Eyw/uB6F28P5Kz+kcD0aCuIrPwAAAGA+yys/uB6Fqyy1Kz/Xo3At86ArP3E9CjfWjCs/zczMDCB6Kz+amZnJ82crP0jheqTIVis/KVyPwuBGKz8pXI+yjzcrPz0K16NJKCs/PQrXU+YYKz+uR+F61wkrPx+F67Gx+io/exSuNwzsKj+F61Go7dwqPwAAAGBgzSo/pHA9auC9Kj8AAABAIK4qP0jhekRInCo/CtejQE+LKj8zMzMzcHkqP0jheuQdaCo/pHA9+l5WKj/NzMzM50QqPxSuR6GLMio/mpmZmU8gKj+kcD36Gg8qP3E9Cuda/ik/rkfhCmXuKT9SuB5Vnd8pP83MzPzq0ik/MzMz0wXGKT9mZmbm6bgpP4/C9dhWqyk/pHA9WjadKT/2KFxPHJEpP3sUrhf0hCk/ZmZm9n95KT+4HoWr/24pP83MzLwnZSk/4XoUPi9cKT8zMzNTXlQpP+xRuD7+Syk/uB6FG71DKT/hehQ+RTspP6RwPYrjMik/hetRSLAqKT9cj8I13SIpPwAAAACSGyk/PQrXk4YTKT+kcD1KLwspPz0K1zNSAyk/H4XrMUb7KD9xPQpn6PEoP9ejcN3c5ig/uB6FS/jZKD/hehSOaMooPwrXo0AKvCg/9ihcj92rKD9xPQon0psoP1K4HpVOjCg/Urge1YV8KD/D9ShMoGsoPz0K1zNsWyg/9ihcH29LKD9xPQrnZTwoPxSuR8FZLSg/PQrXE24eKD+kcD068xEoP83MzOyUBCg/w/UorFn4Jz+4HoUb3usnPylcj5JP4Cc/KVyPgm/UJz/NzMzMpsknP6RwPYrPvic/FK5H4ZSzJz/hehSevqgnP4XrUej5nSc/4XoU3kCTJz8fhevBfognPzMzM0OSfSc/AAAAcMtyJz8pXI+yKWgnP/YoXA+8XSc/16Nw3fBSJz9I4Xq0/kcnP8P1KLwCPSc/PQrX46QxJz89CtdTNiYnP/YoXB9cGic/hetRSIQOJz9xPQqXNgInP4XrUWiR9iY/SOF6NLjqJj/D9Sg8Bd8mPz0K16Oz0yY/H4XrMQDIJj+kcD16tbsmP83MzMzmryY/H4XroQqkJj+4HoXb4ZUmP4XrUTg2iSY/9ihcH3x9Jj/hehRuIHMmP3sUrtdqaiY/MzMzM3xkJj+uR+EKqV0mP65H4RoEWSY/zczMHOJUJj+F61EoFlAmP9ejcC1HSyY/exSuR19HJj9xPQrHDkMmP6RwPdq1PiY/rkfhGiU6Jj89CtdjmDUmPzMzM7OWMSY/cT0Kx0YtJj/D9Si8+SgmP8P1KKyIJCY/exSuN7YfJj9xPQqHXxomPxSuRyHNFCY/rkfh2sMOJj/D9Sgc+wcmPylcj/LyACY/7FG4TrX5JT+amZk5uvElPylcj0Lz6CU/FK5HMTTfJT8K16OwyNUlP6RwPWq3zCU/SOF6tCDEJT9SuB7Fc7slP6RwPdrcsiU/MzMzM6SqJT+PwvXYOqIlP1yPwoX/mSU/AAAAoLSRJT9xPQr3YYklP5qZmenGgCU/4XoUrnt4JT+amZkJpW8lP5qZmZkUZyU/XI/C1ateJT/2KFx/ylUlP0jhevQgTSU/9ihcj8VEJT9SuB6l8jslP7gehUuMMyU/SOF6pNssJT+kcD3q4yQlP0jhepQdHSU/UrgexYEVJT89Ctdz5w0lP65H4XoZBiU/H4XrceP9JD8pXI8CI/UkPxSuR2F26yQ/zczM3M7hJD9cj8LVVdgkP+xRuJ5bzyQ/SOF6tCrGJD/NzMz8KL0kP4XrUag9tCQ/CtejcISrJD+uR+E6m6IkP6RwPVr7mSQ/AAAA0JuRJD+kcD06b4kkP6RwPbqugSQ/UrgeJQN6JD8zMzOzWXIkP1K4HpXeaiQ/j8L1qFVkJD+F61HI+10kP3sUrnfbVyQ/16NwbaRSJD8fheshtk0kP6RwPcqNSSQ/ZmZm9hBFJD9I4XrUcEAkPzMzM1NdOyQ/UrgedWI2JD+amZmZOzEkP4XrUWhaKyQ/FK5HoWMkJD9SuB5VYR4kPwAAAKA3GCQ/w/UojG4RJD+4HoXrqAokP65H4doNAyQ/uB6FO/L7Iz8pXI/S9/MjP4/C9Zia7CM/w/UoHPPkIz/hehRee90jP4/C9bjQ1CM/FK5HAcLMIz9cj8L1hsQjP4XrUShEuyM/hetR+CCzIz9cj8JFwqojP2ZmZkYzoiM/SOF6ZH2ZIz/NzMycypAjPwrXo9AgiCM/w/Uo/Jh/Iz+F61F4ZXcjPwAAAGBVbyM/uB6FmxlnIz+amZkZrF4jPxSuRxFUViM/4XoULiBOIz9SuB414kUjPx+F67G7PSM/pHA9up81Iz8UrkchJS0jPwrXo5B1JCM/cT0Kd6cbIz9cj8LFtxIjP83MzOzECSM/exSuZyEBIz8zMzMD9PgiP2ZmZvYW8SI/XI/CxW3pIj8K16Mg3+EiP65H4Qpx2iI/mpmZuVPTIj/hehSOlswiP6RwPcoMxiI/FK5HEYO/Ij/D9SjMHrkiP83MzPz6siI/uB6FazytIj8UrkeBDagiPxSuRzETpCI/FK5HATKfIj/hehReopoiPxSuR3ERlyI/FK5HgZ2TIj+amZlJGpEiP3sUrrfpjSI/AAAAwBSLIj8UrkeRiociP+xRuF4ohCI/ZmZmJguAIj+F61HY0XwiP7gehXs9eSI/H4XrgQF2Ij+uR+GqGXMiP7gehStabyI/j8L1CJlrIj/sUbg+XmciP2ZmZjYyYyI/ZmZm9hJfIj8fhevxAFsiPxSuRzHDViI/MzMzw0BSIj8AAABgqU0iP5qZmRk/SSI/7FG4nlNEIj/sUbgeJT8iP2ZmZtaBOSI/KVyPklA0Ij/hehQeBy8iPz0K1/MWKiI/CtejADElIj/2KFyPSCAiP6RwPYqXGyI/uB6Fu6EWIj8K16PAtBEiP2ZmZna0DCI/AAAAkFoHIj/sUbj+igEiP5qZmZmX+yE/CtejAJP1IT/Xo3B9XO8hPx+F65FE6SE/SOF6tCTjIT8pXI+i7twhP3sUrteW1iE/uB6FSyTQIT9SuB7FgckhP2ZmZtbFwiE/PQrXs/67IT+4HoU7WbUhPwAAAFDariE/pHA92oGoIT8fhesBa6IhP83MzEyHnCE/rkfhisaWIT/NzMwsOZEhP6RwPXozjCE/exSu5zuHIT97FK43t4IhP/YoXM/JfiE/w/UojFF7IT8fhesBt3chP4/C9YgPdCE/MzMz8xZxIT+PwvV4sG0hP3E9CjcpaiE/zczMDFRnIT8K16Pw6WQhP5qZmelvYiE/PQrX4xpgIT/Xo3A9510hP1K4HlURXCE/mpmZCWBaIT9SuB4VlFghP1yPwiUgVyE/j8L1aIFVIT8K16PgxFMhPz0K14MpUSE/7FG4vtNNIT/Xo3D9fUohPzMzM7MTRiE/hetR6EVCIT8AAABABD4hPwrXo1D+OSE/j8L1SBU2IT/NzMx8EDIhP5qZmakVLiE/AAAAYDwpIT9mZmYGySQhPx+F65EbICE/rkfhql0bIT+uR+HaShYhP+xRuE7IECE/9ihcz3kLIT+kcD0argUhP6RwPWoVACE/FK5HEZP6ID/sUbjuP/UgPwAAAJDf7yA/uB6FCy3qID/D9SiMSuQgP65H4ape3iA/16NwLXvYID89Ctejn9IgPx+F61HazCA/hetRqPjGID+PwvX43sAgP7gehVuxuiA/j8L1eFO0ID/Xo3CdzK0gP3E9CifPpiA/9ihcN6ifID9SuB69NpggP2ZmZha6kCA/mpmZOSyJID/D9ShEAoIgPwrXo6jYeiA/H4Xr0dpzID+uR+HyrGwgP4/C9RCwZSA/zczMzFReID9I4XoE3FYgPwAAAEguTyA/XI/CnSRHID+PwvWQAT8gP1K4HuVdNyA/uB6FOz4wID8pXI9iWSkgP2ZmZibiIiA/UrgeTRccID8pXI9aZhYgP7gehTP5DyA/rkfhCpcJID8AAACIxgIgP1K4HsVM+B8/zczM7J3qHz8UrkehFNwfP1yPwpXRzh8/exSu58rAHz9cj8JF9rIfP4XrUSiopR8/exSuN7uYHz/hehQul4wfP8P1KDzifx8/w/UoPIx0Hz8zMzND1mgfP0jhesRSXR8/FK5HkYtRHz89CtfD6kUfP65H4erfOh8/MzMzcy0wHz97FK73PSUfPzMzM6M+Gh8/SOF6RHEPHz/D9SjskAQfP3E9CpcK+h4/w/UozGLwHj9cj8I1reYePwrXo8Au3R4/H4XrYRDUHj/2KFxfccseP4XrUSikwh4/w/UofD+7Hj9I4Xr06rMeP4/C9ehdrR4/MzMzU+2mHj/D9Sgcl6AePzMzM5NbmR4/SOF6ZHCSHj9cj8IV/YoeP3E9CrdOhB4/mpmZ+aZ9Hj+uR+F68HYeP9ejcI37cB4/AAAAAGprHj+4HoUrNGUeP65H4WpQXh4/XI/ClXZXHj8zMzNDjVAeP5qZmVm2SR4/FK5HocNCHj+4HoU7aTweP+F6FJ7sNh4/ZmZmFnAyHj8AAABwmy0ePylcjyIcKR4/H4XrQRolHj+4HoUreSEeP/YoXG/UHR4/hetRmCYaHj+amZlpixYeP/YoXP+4Eh4/UrgeVQ8PHj9SuB5VvQseP2ZmZtZnCB4/KVyPAnQFHj9SuB6lgwIeP83MzMzb/x0/9ihcH2D9HT/sUbgeF/sdP+xRuJ4L+R0/hetRKDH3HT8UrkdBTvUdP+xRuE458x0/uB6FeyDxHT+PwvWIt+4dP1yPwkUO7B0/j8L12JjpHT9xPQpHHOcdP4/C9Zh05B0/rkfhetLhHT97FK4Hl98dPxSuR7FO3B0/hetRSEzZHT9SuB4Fn9UdP2ZmZjb/0R0/mpmZKQnOHT+amZnpOsodPz0K13Nexh0/zczMTHzCHT/NzMxMf74dPxSuRzGyuh0/7FG4XoO3HT+kcD3KjrQdP+F6FG6CsR0/KVyPYoquHT+F61EYyasdP/YoXH9KqR0/KVyPgj2nHT9I4XrkS6UdP0jhesTDox0/Urge1RaiHT9cj8KFBKAdP3E9Cnd5nR0/MzMzw8qaHT8pXI+iCJgdP6RwPZqtlR0/XI/CZZeTHT+kcD3qfpEdP/YoXE/Rjx0/hetR+ByOHT8fheuRpYwdP+F6FA4hix0/j8L1KJSJHT/NzMws74cdP65H4aouhh0/j8L16GeEHT/NzMzcgoIdP4/C9eiIgB0/Ctej4G1+HT8pXI9iQXwdP0jherQTeh0/mpmZ2Ql4HT8K16OQ43UdPx+F61Gkcx0/PQrXU6pxHT+PwvW4mG8dPx+F66GCbR0/zczMfIdrHT+kcD2KoGkdPwAAAMD9Zx0/mpmZ6Y1mHT8AAACgVWUdPxSuR0EjZB0/SOF6FHxjHT+PwvXI3mIdPx+F63FsYh0/XI/C9eVhHT9I4XqEj2EdPylcj5IRYR0/9ihcr6BgHT8pXI/i5l8dPx+F66GbXh0/hetR+O9cHT8zMzNjKlsdP/YoXL9XWR0/",
          "dtype": "f8"
         }
        }
       ],
       "layout": {
        "height": 600,
        "legend": {
         "orientation": "h",
         "x": 0.5,
         "xanchor": "center",
         "y": 1,
         "yanchor": "top"
        },
        "template": {
         "data": {
          "bar": [
           {
            "error_x": {
             "color": "#2a3f5f"
            },
            "error_y": {
             "color": "#2a3f5f"
            },
            "marker": {
             "line": {
              "color": "white",
              "width": 0.5
             },
             "pattern": {
              "fillmode": "overlay",
              "size": 10,
              "solidity": 0.2
             }
            },
            "type": "bar"
           }
          ],
          "barpolar": [
           {
            "marker": {
             "line": {
              "color": "white",
              "width": 0.5
             },
             "pattern": {
              "fillmode": "overlay",
              "size": 10,
              "solidity": 0.2
             }
            },
            "type": "barpolar"
           }
          ],
          "carpet": [
           {
            "aaxis": {
             "endlinecolor": "#2a3f5f",
             "gridcolor": "#C8D4E3",
             "linecolor": "#C8D4E3",
             "minorgridcolor": "#C8D4E3",
             "startlinecolor": "#2a3f5f"
            },
            "baxis": {
             "endlinecolor": "#2a3f5f",
             "gridcolor": "#C8D4E3",
             "linecolor": "#C8D4E3",
             "minorgridcolor": "#C8D4E3",
             "startlinecolor": "#2a3f5f"
            },
            "type": "carpet"
           }
          ],
          "choropleth": [
           {
            "colorbar": {
             "outlinewidth": 0,
             "ticks": ""
            },
            "type": "choropleth"
           }
          ],
          "contour": [
           {
            "colorbar": {
             "outlinewidth": 0,
             "ticks": ""
            },
            "colorscale": [
             [
              0,
              "#0d0887"
             ],
             [
              0.1111111111111111,
              "#46039f"
             ],
             [
              0.2222222222222222,
              "#7201a8"
             ],
             [
              0.3333333333333333,
              "#9c179e"
             ],
             [
              0.4444444444444444,
              "#bd3786"
             ],
             [
              0.5555555555555556,
              "#d8576b"
             ],
             [
              0.6666666666666666,
              "#ed7953"
             ],
             [
              0.7777777777777778,
              "#fb9f3a"
             ],
             [
              0.8888888888888888,
              "#fdca26"
             ],
             [
              1,
              "#f0f921"
             ]
            ],
            "type": "contour"
           }
          ],
          "contourcarpet": [
           {
            "colorbar": {
             "outlinewidth": 0,
             "ticks": ""
            },
            "type": "contourcarpet"
           }
          ],
          "heatmap": [
           {
            "colorbar": {
             "outlinewidth": 0,
             "ticks": ""
            },
            "colorscale": [
             [
              0,
              "#0d0887"
             ],
             [
              0.1111111111111111,
              "#46039f"
             ],
             [
              0.2222222222222222,
              "#7201a8"
             ],
             [
              0.3333333333333333,
              "#9c179e"
             ],
             [
              0.4444444444444444,
              "#bd3786"
             ],
             [
              0.5555555555555556,
              "#d8576b"
             ],
             [
              0.6666666666666666,
              "#ed7953"
             ],
             [
              0.7777777777777778,
              "#fb9f3a"
             ],
             [
              0.8888888888888888,
              "#fdca26"
             ],
             [
              1,
              "#f0f921"
             ]
            ],
            "type": "heatmap"
           }
          ],
          "histogram": [
           {
            "marker": {
             "pattern": {
              "fillmode": "overlay",
              "size": 10,
              "solidity": 0.2
             }
            },
            "type": "histogram"
           }
          ],
          "histogram2d": [
           {
            "colorbar": {
             "outlinewidth": 0,
             "ticks": ""
            },
            "colorscale": [
             [
              0,
              "#0d0887"
             ],
             [
              0.1111111111111111,
              "#46039f"
             ],
             [
              0.2222222222222222,
              "#7201a8"
             ],
             [
              0.3333333333333333,
              "#9c179e"
             ],
             [
              0.4444444444444444,
              "#bd3786"
             ],
             [
              0.5555555555555556,
              "#d8576b"
             ],
             [
              0.6666666666666666,
              "#ed7953"
             ],
             [
              0.7777777777777778,
              "#fb9f3a"
             ],
             [
              0.8888888888888888,
              "#fdca26"
             ],
             [
              1,
              "#f0f921"
             ]
            ],
            "type": "histogram2d"
           }
          ],
          "histogram2dcontour": [
           {
            "colorbar": {
             "outlinewidth": 0,
             "ticks": ""
            },
            "colorscale": [
             [
              0,
              "#0d0887"
             ],
             [
              0.1111111111111111,
              "#46039f"
             ],
             [
              0.2222222222222222,
              "#7201a8"
             ],
             [
              0.3333333333333333,
              "#9c179e"
             ],
             [
              0.4444444444444444,
              "#bd3786"
             ],
             [
              0.5555555555555556,
              "#d8576b"
             ],
             [
              0.6666666666666666,
              "#ed7953"
             ],
             [
              0.7777777777777778,
              "#fb9f3a"
             ],
             [
              0.8888888888888888,
              "#fdca26"
             ],
             [
              1,
              "#f0f921"
             ]
            ],
            "type": "histogram2dcontour"
           }
          ],
          "mesh3d": [
           {
            "colorbar": {
             "outlinewidth": 0,
             "ticks": ""
            },
            "type": "mesh3d"
           }
          ],
          "parcoords": [
           {
            "line": {
             "colorbar": {
              "outlinewidth": 0,
              "ticks": ""
             }
            },
            "type": "parcoords"
           }
          ],
          "pie": [
           {
            "automargin": true,
            "type": "pie"
           }
          ],
          "scatter": [
           {
            "fillpattern": {
             "fillmode": "overlay",
             "size": 10,
             "solidity": 0.2
            },
            "type": "scatter"
           }
          ],
          "scatter3d": [
           {
            "line": {
             "colorbar": {
              "outlinewidth": 0,
              "ticks": ""
             }
            },
            "marker": {
             "colorbar": {
              "outlinewidth": 0,
              "ticks": ""
             }
            },
            "type": "scatter3d"
           }
          ],
          "scattercarpet": [
           {
            "marker": {
             "colorbar": {
              "outlinewidth": 0,
              "ticks": ""
             }
            },
            "type": "scattercarpet"
           }
          ],
          "scattergeo": [
           {
            "marker": {
             "colorbar": {
              "outlinewidth": 0,
              "ticks": ""
             }
            },
            "type": "scattergeo"
           }
          ],
          "scattergl": [
           {
            "marker": {
             "colorbar": {
              "outlinewidth": 0,
              "ticks": ""
             }
            },
            "type": "scattergl"
           }
          ],
          "scattermap": [
           {
            "marker": {
             "colorbar": {
              "outlinewidth": 0,
              "ticks": ""
             }
            },
            "type": "scattermap"
           }
          ],
          "scattermapbox": [
           {
            "marker": {
             "colorbar": {
              "outlinewidth": 0,
              "ticks": ""
             }
            },
            "type": "scattermapbox"
           }
          ],
          "scatterpolar": [
           {
            "marker": {
             "colorbar": {
              "outlinewidth": 0,
              "ticks": ""
             }
            },
            "type": "scatterpolar"
           }
          ],
          "scatterpolargl": [
           {
            "marker": {
             "colorbar": {
              "outlinewidth": 0,
              "ticks": ""
             }
            },
            "type": "scatterpolargl"
           }
          ],
          "scatterternary": [
           {
            "marker": {
             "colorbar": {
              "outlinewidth": 0,
              "ticks": ""
             }
            },
            "type": "scatterternary"
           }
          ],
          "surface": [
           {
            "colorbar": {
             "outlinewidth": 0,
             "ticks": ""
            },
            "colorscale": [
             [
              0,
              "#0d0887"
             ],
             [
              0.1111111111111111,
              "#46039f"
             ],
             [
              0.2222222222222222,
              "#7201a8"
             ],
             [
              0.3333333333333333,
              "#9c179e"
             ],
             [
              0.4444444444444444,
              "#bd3786"
             ],
             [
              0.5555555555555556,
              "#d8576b"
             ],
             [
              0.6666666666666666,
              "#ed7953"
             ],
             [
              0.7777777777777778,
              "#fb9f3a"
             ],
             [
              0.8888888888888888,
              "#fdca26"
             ],
             [
              1,
              "#f0f921"
             ]
            ],
            "type": "surface"
           }
          ],
          "table": [
           {
            "cells": {
             "fill": {
              "color": "#EBF0F8"
             },
             "line": {
              "color": "white"
             }
            },
            "header": {
             "fill": {
              "color": "#C8D4E3"
             },
             "line": {
              "color": "white"
             }
            },
            "type": "table"
           }
          ]
         },
         "layout": {
          "annotationdefaults": {
           "arrowcolor": "#2a3f5f",
           "arrowhead": 0,
           "arrowwidth": 1
          },
          "autotypenumbers": "strict",
          "coloraxis": {
           "colorbar": {
            "outlinewidth": 0,
            "ticks": ""
           }
          },
          "colorscale": {
           "diverging": [
            [
             0,
             "#8e0152"
            ],
            [
             0.1,
             "#c51b7d"
            ],
            [
             0.2,
             "#de77ae"
            ],
            [
             0.3,
             "#f1b6da"
            ],
            [
             0.4,
             "#fde0ef"
            ],
            [
             0.5,
             "#f7f7f7"
            ],
            [
             0.6,
             "#e6f5d0"
            ],
            [
             0.7,
             "#b8e186"
            ],
            [
             0.8,
             "#7fbc41"
            ],
            [
             0.9,
             "#4d9221"
            ],
            [
             1,
             "#276419"
            ]
           ],
           "sequential": [
            [
             0,
             "#0d0887"
            ],
            [
             0.1111111111111111,
             "#46039f"
            ],
            [
             0.2222222222222222,
             "#7201a8"
            ],
            [
             0.3333333333333333,
             "#9c179e"
            ],
            [
             0.4444444444444444,
             "#bd3786"
            ],
            [
             0.5555555555555556,
             "#d8576b"
            ],
            [
             0.6666666666666666,
             "#ed7953"
            ],
            [
             0.7777777777777778,
             "#fb9f3a"
            ],
            [
             0.8888888888888888,
             "#fdca26"
            ],
            [
             1,
             "#f0f921"
            ]
           ],
           "sequentialminus": [
            [
             0,
             "#0d0887"
            ],
            [
             0.1111111111111111,
             "#46039f"
            ],
            [
             0.2222222222222222,
             "#7201a8"
            ],
            [
             0.3333333333333333,
             "#9c179e"
            ],
            [
             0.4444444444444444,
             "#bd3786"
            ],
            [
             0.5555555555555556,
             "#d8576b"
            ],
            [
             0.6666666666666666,
             "#ed7953"
            ],
            [
             0.7777777777777778,
             "#fb9f3a"
            ],
            [
             0.8888888888888888,
             "#fdca26"
            ],
            [
             1,
             "#f0f921"
            ]
           ]
          },
          "colorway": [
           "#636efa",
           "#EF553B",
           "#00cc96",
           "#ab63fa",
           "#FFA15A",
           "#19d3f3",
           "#FF6692",
           "#B6E880",
           "#FF97FF",
           "#FECB52"
          ],
          "font": {
           "color": "#2a3f5f"
          },
          "geo": {
           "bgcolor": "white",
           "lakecolor": "white",
           "landcolor": "white",
           "showlakes": true,
           "showland": true,
           "subunitcolor": "#C8D4E3"
          },
          "hoverlabel": {
           "align": "left"
          },
          "hovermode": "closest",
          "mapbox": {
           "style": "light"
          },
          "paper_bgcolor": "white",
          "plot_bgcolor": "white",
          "polar": {
           "angularaxis": {
            "gridcolor": "#EBF0F8",
            "linecolor": "#EBF0F8",
            "ticks": ""
           },
           "bgcolor": "white",
           "radialaxis": {
            "gridcolor": "#EBF0F8",
            "linecolor": "#EBF0F8",
            "ticks": ""
           }
          },
          "scene": {
           "xaxis": {
            "backgroundcolor": "white",
            "gridcolor": "#DFE8F3",
            "gridwidth": 2,
            "linecolor": "#EBF0F8",
            "showbackground": true,
            "ticks": "",
            "zerolinecolor": "#EBF0F8"
           },
           "yaxis": {
            "backgroundcolor": "white",
            "gridcolor": "#DFE8F3",
            "gridwidth": 2,
            "linecolor": "#EBF0F8",
            "showbackground": true,
            "ticks": "",
            "zerolinecolor": "#EBF0F8"
           },
           "zaxis": {
            "backgroundcolor": "white",
            "gridcolor": "#DFE8F3",
            "gridwidth": 2,
            "linecolor": "#EBF0F8",
            "showbackground": true,
            "ticks": "",
            "zerolinecolor": "#EBF0F8"
           }
          },
          "shapedefaults": {
           "line": {
            "color": "#2a3f5f"
           }
          },
          "ternary": {
           "aaxis": {
            "gridcolor": "#DFE8F3",
            "linecolor": "#A2B1C6",
            "ticks": ""
           },
           "baxis": {
            "gridcolor": "#DFE8F3",
            "linecolor": "#A2B1C6",
            "ticks": ""
           },
           "bgcolor": "white",
           "caxis": {
            "gridcolor": "#DFE8F3",
            "linecolor": "#A2B1C6",
            "ticks": ""
           }
          },
          "title": {
           "x": 0.05
          },
          "xaxis": {
           "automargin": true,
           "gridcolor": "#EBF0F8",
           "linecolor": "#EBF0F8",
           "ticks": "",
           "title": {
            "standoff": 15
           },
           "zerolinecolor": "#EBF0F8",
           "zerolinewidth": 2
          },
          "yaxis": {
           "automargin": true,
           "gridcolor": "#EBF0F8",
           "linecolor": "#EBF0F8",
           "ticks": "",
           "title": {
            "standoff": 15
           },
           "zerolinecolor": "#EBF0F8",
           "zerolinewidth": 2
          }
         }
        },
        "title": {
         "text": "Loss History"
        },
        "width": 800,
        "xaxis": {
         "title": {
          "text": "Epoch"
         }
        },
        "yaxis": {
         "title": {
          "text": "Loss (log‑scale)"
         },
         "type": "log"
        }
       }
      }
     },
     "metadata": {},
     "output_type": "display_data"
    },
    {
     "name": "stdout",
     "output_type": "stream",
     "text": [
      "L2 Error:  0.19788998\n"
     ]
    }
   ],
   "source": [
    "with_anzats = trainer.closure.get_state()\n",
    "plot_loss(with_anzats, smooth=True, smooth_window=50)\n",
    "\n",
    "anzats_l2 = compare_with_mc(model, params, n_prices=200,\n",
    "                            n_simulations=10_000, dtype=dtype, device=device, seed=42)['l2_rel_error']\n",
    "print(\"L2 Error: \", anzats_l2*100)"
   ]
  },
  {
   "cell_type": "markdown",
   "id": "a24c7aac",
   "metadata": {},
   "source": [
    "6.2328877/3.9504097"
   ]
  },
  {
   "cell_type": "markdown",
   "id": "cde0b3b6",
   "metadata": {},
   "source": [
    "### Compare both runs"
   ]
  },
  {
   "cell_type": "code",
   "execution_count": null,
   "id": "0f616504",
   "metadata": {},
   "outputs": [],
   "source": [
    "\n",
    "def _moving_average(arr, window):\n",
    "    \"\"\"Simple moving average that keeps the original length.\"\"\"\n",
    "    if window <= 1:\n",
    "        return np.asarray(arr)\n",
    "    cumsum = np.cumsum(np.insert(arr, 0, 0))\n",
    "    smoothed = (cumsum[window:] - cumsum[:-window]) / float(window)\n",
    "    # pad the left side so lengths match\n",
    "    left_pad = np.full(window - 1, smoothed[0])\n",
    "    return np.concatenate([left_pad, smoothed])\n",
    "\n",
    "def compare_error_histories(\n",
    "    runs,\n",
    "    labels=None,\n",
    "    backend=\"plotly\",\n",
    "    fig_size=(900, 500),\n",
    "    smooth=True,\n",
    "    smooth_window=50,\n",
    "):\n",
    "    \"\"\"\n",
    "    Compare relative and max error histories from multiple runs.\n",
    "\n",
    "    Parameters\n",
    "    ----------\n",
    "    runs : list of dict – each dict must contain keys\n",
    "           'l2_rel_err', 'max_err'\n",
    "    labels : list of str – legend labels, default \"Run 1\", \"Run 2\", ...\n",
    "    \"\"\"\n",
    "\n",
    "    n_runs = len(runs)\n",
    "    assert n_runs > 0, \"runs list cannot be empty\"\n",
    "    if labels is None:\n",
    "        labels = [f\"Run {i+1}\" for i in range(n_runs)]\n",
    "    assert len(labels) == n_runs, \"`labels` length must match `runs` length\"\n",
    "\n",
    "    colors = {\"rel_err\": \"#d62728\", \"max_err\": \"#2ca02c\"}\n",
    "    dashes = [\"solid\", \"dash\", \"dot\", \"dashdot\", \"longdash\", \"longdashdot\"]\n",
    "\n",
    "    def prep(d):\n",
    "        rel = np.asarray(d[\"l2_rel_err\"])\n",
    "        mx = np.asarray(d[\"max_err\"])\n",
    "        if smooth:\n",
    "            rel, mx = (_moving_average(x, smooth_window) for x in (rel, mx))\n",
    "        return rel, mx\n",
    "\n",
    "    processed = [prep(r) for r in runs]\n",
    "    x = np.arange(len(processed[0][0]))  # assume equal length\n",
    "\n",
    "    # --- Plotly backend ---\n",
    "    if backend.lower() == \"plotly\":\n",
    "        fig = make_subplots(\n",
    "            rows=2, cols=1, shared_xaxes=True, vertical_spacing=0.07,\n",
    "            subplot_titles=(\"L2 Relative Error\", \"Maximum Error\")\n",
    "        )\n",
    "\n",
    "        def add(row, y_values, color, dash, label, showlegend):\n",
    "            fig.add_trace(\n",
    "                go.Scatter(\n",
    "                    x=x, y=y_values, mode=\"lines\",\n",
    "                    name=label,\n",
    "                    line=dict(color=color, dash=dash)\n",
    "                ),\n",
    "                row=row, col=1,\n",
    "            )\n",
    "\n",
    "        for run_idx, (rel, mx) in enumerate(processed):\n",
    "            dash = dashes[run_idx % len(dashes)]\n",
    "            label = labels[run_idx]\n",
    "            show = (run_idx == 0)\n",
    "            add(1, rel, colors[\"rel_err\"], dash, label, show)\n",
    "            add(2, mx, colors[\"max_err\"], dash, label, False)\n",
    "\n",
    "        fig.update_yaxes(type=\"log\")\n",
    "        fig.update_layout(\n",
    "            height=fig_size[1], width=fig_size[0],\n",
    "            title_text=\"Error Comparison\",\n",
    "            legend_title=\"Run\"\n",
    "        )\n",
    "        fig.show()\n",
    "\n",
    "    # --- Matplotlib backend ---\n",
    "    else:\n",
    "        _, axes = plt.subplots(2, 1,\n",
    "                               figsize=(fig_size[0] / 100, fig_size[1] / 100),\n",
    "                               sharex=True)\n",
    "\n",
    "        titles = [\"L2 Relative Error\", \"Maximum Error\"]\n",
    "\n",
    "        for run_idx, (rel, mx) in enumerate(processed):\n",
    "            dash = dashes[run_idx % len(dashes)]\n",
    "            label = labels[run_idx]\n",
    "            axes[0].plot(x, rel, label=label,\n",
    "                         color=colors[\"rel_err\"], linestyle=dash)\n",
    "            axes[1].plot(x, mx, label=label,\n",
    "                         color=colors[\"max_err\"], linestyle=dash)\n",
    "\n",
    "        for ax, title in zip(axes, titles):\n",
    "            ax.set_yscale(\"log\")\n",
    "            ax.set_title(title, fontsize=10)\n",
    "\n",
    "        axes[-1].set_xlabel(\"Epoch\")\n",
    "        axes[0].set_ylabel(\"Relative Error (log)\")\n",
    "        axes[1].set_ylabel(\"Max Error (log)\")\n",
    "        axes[0].legend(loc=\"upper right\")\n",
    "        plt.tight_layout()\n",
    "        plt.show()"
   ]
  },
  {
   "cell_type": "code",
   "execution_count": null,
   "id": "c66a6e51",
   "metadata": {},
   "outputs": [
    {
     "data": {
      "application/vnd.plotly.v1+json": {
       "config": {
        "plotlyServerURL": "https://plot.ly"
       },
       "data": [
        {
         "line": {
          "color": "#d62728",
          "dash": "solid"
         },
         "mode": "lines",
         "name": "Vanilla",
         "type": "scatter",
         "x": {
          "bdata": "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",
          "dtype": "i2"
         },
         "xaxis": "x",
         "y": {
          "bdata": "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",
          "dtype": "f4"
         },
         "yaxis": "y"
        },
        {
         "line": {
          "color": "#2ca02c",
          "dash": "solid"
         },
         "mode": "lines",
         "name": "Vanilla",
         "type": "scatter",
         "x": {
          "bdata": "AAABAAIAAwAEAAUABgAHAAgACQAKAAsADAANAA4ADwAQABEAEgATABQAFQAWABcAGAAZABoAGwAcAB0AHgAfACAAIQAiACMAJAAlACYAJwAoACkAKgArACwALQAuAC8AMAAxADIAMwA0ADUANgA3ADgAOQA6ADsAPAA9AD4APwBAAEEAQgBDAEQARQBGAEcASABJAEoASwBMAE0ATgBPAFAAUQBSAFMAVABVAFYAVwBYAFkAWgBbAFwAXQBeAF8AYABhAGIAYwBkAGUAZgBnAGgAaQBqAGsAbABtAG4AbwBwAHEAcgBzAHQAdQB2AHcAeAB5AHoAewB8AH0AfgB/AIAAgQCCAIMAhACFAIYAhwCIAIkAigCLAIwAjQCOAI8AkACRAJIAkwCUAJUAlgCXAJgAmQCaAJsAnACdAJ4AnwCgAKEAogCjAKQApQCmAKcAqACpAKoAqwCsAK0ArgCvALAAsQCyALMAtAC1ALYAtwC4ALkAugC7ALwAvQC+AL8AwADBAMIAwwDEAMUAxgDHAMgAyQDKAMsAzADNAM4AzwDQANEA0gDTANQA1QDWANcA2ADZANoA2wDcAN0A3gDfAOAA4QDiAOMA5ADlAOYA5wDoAOkA6gDrAOwA7QDuAO8A8ADxAPIA8wD0APUA9gD3APgA+QD6APsA/AD9AP4A/wAAAQEBAgEDAQQBBQEGAQcBCAEJAQoBCwEMAQ0BDgEPARABEQESARMBFAEVARYBFwEYARkBGgEbARwBHQEeAR8BIAEhASIBIwEkASUBJgEnASgBKQEqASsBLAEtAS4BLwEwATEBMgEzATQBNQE2ATcBOAE5AToBOwE8AT0BPgE/AUABQQFCAUMBRAFFAUYBRwFIAUkBSgFLAUwBTQFOAU8BUAFRAVIBUwFUAVUBVgFXAVgBWQFaAVsBXAFdAV4BXwFgAWEBYgFjAWQBZQFmAWcBaAFpAWoBawFsAW0BbgFvAXABcQFyAXMBdAF1AXYBdwF4AXkBegF7AXwBfQF+AX8BgAGBAYIBgwGEAYUBhgGHAYgBiQGKAYsBjAGNAY4BjwGQAZEBkgGTAZQBlQGWAZcBmAGZAZoBmwGcAZ0BngGfAaABoQGiAaMBpAGlAaYBpwGoAakBqgGrAawBrQGuAa8BsAGxAbIBswG0AbUBtgG3AbgBuQG6AbsBvAG9Ab4BvwHAAcEBwgHDAcQBxQHGAccByAHJAcoBywHMAc0BzgHPAdAB0QHSAdMB1AHVAdYB1wHYAdkB2gHbAdwB3QHeAd8B4AHhAeIB4wHkAeUB5gHnAegB6QHqAesB7AHtAe4B7wHwAfEB8gHzAfQB9QH2AfcB+AH5AfoB+wH8Af0B/gH/AQACAQICAgMCBAIFAgYCBwIIAgkCCgILAgwCDQIOAg8CEAIRAhICEwIUAhUCFgIXAhgCGQIaAhsCHAIdAh4CHwIgAiECIgIjAiQCJQImAicCKAIpAioCKwIsAi0CLgIvAjACMQIyAjMCNAI1AjYCNwI4AjkCOgI7AjwCPQI+Aj8CQAJBAkICQwJEAkUCRgJHAkgCSQJKAksCTAJNAk4CTwJQAlECUgJTAlQCVQJWAlcCWAJZAloCWwJcAl0CXgJfAmACYQJiAmMCZAJlAmYCZwJoAmkCagJrAmwCbQJuAm8CcAJxAnICcwJ0AnUCdgJ3AngCeQJ6AnsCfAJ9An4CfwKAAoECggKDAoQChQKGAocCiAKJAooCiwKMAo0CjgKPApACkQKSApMClAKVApYClwKYApkCmgKbApwCnQKeAp8CoAKhAqICowKkAqUCpgKnAqgCqQKqAqsCrAKtAq4CrwKwArECsgKzArQCtQK2ArcCuAK5AroCuwK8Ar0CvgK/AsACwQLCAsMCxALFAsYCxwLIAskCygLLAswCzQLOAs8C0ALRAtIC0wLUAtUC1gLXAtgC2QLaAtsC3ALdAt4C3wLgAuEC4gLjAuQC5QLmAucC6ALpAuoC6wLsAu0C7gLvAvAC8QLyAvMC9AL1AvYC9wL4AvkC+gL7AvwC/QL+Av8CAAMBAwIDAwMEAwUDBgMHAwgDCQMKAwsDDAMNAw4DDwMQAxEDEgMTAxQDFQMWAxcDGAMZAxoDGwMcAx0DHgMfAyADIQMiAyMDJAMlAyYDJwMoAykDKgMrAywDLQMuAy8DMAMxAzIDMwM0AzUDNgM3AzgDOQM6AzsDPAM9Az4DPwNAA0EDQgNDA0QDRQNGA0cDSANJA0oDSwNMA00DTgNPA1ADUQNSA1MDVANVA1YDVwNYA1kDWgNbA1wDXQNeA18DYANhA2IDYwNkA2UDZgNnA2gDaQNqA2sDbANtA24DbwNwA3EDcgNzA3QDdQN2A3cDeAN5A3oDewN8A30DfgN/A4ADgQOCA4MDhAOFA4YDhwOIA4kDigOLA4wDjQOOA48DkAORA5IDkwOUA5UDlgOXA5gDmQOaA5sDnAOdA54DnwOgA6EDogOjA6QDpQOmA6cDqAOpA6oDqwOsA60DrgOvA7ADsQOyA7MDtAO1A7YDtwO4A7kDugO7A7wDvQO+A78DwAPBA8IDwwPEA8UDxgPHA8gDyQPKA8sDzAPNA84DzwPQA9ED0gPTA9QD1QPWA9cD2APZA9oD2wPcA90D3gPfA+AD4QPiA+MD5APlA+YD5wPoA+kD6gPrA+wD7QPuA+8D8APxA/ID8wP0A/UD9gP3A/gD+QP6A/sD/AP9A/4D/wMABAEEAgQDBAQEBQQGBAcECAQJBAoECwQMBA0EDgQPBBAEEQQSBBMEFAQVBBYEFwQYBBkEGgQbBBwEHQQeBB8EIAQhBCIEIwQkBCUEJgQnBCgEKQQqBCsELAQtBC4ELwQwBDEEMgQzBDQENQQ2BDcEOAQ5BDoEOwQ8BD0EPgQ/BEAEQQRCBEMERARFBEYERwRIBEkESgRLBEwETQROBE8EUARRBFIEUwRUBFUEVgRXBFgEWQRaBFsEXARdBF4EXwRgBGEEYgRjBGQEZQRmBGcEaARpBGoEawRsBG0EbgRvBHAEcQRyBHMEdAR1BHYEdwR4BHkEegR7BHwEfQR+BH8EgASBBIIEgwSEBIUEhgSHBIgEiQSKBIsEjASNBI4EjwSQBJEEkgSTBJQElQSWBJcEmASZBJoEmwScBJ0EngSfBKAEoQSiBKMEpASlBKYEpwSoBKkEqgSrBKwErQSuBK8EsASxBLIEswS0BLUEtgS3BLgEuQS6BLsEvAS9BL4EvwTABMEEwgTDBMQExQTGBMcEyATJBMoEywTMBM0EzgTPBNAE0QTSBNME1ATVBNYE1wTYBNkE2gTbBNwE3QTeBN8E4AThBOIE4wTkBOUE5gTnBOgE6QTqBOsE7ATtBO4E7wTwBPEE8gTzBPQE9QT2BPcE+AT5BPoE+wT8BP0E/gT/BAAFAQUCBQMFBAUFBQYFBwUIBQkFCgULBQwFDQUOBQ8FEAURBRIFEwUUBRUFFgUXBRgFGQUaBRsFHAUdBR4FHwUgBSEFIgUjBSQFJQUmBScFKAUpBSoFKwUsBS0FLgUvBTAFMQUyBTMFNAU1BTYFNwU4BTkFOgU7BTwFPQU+BT8FQAVBBUIFQwVEBUUFRgVHBUgFSQVKBUsFTAVNBU4FTwVQBVEFUgVTBVQFVQVWBVcFWAVZBVoFWwVcBV0FXgVfBWAFYQViBWMFZAVlBWYFZwVoBWkFagVrBWwFbQVuBW8FcAVxBXIFcwV0BXUFdgV3BXgFeQV6BXsFfAV9BX4FfwWABYEFggWDBYQFhQWGBYcFiAWJBYoFiwWMBY0FjgWPBZAFkQWSBZMFlAWVBZYFlwWYBZkFmgWbBZwFnQWeBZ8FoAWhBaIFowWkBaUFpgWnBagFqQWqBasFrAWtBa4FrwWwBbEFsgWzBbQFtQW2BbcFuAW5BboFuwW8Bb0FvgW/BcAFwQXCBcMFxAXFBcYFxwXIBckFygXLBcwFzQXOBc8F0AXRBdIF0wXUBdUF1gXXBdgF2QXaBdsF",
          "dtype": "i2"
         },
         "xaxis": "x2",
         "y": {
          "bdata": "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",
          "dtype": "f4"
         },
         "yaxis": "y2"
        },
        {
         "line": {
          "color": "#d62728",
          "dash": "dash"
         },
         "mode": "lines",
         "name": "SPINN",
         "type": "scatter",
         "x": {
          "bdata": "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",
          "dtype": "i2"
         },
         "xaxis": "x",
         "y": {
          "bdata": "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",
          "dtype": "f4"
         },
         "yaxis": "y"
        },
        {
         "line": {
          "color": "#2ca02c",
          "dash": "dash"
         },
         "mode": "lines",
         "name": "SPINN",
         "type": "scatter",
         "x": {
          "bdata": "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",
          "dtype": "i2"
         },
         "xaxis": "x2",
         "y": {
          "bdata": "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",
          "dtype": "f4"
         },
         "yaxis": "y2"
        },
        {
         "line": {
          "color": "#d62728",
          "dash": "dot"
         },
         "mode": "lines",
         "name": "NN+Anzatz",
         "type": "scatter",
         "x": {
          "bdata": "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",
          "dtype": "i2"
         },
         "xaxis": "x",
         "y": {
          "bdata": "lsT4PZbE+D2WxPg9lsT4PZbE+D2WxPg9lsT4PZbE+D2WxPg9lsT4PTBTvj0A/Js9+y+VPSKXdz2IeXQ9tk5cPdAaND3WaCc92nAWPUAQAj2aP/08jSD1PBMG5DzmQes8urDIPO3eqTyaOZk8s0KRPBppjTyGa5E8Gj2QPPpmjDyz+Y88OmSQPBoffjzAc2M8QM1mPECYYDzmI148wNVVPPNnXzyzW3s8pv93PPMYbDzm/n88Jvt8PHpdgDxNIoo87RqHPA0VjTyGtYs8moh5PLPidDz6sYA8Jq11PEBQdDzajGo8mjhVPNpJTzwzKEA8ZgEzPE3rMjxmmCA8ZiIQPAClCDwz/Qg8zaQMPDNbEjxmsRI8AM8PPLNNCjwz+AI8s7wCPDP3/zvNIwg8s0ULPADbADyaFvI7ml/0O2Zk9DvmWQI85pwRPM0oHDyAOxs8M0EVPBrPDzwzfw48gKgPPACzEjyA8BQ8zSIKPGaS9TuaP987M3jpOwDG9Tsz8/47GksDPOaBADwANPc7mrPuOwBJ+jszMwc8GksRPGalETyaywg8zXP+O5pX8zsAfPk7s8oAPIC3AjwzHvo7ZkfrO5o71zsz+co7MyzNOwAfzTsAN887mhvTO2aN2jvNdOg7ZprrO81F2zua09g7AN/ZO2Zn1TsAVtg7zU/gO5rm3Tua3c47ALa3O2brrjsAtrw7MyrEO80xwjtmIcI7zQXDO83UxDuaoMg7ACfKOzOpzzsz+dg7AA/cOwCR2jvN4t47Zo7lOzO05zuaoOI7zf/YO80+5DtNwgI8MxURPGYEGTzNpho8gH0aPDPdGTzmjh88s/8lPOZRKDwzsB88zcoQPOZ2AjwARfg7mqf4O5oX9TvNMvE7AKDqO81o7Dtmbvc7gFgBPAB+BDwavAM8MyEBPAAcBTxmDw88APgUPE1JEzwArgs8gEMIPGZGCzyzNQw8GiAKPAB7BDyaDPM7Zm3jOzNb1zuaAs87Zj3EO5qouTtmvrQ7M1GxO2bdrTvNPbM7mue7O2bdsTtmXq07mt+nO80CrTsz2ak7mkOYO80kkDsATo87zeaTOzMOlTsAr5c7mr6XOwCQnDvNDp47zUWjO5pTrjtm+qw7mp+rOzOkpjsAMKE7ZrGmOwDSqTvNAKs7ZqGpO2btoTsztps7mtKeO80hqzsAsbE7M5e0OzPYsDvNf7U7AOq7OwAIuzszF787zfHEO82/yzsAocs7mkrHO80wyjsA5NE7AP7SO2Y0zzsAiM87ZnjROzOyzzvNhso7M17CO82LvDuapLQ7zQaqO2YwoDvNLZo7moyYOzPQlTsACZI7ADmLO80TiDvN8Ig7mmKJO80PjDsz9JU7MzyjO83TqjuaqKg7M0unO5osrzszobU7Ztq1O5qPujsA5787mqa6O2acrjsz1aU7ZguhOzPBnjsz0po7M/OVOwDDjjsA54M7mk1yO83QYDtmvls7AMpdO2aiaDsze2c7ZpRnO2aUZzuaa2M7AMBgO812WDsAQFk7ZupWO81sRztm1DI7msEkO2a+DDtmTu06M0PwOgBA8Dpmiu46AEjmOgAM4zqaUeM6ZlbpOmaS+Toz+Qc7ZvYWOwBSIjsA0ic7ZmgoOwAkJztmVCE7mnsgO5o1KDvNjDM7zWw6O5qXQTvNdEA7M+VAOwB8RDsAuEM7mjFFO5qrRDsAjDw7zW40OzMzLDszpx47ZsAaO82qFjuaFxU7ZiwcO5oZIjszCyw7mps6O5rjPjsztUQ7ZvZKO82iSjszy1A7AMhYO2ZWXTtmPmE7AAZgOwCEXDsAEFs7M6laO2YiXTtmlGM7ZshnO2ZUazvNMHA7mr9zOwAsfDsAdIA7ZkuFO5r6hztmQY07AIOPO5rfkTtm5pQ7zZSVOzPSmTtmSJo7zSadO2b8njtmKaI7MxukOwC6pTtmfaY7AMGlO81VpTvNAaM7zY6iO5qVoTszgKE7ZvygOwCDnzvNDqE7ALqhO2aDozsz8aQ7ZvikO5qzpjua0Kc7APSoOzMOqzsAm6w7mjWuOwCfrzuasrA7zX6yOwBNtTvNRLY7M8O3O2ZmtzvN+rc7mpe3O2a0tzsAXLc7zaK3O82otjtmrLY7AGy1O811tjuaA7Y7ms+1O5o/tjsAT7U7zfO2O817tTvNSrY7zSS1O82+tTvNzrQ7Zoy1OwDytTszd7Y7zQK3O5rFtjua6bc7ZuC4OzO7uTvNiro7zRC7OwDouztmirw7mjm9OwBkvjvN/r47ZpK/OwAawDtmSMA7AETBO83WwDszC8E7ZsTAOzPFwDsAwsA7ZprAO2bowDsAusA7MxHBOzO/wDtmZME7Mz/BOwDIwTtmMsE7AEbCO5q1wTsA2ME7M//AOwC2wDtm/MA7zf6/O2ZgwDvNNL87zZy/O832vTtmHL47zQC+O5pZvjvNcL47AK69O81QvjuaLb47mqu+O80CvzsAZL87ZvS/O83avzvNZMA7mrXAOzNBwTtmhsE7AFDBO5q7wTuaX8E7M6vBO82GwTtmmME7mqvBO81mwTsAusE7AKTBO5o1wjua+8E7zWbCOwAEwjuaXcI7APTBO5pNwjsA9ME7MxnCOwCuwTsAhsE7zVDBO5rNwDtm/sA7MwnAO5p9wDuadb87mpu/O5pBvzsAVr87zYS/O5qXvztmkr87AE1hPABWYjxmDGM8M1xkPGZTZjwzNmk8Zh9tPAAicTwATHY8AE58PJr7ADwzXQY8Zo0LPDPyDzyapxI8AHgSPGZAEDyangw8AKgHPAAXATzNjPI7zdrfO80KzDtmfLk7ALSqOwB0pDua56U7mpWqO80QsTuaN7k7ZobCOwDCzTuao9g7zXzgOwAo4juaz9w7zezQOzMxwzvNBLQ7AFCkO80KlTvNrIY7M5dzOwBgXztmOlQ7zUBOO82cSzsAzEs7mrFQO5p5WDuaWV87mhVlOzPPaTsAXGo7ADRnOwB8YTvNOFs7AGxTOzNbSTszpz07mhE0OwAILTsAjCg7zWQqOzOPMjtmTj87Zi5MOzMTVjszK1w7zTBfOzOLYTuafWM7MydlOwDUZTuaBWQ7mnVgOwAkXTuawVw7zaBeO80UYzvN7Gc7ZsZsO80UcjszI3g7zeR+O2YGgzsA9IY7zdCLO5rZkDua05U7ZnaaO83enjvNxqI7zZClO5pPpjsAmqQ7mtefO2Y2mTvN/pE7zQKLO5qJhDtm0nw7zZxxO5qpaDvNlGA7zehcO2YOXzszs2M7mr1oO2ZObTsAfHA7mkFzO5rtdTvNmHY7ABx5OwAIezsASHw7zcR7OwBkezsABHg7M0N0O2Z2bztmXmo7msFmO2bGYjszu147zUxaOwDEVzszP1Y7zVxXO5qlWTsAZFw7MzdeO5r1XTszQ147Zh5eO5p9XjuabV47mjlfO80IYTtmjmI7miVjO5ohZDsAkGU7ADRnO2ZaaTvNUGs7zehsO2ZObDszM2o7mnVnO5rpZTtmDmQ7zXxiO81gYDsA2F07zSRbOwCgWDsz51c7mulXO5q9WDsz71c7mjFXOzMLVjsAWFQ7ZrJROzODTTtmpkc7mik/OzMHNTuanSk7zdQgO5rxFjszIw47mkUHOzOvATszW/o6AJj1OgAY8TrNHPI6Zob0OgBI9TqaQfg6zcz5Os0E+ToA0Pc6zdz3Omau9joAuPc6Zt71OprR8TrN3Oo6Zl7gOmau0joAkMY6M9u5OmZerDozy546MzOSOgBIhzqacYA6ZrZ4OgAwdzoAUHs6M1N5OjOTdzozM3I6ANBtOma2bTpmhm46ADBvOmbGbTpmBms6M+NoOpopbDpmBm06M5NwOmZGcjpm9nE6zcxyOmbmczpmnoA6ALiFOjN7izoza446Zn6SOjN7lzpm3pw6zRyiOpqRpTpmzqc6AKCkOjOjozrNPKM6M9umOprJrzpmNrs6zQzFOs20zjoAoNk6mhnkOgCY7DqaEfQ6mrn3Oppx9zqa4e46zczoOs0k4zrNVNs6mnHTOmauzToAeMo6mvnHOgCoyDoA0Mk6ADjNOgCoyjozm8g6Zj7IOgCIxzqa0cc6msHGOpoZxjqakcM6Zha9OmZmtDrNtK46zVyrOs3spjoA2KI6mgGeOmYenDpmbps6M2OdOpqhozozm606M+O1OprBvTrNJMc6M5PROmaW3DrNxOY6zTTwOjPL9zqayf46AJwDO2YSBztmZgo7MzcOO81sETtmnhQ7zUwYOwAcHTtmuiM7zaQqO2YKMDsAwDQ7zSw4OwBUOTsz7zk7zbw5O5qlOTszczk7moE4O2auNjtmIjU7ZkI0O5pVNDsAQDU7ms02OwB8ODsAnDk7M0c7O83QPDszP0E7M7tHO80kTTsAFFU7ZoZcOwCAZTtmom47Zop4O2aOgDuabYQ7zViHOwBWiTtmXIw7ANyNOzMnkDuaB5E7mjGRO5o1kDtmio87mhGPOzNXjjszuY07M0mNO5qZjTuaM447M7+PO81Ekjuau5U7MzeYO80ImTtm9po7ADCdO2Zsnjua4Z87ZrKgO80qoTsAFKI7ZgyiO2YqoTsANqE7ZiagO5ptnjuaUZ07zWabO82qmTsAupc7zbiUO2YakjuaxZA7M6GPOwCgjjtmDo07miWLOzOHiTszCYc7ADCGO2Z+hDuaN4M7zQ6EOzMdhDszsYI7M6WCO2aMgjtmpIQ7miGGO5oDhjtmxoY7AFaHOzNdhTsAzIQ7AJ6GOwCihzvNmIg7M+OGO5pphjsAHIY7zQyGOwD8hTsAloY7AMKGO2YshjvNsoU7ZmyFOwBuhTuauYU7Zu6FOzP9hTuaC4Y7AKyFOwB4hTszi4Q7ZiqDOzMJgTvNzH07M8N7OwCEejtm7ng7AGB2OwCcczszp3A7zWBuO5qNbTszw207M2dvOwCEbzszA247Mz9sO82Mazszi2s7zfRrO2b6bDsAfG07M2tuOzOXbTsAkGw7Zi5rOwBQajvN/Go7mpVtO80Aczua5Xg7AMx+O5oFgzsAvoc7zXiLOzOXjzvNxpM7APSWO2YGmTuaCZk7AE6ZOwB2mTuaK5k7M5+XOzPPljvN9JU7ADiVOwB8lDsA+JM7ZuiTO5pFkzvN7pI7ZraSO5onkjsznZE7mouROwBKkTsACJE7AMaQO83ojzvNbo07muOJO2b8hDszS4E7mjV5O2bWbzvNrGY7ZipeO5r1Ujszq0o7M0dFOzPLQjtmckI7AKRBOwAAQjvNDEA7Mzs+O818PjvNnEE7M19EO5pxSDsz/0o7mt1NOwCsUDuaWVQ7mhFaOwBMYDtmRmQ7mkloO5oVazuaoWw7mi1uOzNvcDtmenE7ZupwO2bibjsz22g7Zj5kO5oFYjtmll87Zv5dOzN7YDuacWA7zUBjO82EZTszg2Y7M6dpO81AajszH2k7ZjJpO2aWaDuamWM7AMBfO804WTsAXFQ7zbBRO81EUDtmZk87mj1NO2ZGSjtmUkc7zeREO2bOQjsAFEE7Zs4/O2aWPzszL0A7ANRBO5pVQzvNXEU7M/tIO81UTjsA+FI7M3NYO82MXjuazWM7mtlnO2a+ajsAOG47mt1uOzNrcDszb3E7zbxxOzMrcDtmGm47zUxrO80QaTvNSGY7M7dkO2ZGZTuaTWM7AKhgO83UXztmCmE7M7dhO5pRZTua8WY7zYBpOzOHajvNVGo7M1dqOwAwajtmLmk7Mx9nO81IZDszT187zfRbOzOPWDsAdFU7AFxTOwAkUTvN0E07ZvpKOwCURTvNNEM7ZiI/O5r1OzsA1Dg7mtk0OwCcLjvNoCc7M5MhO818GDtmChQ7Zk4MO2bKBTvNjAM7M3P5OmZO6zpmBuI6ZtbaOjO70jpmZtE6ZhbMOgDwyDrNbMY6mqG5OpoBtjozy7Q6Mzu0OmYOtToz47g6zQS8OmZmwDoze8E6mtHCOjMDyDozu8k6AMDIOpohwzoAwLs6Zs63OjPTuToAiLU6mmG4OprBuDpmFrE6mgGvOprhrjoAOLU6zVS8OprBvzqaGb46monBOs10wTqagck6mmnSOs0s2DoAyN46MzPkOgBg6Dpmxuo6AODqOs2E6zrNzOs6minmOjOT4zrN9OE6AOjfOgBA3Toz69s6M/vaOmaG3DoAEN86moHiOgDI6DoAAO46Zv7zOjMb+jrNQAA7M/cDO2ZWCDsAXAw7AKwPO2aCEjvNVBQ7ZrIWO2ZmGDvNoBk7ACQaO5rZGTszOxg7ADQXO2aKFztmQhc7mmEWO5rhFTtmahY7M78YO83QGjtm6h07mq0iOwDsJTuaJSY7AMAnOwBAKTua3So7miktOwDoKzvNTCc7zagkOzPfIDuaMR87zQQeOzMLHDuajRo7Zv4XOwD0EzuaqRI7MzcUOwCgETvNIA87MxcLOzOrBzsAjAQ7Zu4AO830/Tqa6fo6ALD1Os1k8zqaWfA6zXTvOs2k8jozM/g6mkn7OgDo/DrNJPw6MzP6Oma2+joA2Ps6zWz/Os2EADsze/86zYz8OgCg+zqawfw6Zg7+OjOL/zrNNP86Zh7+OpoZ/jrNvP46mqEAO82YAjvNEAU7mhEHOwDICTvNLA07AHQQO5qxFDszixk7mpEeOwDsJDsAvCo7AKwwO5rdOTvN3EM7ZtJMO81MVjsAgF87mhFoO2ZOcjsAyHg7mmV+O5p/gTsAuII7M2mDO2aIhDuaMYY7mu2GO2ayhjtmyoQ7ZuCDOwDmgjtmfoE7zRSAOwAQfTszC3k7Zj5zO81objuaTWs7M99oO5rVZTsAyGM7zSxjO81QYjvNnGE7M8thOzN3Yjszm2M7ALRkO5pxZjszG2g7AIxpO5qdajuaWWs7ADhsOzO7bDuaUW07AOBtO82IbjvNPG87M+tvOwDocDtmTnI7Mzt0O2bidjtmnno7ADh+O83qgDsAuoI7ZtqEOzMVhzszC4k7M/mKOzNLjTtmLo87M/GQO5qPkjvNbpU7zWCXO83omDtmFpo7mreaOwBWmjua25k7ZnSYO2YUlztm0JU7zSiTOzNrkTsAao87ms2NO83mjDuaeYw7ZpqLOwCQizsAcIs7AL6KO2ZmijtmEoo7ZhqKOzP1iTsz84k7M1WKO5rpijuaq4s7miGMO5pHjTtmoo07mmWNO5q5jDszpYs7MyGKOzO3iDszD4c7ZiKGO5rfhDtmEoM7mmOBOzOFgTtmroE7zTaCO2aMgjtmEIM7M2mDO80qgzuaCYM7AF6DO5r9gzszl4M7zTaEO83GhTtmRIc7ACKJOwBOizvN5Iw7ZviNOwDCjjvNlI87APyPOzNtjzvN1o47mheOO5rHjDsAcos7AFKKO5rpiTuayYk7mpWJO2Z4iTvNiok7mp+IO5pTiDvNZog7mieHO828hjtm9IQ7MwuEOwB4gzszV4I7zXiBOwAIgTszr4A7ADSAOzMFgTsAYIE7mjGDOzPzgztmPIQ7ZoSFO83chjszMYg7mt2JO83Gizszz407AJSPO2ZOkTsAtJI7M6mUO2ZIljuadZc7MzOYO81cmDuaFZg7M8+XO5qDlztmLJc7mteXOzMRmDszqZg7miOZOzNfmTtm1pk7M0maO2Z0mjsAwpo7APSaO2aImjua2Zk7M9mYO81AmDsAKpg7MyuYOwAumDszJ5g7zSyYOwBAmDsA6Jc7ZhCYOwDulzuaFZc7mt+VO5oflDsAvJM7zWqTOwDOkjvNbJI7Zq6SOwACkzvNPJM7AF6TO2aikzszZ5Q7M+mTO81kkzsA+JI7miOSOwD2kDszG487ZkiNO5oRjDsA3Io7zYSJOwAEiDtmZIY7M62EOwAAgzsAjIE7AKKAO5rVfzvNuH47AFh+OwB4fjtmun47Zjp/O82sfzsAqH87M69/OwA4fzsAWH87MwWAOzNtgDuavYA7APKAOwAWgTtmKoE7AEKBO2ZYgTuah4E7mpmBO81ogTszPYE7AM6AO82OgDszU4A7zaiAOwBygTszj4I7ZtqDO2YqhTsAdIY7M4eHOwDEiDsz14k7",
          "dtype": "f4"
         },
         "yaxis": "y"
        },
        {
         "line": {
          "color": "#2ca02c",
          "dash": "dot"
         },
         "mode": "lines",
         "name": "NN+Anzatz",
         "type": "scatter",
         "x": {
          "bdata": "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",
          "dtype": "i2"
         },
         "xaxis": "x2",
         "y": {
          "bdata": "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",
          "dtype": "f4"
         },
         "yaxis": "y2"
        }
       ],
       "layout": {
        "annotations": [
         {
          "font": {
           "size": 16
          },
          "showarrow": false,
          "text": "L2 Relative Error",
          "x": 0.5,
          "xanchor": "center",
          "xref": "paper",
          "y": 0.9999999999999999,
          "yanchor": "bottom",
          "yref": "paper"
         },
         {
          "font": {
           "size": 16
          },
          "showarrow": false,
          "text": "Maximum Error",
          "x": 0.5,
          "xanchor": "center",
          "xref": "paper",
          "y": 0.46499999999999997,
          "yanchor": "bottom",
          "yref": "paper"
         }
        ],
        "height": 500,
        "legend": {
         "title": {
          "text": "Run"
         }
        },
        "template": {
         "data": {
          "bar": [
           {
            "error_x": {
             "color": "#2a3f5f"
            },
            "error_y": {
             "color": "#2a3f5f"
            },
            "marker": {
             "line": {
              "color": "#E5ECF6",
              "width": 0.5
             },
             "pattern": {
              "fillmode": "overlay",
              "size": 10,
              "solidity": 0.2
             }
            },
            "type": "bar"
           }
          ],
          "barpolar": [
           {
            "marker": {
             "line": {
              "color": "#E5ECF6",
              "width": 0.5
             },
             "pattern": {
              "fillmode": "overlay",
              "size": 10,
              "solidity": 0.2
             }
            },
            "type": "barpolar"
           }
          ],
          "carpet": [
           {
            "aaxis": {
             "endlinecolor": "#2a3f5f",
             "gridcolor": "white",
             "linecolor": "white",
             "minorgridcolor": "white",
             "startlinecolor": "#2a3f5f"
            },
            "baxis": {
             "endlinecolor": "#2a3f5f",
             "gridcolor": "white",
             "linecolor": "white",
             "minorgridcolor": "white",
             "startlinecolor": "#2a3f5f"
            },
            "type": "carpet"
           }
          ],
          "choropleth": [
           {
            "colorbar": {
             "outlinewidth": 0,
             "ticks": ""
            },
            "type": "choropleth"
           }
          ],
          "contour": [
           {
            "colorbar": {
             "outlinewidth": 0,
             "ticks": ""
            },
            "colorscale": [
             [
              0,
              "#0d0887"
             ],
             [
              0.1111111111111111,
              "#46039f"
             ],
             [
              0.2222222222222222,
              "#7201a8"
             ],
             [
              0.3333333333333333,
              "#9c179e"
             ],
             [
              0.4444444444444444,
              "#bd3786"
             ],
             [
              0.5555555555555556,
              "#d8576b"
             ],
             [
              0.6666666666666666,
              "#ed7953"
             ],
             [
              0.7777777777777778,
              "#fb9f3a"
             ],
             [
              0.8888888888888888,
              "#fdca26"
             ],
             [
              1,
              "#f0f921"
             ]
            ],
            "type": "contour"
           }
          ],
          "contourcarpet": [
           {
            "colorbar": {
             "outlinewidth": 0,
             "ticks": ""
            },
            "type": "contourcarpet"
           }
          ],
          "heatmap": [
           {
            "colorbar": {
             "outlinewidth": 0,
             "ticks": ""
            },
            "colorscale": [
             [
              0,
              "#0d0887"
             ],
             [
              0.1111111111111111,
              "#46039f"
             ],
             [
              0.2222222222222222,
              "#7201a8"
             ],
             [
              0.3333333333333333,
              "#9c179e"
             ],
             [
              0.4444444444444444,
              "#bd3786"
             ],
             [
              0.5555555555555556,
              "#d8576b"
             ],
             [
              0.6666666666666666,
              "#ed7953"
             ],
             [
              0.7777777777777778,
              "#fb9f3a"
             ],
             [
              0.8888888888888888,
              "#fdca26"
             ],
             [
              1,
              "#f0f921"
             ]
            ],
            "type": "heatmap"
           }
          ],
          "histogram": [
           {
            "marker": {
             "pattern": {
              "fillmode": "overlay",
              "size": 10,
              "solidity": 0.2
             }
            },
            "type": "histogram"
           }
          ],
          "histogram2d": [
           {
            "colorbar": {
             "outlinewidth": 0,
             "ticks": ""
            },
            "colorscale": [
             [
              0,
              "#0d0887"
             ],
             [
              0.1111111111111111,
              "#46039f"
             ],
             [
              0.2222222222222222,
              "#7201a8"
             ],
             [
              0.3333333333333333,
              "#9c179e"
             ],
             [
              0.4444444444444444,
              "#bd3786"
             ],
             [
              0.5555555555555556,
              "#d8576b"
             ],
             [
              0.6666666666666666,
              "#ed7953"
             ],
             [
              0.7777777777777778,
              "#fb9f3a"
             ],
             [
              0.8888888888888888,
              "#fdca26"
             ],
             [
              1,
              "#f0f921"
             ]
            ],
            "type": "histogram2d"
           }
          ],
          "histogram2dcontour": [
           {
            "colorbar": {
             "outlinewidth": 0,
             "ticks": ""
            },
            "colorscale": [
             [
              0,
              "#0d0887"
             ],
             [
              0.1111111111111111,
              "#46039f"
             ],
             [
              0.2222222222222222,
              "#7201a8"
             ],
             [
              0.3333333333333333,
              "#9c179e"
             ],
             [
              0.4444444444444444,
              "#bd3786"
             ],
             [
              0.5555555555555556,
              "#d8576b"
             ],
             [
              0.6666666666666666,
              "#ed7953"
             ],
             [
              0.7777777777777778,
              "#fb9f3a"
             ],
             [
              0.8888888888888888,
              "#fdca26"
             ],
             [
              1,
              "#f0f921"
             ]
            ],
            "type": "histogram2dcontour"
           }
          ],
          "mesh3d": [
           {
            "colorbar": {
             "outlinewidth": 0,
             "ticks": ""
            },
            "type": "mesh3d"
           }
          ],
          "parcoords": [
           {
            "line": {
             "colorbar": {
              "outlinewidth": 0,
              "ticks": ""
             }
            },
            "type": "parcoords"
           }
          ],
          "pie": [
           {
            "automargin": true,
            "type": "pie"
           }
          ],
          "scatter": [
           {
            "fillpattern": {
             "fillmode": "overlay",
             "size": 10,
             "solidity": 0.2
            },
            "type": "scatter"
           }
          ],
          "scatter3d": [
           {
            "line": {
             "colorbar": {
              "outlinewidth": 0,
              "ticks": ""
             }
            },
            "marker": {
             "colorbar": {
              "outlinewidth": 0,
              "ticks": ""
             }
            },
            "type": "scatter3d"
           }
          ],
          "scattercarpet": [
           {
            "marker": {
             "colorbar": {
              "outlinewidth": 0,
              "ticks": ""
             }
            },
            "type": "scattercarpet"
           }
          ],
          "scattergeo": [
           {
            "marker": {
             "colorbar": {
              "outlinewidth": 0,
              "ticks": ""
             }
            },
            "type": "scattergeo"
           }
          ],
          "scattergl": [
           {
            "marker": {
             "colorbar": {
              "outlinewidth": 0,
              "ticks": ""
             }
            },
            "type": "scattergl"
           }
          ],
          "scattermap": [
           {
            "marker": {
             "colorbar": {
              "outlinewidth": 0,
              "ticks": ""
             }
            },
            "type": "scattermap"
           }
          ],
          "scattermapbox": [
           {
            "marker": {
             "colorbar": {
              "outlinewidth": 0,
              "ticks": ""
             }
            },
            "type": "scattermapbox"
           }
          ],
          "scatterpolar": [
           {
            "marker": {
             "colorbar": {
              "outlinewidth": 0,
              "ticks": ""
             }
            },
            "type": "scatterpolar"
           }
          ],
          "scatterpolargl": [
           {
            "marker": {
             "colorbar": {
              "outlinewidth": 0,
              "ticks": ""
             }
            },
            "type": "scatterpolargl"
           }
          ],
          "scatterternary": [
           {
            "marker": {
             "colorbar": {
              "outlinewidth": 0,
              "ticks": ""
             }
            },
            "type": "scatterternary"
           }
          ],
          "surface": [
           {
            "colorbar": {
             "outlinewidth": 0,
             "ticks": ""
            },
            "colorscale": [
             [
              0,
              "#0d0887"
             ],
             [
              0.1111111111111111,
              "#46039f"
             ],
             [
              0.2222222222222222,
              "#7201a8"
             ],
             [
              0.3333333333333333,
              "#9c179e"
             ],
             [
              0.4444444444444444,
              "#bd3786"
             ],
             [
              0.5555555555555556,
              "#d8576b"
             ],
             [
              0.6666666666666666,
              "#ed7953"
             ],
             [
              0.7777777777777778,
              "#fb9f3a"
             ],
             [
              0.8888888888888888,
              "#fdca26"
             ],
             [
              1,
              "#f0f921"
             ]
            ],
            "type": "surface"
           }
          ],
          "table": [
           {
            "cells": {
             "fill": {
              "color": "#EBF0F8"
             },
             "line": {
              "color": "white"
             }
            },
            "header": {
             "fill": {
              "color": "#C8D4E3"
             },
             "line": {
              "color": "white"
             }
            },
            "type": "table"
           }
          ]
         },
         "layout": {
          "annotationdefaults": {
           "arrowcolor": "#2a3f5f",
           "arrowhead": 0,
           "arrowwidth": 1
          },
          "autotypenumbers": "strict",
          "coloraxis": {
           "colorbar": {
            "outlinewidth": 0,
            "ticks": ""
           }
          },
          "colorscale": {
           "diverging": [
            [
             0,
             "#8e0152"
            ],
            [
             0.1,
             "#c51b7d"
            ],
            [
             0.2,
             "#de77ae"
            ],
            [
             0.3,
             "#f1b6da"
            ],
            [
             0.4,
             "#fde0ef"
            ],
            [
             0.5,
             "#f7f7f7"
            ],
            [
             0.6,
             "#e6f5d0"
            ],
            [
             0.7,
             "#b8e186"
            ],
            [
             0.8,
             "#7fbc41"
            ],
            [
             0.9,
             "#4d9221"
            ],
            [
             1,
             "#276419"
            ]
           ],
           "sequential": [
            [
             0,
             "#0d0887"
            ],
            [
             0.1111111111111111,
             "#46039f"
            ],
            [
             0.2222222222222222,
             "#7201a8"
            ],
            [
             0.3333333333333333,
             "#9c179e"
            ],
            [
             0.4444444444444444,
             "#bd3786"
            ],
            [
             0.5555555555555556,
             "#d8576b"
            ],
            [
             0.6666666666666666,
             "#ed7953"
            ],
            [
             0.7777777777777778,
             "#fb9f3a"
            ],
            [
             0.8888888888888888,
             "#fdca26"
            ],
            [
             1,
             "#f0f921"
            ]
           ],
           "sequentialminus": [
            [
             0,
             "#0d0887"
            ],
            [
             0.1111111111111111,
             "#46039f"
            ],
            [
             0.2222222222222222,
             "#7201a8"
            ],
            [
             0.3333333333333333,
             "#9c179e"
            ],
            [
             0.4444444444444444,
             "#bd3786"
            ],
            [
             0.5555555555555556,
             "#d8576b"
            ],
            [
             0.6666666666666666,
             "#ed7953"
            ],
            [
             0.7777777777777778,
             "#fb9f3a"
            ],
            [
             0.8888888888888888,
             "#fdca26"
            ],
            [
             1,
             "#f0f921"
            ]
           ]
          },
          "colorway": [
           "#636efa",
           "#EF553B",
           "#00cc96",
           "#ab63fa",
           "#FFA15A",
           "#19d3f3",
           "#FF6692",
           "#B6E880",
           "#FF97FF",
           "#FECB52"
          ],
          "font": {
           "color": "#2a3f5f"
          },
          "geo": {
           "bgcolor": "white",
           "lakecolor": "white",
           "landcolor": "#E5ECF6",
           "showlakes": true,
           "showland": true,
           "subunitcolor": "white"
          },
          "hoverlabel": {
           "align": "left"
          },
          "hovermode": "closest",
          "mapbox": {
           "style": "light"
          },
          "paper_bgcolor": "white",
          "plot_bgcolor": "#E5ECF6",
          "polar": {
           "angularaxis": {
            "gridcolor": "white",
            "linecolor": "white",
            "ticks": ""
           },
           "bgcolor": "#E5ECF6",
           "radialaxis": {
            "gridcolor": "white",
            "linecolor": "white",
            "ticks": ""
           }
          },
          "scene": {
           "xaxis": {
            "backgroundcolor": "#E5ECF6",
            "gridcolor": "white",
            "gridwidth": 2,
            "linecolor": "white",
            "showbackground": true,
            "ticks": "",
            "zerolinecolor": "white"
           },
           "yaxis": {
            "backgroundcolor": "#E5ECF6",
            "gridcolor": "white",
            "gridwidth": 2,
            "linecolor": "white",
            "showbackground": true,
            "ticks": "",
            "zerolinecolor": "white"
           },
           "zaxis": {
            "backgroundcolor": "#E5ECF6",
            "gridcolor": "white",
            "gridwidth": 2,
            "linecolor": "white",
            "showbackground": true,
            "ticks": "",
            "zerolinecolor": "white"
           }
          },
          "shapedefaults": {
           "line": {
            "color": "#2a3f5f"
           }
          },
          "ternary": {
           "aaxis": {
            "gridcolor": "white",
            "linecolor": "white",
            "ticks": ""
           },
           "baxis": {
            "gridcolor": "white",
            "linecolor": "white",
            "ticks": ""
           },
           "bgcolor": "#E5ECF6",
           "caxis": {
            "gridcolor": "white",
            "linecolor": "white",
            "ticks": ""
           }
          },
          "title": {
           "x": 0.05
          },
          "xaxis": {
           "automargin": true,
           "gridcolor": "white",
           "linecolor": "white",
           "ticks": "",
           "title": {
            "standoff": 15
           },
           "zerolinecolor": "white",
           "zerolinewidth": 2
          },
          "yaxis": {
           "automargin": true,
           "gridcolor": "white",
           "linecolor": "white",
           "ticks": "",
           "title": {
            "standoff": 15
           },
           "zerolinecolor": "white",
           "zerolinewidth": 2
          }
         }
        },
        "title": {
         "text": "Error Comparison"
        },
        "width": 900,
        "xaxis": {
         "anchor": "y",
         "domain": [
          0,
          1
         ],
         "matches": "x2",
         "showticklabels": false
        },
        "xaxis2": {
         "anchor": "y2",
         "domain": [
          0,
          1
         ]
        },
        "yaxis": {
         "anchor": "x",
         "domain": [
          0.5349999999999999,
          0.9999999999999999
         ],
         "type": "log"
        },
        "yaxis2": {
         "anchor": "x2",
         "domain": [
          0,
          0.46499999999999997
         ],
         "type": "log"
        }
       }
      }
     },
     "metadata": {},
     "output_type": "display_data"
    }
   ],
   "source": [
    "compare_error_histories(\n",
    "    [with_vanilla, with_spinn, with_anzats],\n",
    "    labels=[\"Vanilla\", \"SPINN\", \"NN+Anzatz\"],\n",
    "    smooth=True,\n",
    "    smooth_window=10,\n",
    ")"
   ]
  }
 ],
 "metadata": {
  "kernelspec": {
   "display_name": "Python 3",
   "language": "python",
   "name": "python3"
  },
  "language_info": {
   "codemirror_mode": {
    "name": "ipython",
    "version": 3
   },
   "file_extension": ".py",
   "mimetype": "text/x-python",
   "name": "python",
   "nbconvert_exporter": "python",
   "pygments_lexer": "ipython3",
   "version": "3.11.8"
  }
 },
 "nbformat": 4,
 "nbformat_minor": 5
}
