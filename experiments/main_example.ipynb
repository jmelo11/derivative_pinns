{
 "cells": [
  {
   "cell_type": "markdown",
   "id": "b32ec4e1",
   "metadata": {},
   "source": [
    "# Leveraging PINNs For Multi-Dimensional Pricing Problems \n",
    "#### Author: JP Melo"
   ]
  },
  {
   "cell_type": "markdown",
   "id": "408abab0",
   "metadata": {},
   "source": [
    "This thesis is focused on the application of Physics-Informed Neural Networks (PINNs) to solve multi-dimensional pricing problems in finance. The equation we attempt to solve is described below.\n",
    "\n",
    "### **Equation**\n",
    "First, we define the scaled variables \n",
    "$$\n",
    "  x_i \\;=\\; \\ln\\!\\Bigl(\\frac{S_i}{K}\\Bigr),\n",
    "  \\quad \n",
    "  u(\\tau, x_1, \\dots, x_d) \\;=\\; \\frac{V\\bigl(t,S_1,\\dots,S_d\\bigr)}{K}\n",
    "  \\quad\\text{with}\\quad \n",
    "  \\tau \\;=\\; T - t.\n",
    "$$\n",
    "\n",
    "Under risk-neutral pricing in backward time $\\tau$, the dimensionless function \n",
    "$u(\\tau, x_1, \\dots, x_d)$ satisfies the PDE\n",
    "$$\n",
    "\\frac{\\partial u}{\\partial \\tau} \\;=\\;\n",
    "\\frac{1}{2}\\sum_{i=1}^d \n",
    "\\sigma_i^{2}\\!\\left(\n",
    "\\frac{\\partial^{2}u}{\\partial x_i^{2}}\n",
    "-\\frac{\\partial u}{\\partial x_i}\\right)\n",
    "\\;+\\;\n",
    "\\frac{1}{2}\\sum_{i=1}^d\\sum_{j=1}^d\n",
    "\\sigma_i\\sigma_j\\rho_{ij}\\,\n",
    "\\frac{\\partial^{2}u}{\\partial x_i\\,\\partial x_j}\n",
    "\\;+\\;\n",
    "r\\sum_{i=1}^d\\frac{\\partial u}{\\partial x_i}\n",
    "\\;-\\;\n",
    "r\\,u .\n",
    "$$\n",
    "\n",
    "### **Boundary Conditions**\n",
    "\n",
    "**Bottom boundary**  \n",
    "For very small $S_i$ i.e. $x_i \\to -\\infty$, one commonly imposes (1 asset)\n",
    "$$\n",
    "    -\\frac{\\partial u}{\\partial \\tau} - ru \\;=\\; 0.\n",
    "$$\n",
    "\n",
    "For the multi-asset case, the k'th lower boundary condition is given by\n",
    "\n",
    "$$\n",
    "\\frac{\\partial u}{\\partial \\tau} \\;=\\;\n",
    "\\frac{1}{2}\\sum_{\\substack{i=1 \\\\ i\\neq k}}^d \n",
    "\\sigma_i^{2}\\!\\left(\n",
    "\\frac{\\partial^{2}u}{\\partial x_i^{2}}\n",
    "-\\frac{\\partial u}{\\partial x_i}\\right)\n",
    "\\;+\\;\n",
    "\\frac{1}{2}\\sum_{\\substack{i=1 \\\\ i\\neq k}}^d\n",
    "      \\sum_{\\substack{j=1 \\\\ j\\neq k}}^d\n",
    "\\sigma_i\\sigma_j\\rho_{ij}\\,\n",
    "\\frac{\\partial^{2}u}{\\partial x_i\\,\\partial x_j}\n",
    "\\;+\\;\n",
    "r\\sum_{\\substack{i=1 \\\\ i\\neq k}}^d\n",
    "\\frac{\\partial u}{\\partial x_i}\n",
    "\\;-\\;\n",
    "r\\,u .\n",
    "$$\n",
    "\n",
    "**Top boundary**  \n",
    "For very large $S_i$ i.e. $x_i \\to +\\infty$, assume asymptotically linear behavior in $S_i$,\n",
    "which translates to the following expression in the dimensionless case (1 asset):\n",
    "$$\n",
    "   \\frac{\\partial^2 u}{\\partial x_i^2}-\\frac{\\partial u}{\\partial x_i} = 0\n",
    "$$\n",
    "\n",
    "The generalization for the multi-asset case is straightforward is presented below:\n",
    "\n",
    "$$\n",
    "\\frac{\\partial u}{\\partial \\tau} \\;=\\;\n",
    "\\frac{1}{2}\\sum_{\\substack{i=1 \\\\ i\\neq k}}^d \n",
    "\\sigma_i^{2}\\!\\left(\n",
    "\\frac{\\partial^{2}u}{\\partial x_i^{2}}\n",
    "-\\frac{\\partial u}{\\partial x_i}\\right)\n",
    "\\;+\\;\n",
    "\\frac{1}{2}\\sum_{\\substack{i=1 \\\\ i\\neq k}}^d\n",
    "      \\sum_{\\substack{j=1 \\\\ j\\neq k}}^d\n",
    "\\sigma_i\\sigma_j\\rho_{ij}\\,\n",
    "\\frac{\\partial^{2}u}{\\partial x_i\\,\\partial x_j}\n",
    "\\;+\\;\n",
    "r\\sum_{i=1}^d\\frac{\\partial u}{\\partial x_i}\n",
    "\\;-\\;\n",
    "r\\,u .\n",
    "$$"
   ]
  },
  {
   "cell_type": "markdown",
   "id": "b50527de",
   "metadata": {},
   "source": [
    "### Imports"
   ]
  },
  {
   "cell_type": "code",
   "execution_count": 1,
   "id": "5d74c022",
   "metadata": {},
   "outputs": [
    {
     "name": "stderr",
     "output_type": "stream",
     "text": [
      "/Users/josemelo/Desktop/master/tesis/codes/.conda/lib/python3.11/site-packages/kfac/base_preconditioner.py:15: UserWarning: NVIDIA Apex is not installed or was not installed with --cpp_ext. Falling back to PyTorch flatten and unflatten.\n",
      "  from kfac.distributed import get_rank\n"
     ]
    }
   ],
   "source": [
    "from derpinns.nn import *\n",
    "from derpinns.utils import *\n",
    "from derpinns.trainer import *\n",
    "import torch\n",
    "import kfac"
   ]
  },
  {
   "cell_type": "markdown",
   "id": "bc70ad0c",
   "metadata": {},
   "source": [
    "## Parameters"
   ]
  },
  {
   "cell_type": "code",
   "execution_count": 2,
   "id": "1176864d",
   "metadata": {},
   "outputs": [
    {
     "data": {
      "text/plain": [
       "NN(\n",
       "  (hidden_layers): Sequential(\n",
       "    (0): Linear(in_features=3, out_features=10, bias=True)\n",
       "    (1): Softplus(beta=1.0, threshold=20.0)\n",
       "    (2): Linear(in_features=10, out_features=10, bias=True)\n",
       "    (3): Softplus(beta=1.0, threshold=20.0)\n",
       "    (4): Linear(in_features=10, out_features=10, bias=True)\n",
       "    (5): Softplus(beta=1.0, threshold=20.0)\n",
       "  )\n",
       "  (output_layer): Linear(in_features=10, out_features=1, bias=True)\n",
       ")"
      ]
     },
     "execution_count": 2,
     "metadata": {},
     "output_type": "execute_result"
    }
   ],
   "source": [
    "# Fix seed for reproducibility\n",
    "torch.manual_seed(0)\n",
    "np.random.seed(0)\n",
    "\n",
    "# Global parameters\n",
    "assets = 2\n",
    "sampler = \"pseudo\"               # [\"pseudo\", \"LHS\", \"Halton\", \"Hammersley\", \"Sobol\"]:\n",
    "nn_shape = \"10x3\"                # n_assets input layer + 64 neurons, 3 hidden layers + 1 output layer\n",
    "device = torch.device(\"cpu\")     # cpu, cuda or mps\n",
    "dtype = torch.float32\n",
    "\n",
    "# Define option valuation params\n",
    "params = OptionParameters(\n",
    "    n_assets=assets,\n",
    "    tau=1.0,\n",
    "    sigma=np.array([0.2] * assets),\n",
    "    rho=np.eye(assets) + 0.25 * (np.ones((assets, assets)) - np.eye(assets)),\n",
    "    r=0.05,\n",
    "    strike=100,\n",
    "    payoff=payoff\n",
    ")\n",
    "\n",
    "# Build the net to be used\n",
    "model = build_nn(\n",
    "    nn_shape=nn_shape,\n",
    "    input_dim=assets,\n",
    "    dtype=torch.float32,\n",
    "    activation=nn.Softplus(),\n",
    ").apply(weights_init).to(device)\n",
    "\n",
    "### Other available net models\n",
    "# model = NNWithAnsatz(n_layers=3, input_dim=assets+1,hidden_dim=32, output_dim=1).apply(weights_init).to(device)\n",
    "# model = SPINN(n_layers=3, input_dim=assets+1, hidden_dim=32, output_dim=1).apply(weights_init).to(device)\n",
    "# model = NNWithFourier(n_layers=3, input_dim=assets+1, hidden_dim=64, output_dim=1).apply(weights_init).to(device)\n",
    "\n",
    "model.train()"
   ]
  },
  {
   "cell_type": "markdown",
   "id": "7bdffad9",
   "metadata": {},
   "source": [
    "## Training\n",
    "\n",
    "For training, different optimizers are used in order to get better accuracy as stated in [this article](https://arxiv.org/pdf/2402.01868)."
   ]
  },
  {
   "cell_type": "markdown",
   "id": "75c5452c",
   "metadata": {},
   "source": [
    "### Adam Training"
   ]
  },
  {
   "cell_type": "code",
   "execution_count": 3,
   "id": "8a7c1354",
   "metadata": {},
   "outputs": [
    {
     "name": "stderr",
     "output_type": "stream",
     "text": [
      "Adam training: 100%|██████████| 200/200 [01:02<00:00,  3.22it/s, Interior=0.000452, Boundary=0.001859, Initial=0.004394, Total=0.006704, Max Error=133.5758056641, L2 Error=0.2277365774]\n"
     ]
    }
   ],
   "source": [
    "\n",
    "# Set the training parameters\n",
    "batch_size = 100\n",
    "total_iter = 200\n",
    "boundary_samples = 20_000\n",
    "interior_samples = boundary_samples*assets*2\n",
    "initial_samples = boundary_samples*assets*2\n",
    "\n",
    "# Create dataset to traing over\n",
    "dataset = SampledDataset(\n",
    "    params, interior_samples, initial_samples, boundary_samples, sampler, dtype, device, seed=0)\n",
    "\n",
    "# Set optimizer and training function\n",
    "# 1e-2 is big enought to reach a reasonable min in few steps\n",
    "optimizer = torch.optim.Adam(model.parameters(), lr=1e-2, amsgrad=True)\n",
    "preconditioner = kfac.preconditioner.KFACPreconditioner(model)\n",
    "\n",
    "# # Set the training function\n",
    "closure = DimlessBS()\\\n",
    "    .with_dataset(dataset, loader_opts={'batch_size': batch_size, \"shuffle\": True, \"pin_memory\": True})\\\n",
    "    .with_model(model)\\\n",
    "    .with_device(device)\\\n",
    "    .with_dtype(dtype)\n",
    "\n",
    "trainer = PINNTrainer()\\\n",
    "    .with_optimizer(optimizer)\\\n",
    "    .with_device(device)\\\n",
    "    .with_dtype(dtype)\\\n",
    "    .with_training_step(closure)\\\n",
    "    .with_epochs(total_iter)\\\n",
    "    .with_preconditioner(preconditioner)\\\n",
    "\n",
    "trainer.train()"
   ]
  },
  {
   "cell_type": "code",
   "execution_count": 4,
   "id": "524726b5",
   "metadata": {},
   "outputs": [
    {
     "data": {
      "application/vnd.plotly.v1+json": {
       "config": {
        "plotlyServerURL": "https://plot.ly"
       },
       "data": [
        {
         "line": {
          "color": "#08306B"
         },
         "mode": "lines",
         "name": "PDE Loss",
         "type": "scatter",
         "x": {
          "bdata": "AAABAAIAAwAEAAUABgAHAAgACQAKAAsADAANAA4ADwAQABEAEgATABQAFQAWABcAGAAZABoAGwAcAB0AHgAfACAAIQAiACMAJAAlACYAJwAoACkAKgArACwALQAuAC8AMAAxADIAMwA0ADUANgA3ADgAOQA6ADsAPAA9AD4APwBAAEEAQgBDAEQARQBGAEcASABJAEoASwBMAE0ATgBPAFAAUQBSAFMAVABVAFYAVwBYAFkAWgBbAFwAXQBeAF8AYABhAGIAYwBkAGUAZgBnAGgAaQBqAGsAbABtAG4AbwBwAHEAcgBzAHQAdQB2AHcAeAB5AHoAewB8AH0AfgB/AIAAgQCCAIMAhACFAIYAhwCIAIkAigCLAIwAjQCOAI8AkACRAJIAkwCUAJUAlgCXAJgAmQCaAJsAnACdAJ4AnwCgAKEAogCjAKQApQCmAKcAqACpAKoAqwCsAK0ArgCvALAAsQCyALMAtAC1ALYAtwC4ALkAugC7ALwAvQC+AL8AwADBAMIAwwDEAMUAxgDHAA==",
          "dtype": "i2"
         },
         "y": {
          "bdata": "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",
          "dtype": "f8"
         }
        },
        {
         "line": {
          "color": "#3182BD"
         },
         "mode": "lines",
         "name": "Boundary Loss",
         "type": "scatter",
         "x": {
          "bdata": "AAABAAIAAwAEAAUABgAHAAgACQAKAAsADAANAA4ADwAQABEAEgATABQAFQAWABcAGAAZABoAGwAcAB0AHgAfACAAIQAiACMAJAAlACYAJwAoACkAKgArACwALQAuAC8AMAAxADIAMwA0ADUANgA3ADgAOQA6ADsAPAA9AD4APwBAAEEAQgBDAEQARQBGAEcASABJAEoASwBMAE0ATgBPAFAAUQBSAFMAVABVAFYAVwBYAFkAWgBbAFwAXQBeAF8AYABhAGIAYwBkAGUAZgBnAGgAaQBqAGsAbABtAG4AbwBwAHEAcgBzAHQAdQB2AHcAeAB5AHoAewB8AH0AfgB/AIAAgQCCAIMAhACFAIYAhwCIAIkAigCLAIwAjQCOAI8AkACRAJIAkwCUAJUAlgCXAJgAmQCaAJsAnACdAJ4AnwCgAKEAogCjAKQApQCmAKcAqACpAKoAqwCsAK0ArgCvALAAsQCyALMAtAC1ALYAtwC4ALkAugC7ALwAvQC+AL8AwADBAMIAwwDEAMUAxgDHAA==",
          "dtype": "i2"
         },
         "y": {
          "bdata": "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",
          "dtype": "f8"
         }
        },
        {
         "line": {
          "color": "#9ECAE1"
         },
         "mode": "lines",
         "name": "Initial Loss",
         "type": "scatter",
         "x": {
          "bdata": "AAABAAIAAwAEAAUABgAHAAgACQAKAAsADAANAA4ADwAQABEAEgATABQAFQAWABcAGAAZABoAGwAcAB0AHgAfACAAIQAiACMAJAAlACYAJwAoACkAKgArACwALQAuAC8AMAAxADIAMwA0ADUANgA3ADgAOQA6ADsAPAA9AD4APwBAAEEAQgBDAEQARQBGAEcASABJAEoASwBMAE0ATgBPAFAAUQBSAFMAVABVAFYAVwBYAFkAWgBbAFwAXQBeAF8AYABhAGIAYwBkAGUAZgBnAGgAaQBqAGsAbABtAG4AbwBwAHEAcgBzAHQAdQB2AHcAeAB5AHoAewB8AH0AfgB/AIAAgQCCAIMAhACFAIYAhwCIAIkAigCLAIwAjQCOAI8AkACRAJIAkwCUAJUAlgCXAJgAmQCaAJsAnACdAJ4AnwCgAKEAogCjAKQApQCmAKcAqACpAKoAqwCsAK0ArgCvALAAsQCyALMAtAC1ALYAtwC4ALkAugC7ALwAvQC+AL8AwADBAMIAwwDEAMUAxgDHAA==",
          "dtype": "i2"
         },
         "y": {
          "bdata": "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",
          "dtype": "f8"
         }
        }
       ],
       "layout": {
        "height": 600,
        "legend": {
         "orientation": "h",
         "x": 0.5,
         "xanchor": "center",
         "y": 1,
         "yanchor": "top"
        },
        "template": {
         "data": {
          "bar": [
           {
            "error_x": {
             "color": "#2a3f5f"
            },
            "error_y": {
             "color": "#2a3f5f"
            },
            "marker": {
             "line": {
              "color": "white",
              "width": 0.5
             },
             "pattern": {
              "fillmode": "overlay",
              "size": 10,
              "solidity": 0.2
             }
            },
            "type": "bar"
           }
          ],
          "barpolar": [
           {
            "marker": {
             "line": {
              "color": "white",
              "width": 0.5
             },
             "pattern": {
              "fillmode": "overlay",
              "size": 10,
              "solidity": 0.2
             }
            },
            "type": "barpolar"
           }
          ],
          "carpet": [
           {
            "aaxis": {
             "endlinecolor": "#2a3f5f",
             "gridcolor": "#C8D4E3",
             "linecolor": "#C8D4E3",
             "minorgridcolor": "#C8D4E3",
             "startlinecolor": "#2a3f5f"
            },
            "baxis": {
             "endlinecolor": "#2a3f5f",
             "gridcolor": "#C8D4E3",
             "linecolor": "#C8D4E3",
             "minorgridcolor": "#C8D4E3",
             "startlinecolor": "#2a3f5f"
            },
            "type": "carpet"
           }
          ],
          "choropleth": [
           {
            "colorbar": {
             "outlinewidth": 0,
             "ticks": ""
            },
            "type": "choropleth"
           }
          ],
          "contour": [
           {
            "colorbar": {
             "outlinewidth": 0,
             "ticks": ""
            },
            "colorscale": [
             [
              0,
              "#0d0887"
             ],
             [
              0.1111111111111111,
              "#46039f"
             ],
             [
              0.2222222222222222,
              "#7201a8"
             ],
             [
              0.3333333333333333,
              "#9c179e"
             ],
             [
              0.4444444444444444,
              "#bd3786"
             ],
             [
              0.5555555555555556,
              "#d8576b"
             ],
             [
              0.6666666666666666,
              "#ed7953"
             ],
             [
              0.7777777777777778,
              "#fb9f3a"
             ],
             [
              0.8888888888888888,
              "#fdca26"
             ],
             [
              1,
              "#f0f921"
             ]
            ],
            "type": "contour"
           }
          ],
          "contourcarpet": [
           {
            "colorbar": {
             "outlinewidth": 0,
             "ticks": ""
            },
            "type": "contourcarpet"
           }
          ],
          "heatmap": [
           {
            "colorbar": {
             "outlinewidth": 0,
             "ticks": ""
            },
            "colorscale": [
             [
              0,
              "#0d0887"
             ],
             [
              0.1111111111111111,
              "#46039f"
             ],
             [
              0.2222222222222222,
              "#7201a8"
             ],
             [
              0.3333333333333333,
              "#9c179e"
             ],
             [
              0.4444444444444444,
              "#bd3786"
             ],
             [
              0.5555555555555556,
              "#d8576b"
             ],
             [
              0.6666666666666666,
              "#ed7953"
             ],
             [
              0.7777777777777778,
              "#fb9f3a"
             ],
             [
              0.8888888888888888,
              "#fdca26"
             ],
             [
              1,
              "#f0f921"
             ]
            ],
            "type": "heatmap"
           }
          ],
          "histogram": [
           {
            "marker": {
             "pattern": {
              "fillmode": "overlay",
              "size": 10,
              "solidity": 0.2
             }
            },
            "type": "histogram"
           }
          ],
          "histogram2d": [
           {
            "colorbar": {
             "outlinewidth": 0,
             "ticks": ""
            },
            "colorscale": [
             [
              0,
              "#0d0887"
             ],
             [
              0.1111111111111111,
              "#46039f"
             ],
             [
              0.2222222222222222,
              "#7201a8"
             ],
             [
              0.3333333333333333,
              "#9c179e"
             ],
             [
              0.4444444444444444,
              "#bd3786"
             ],
             [
              0.5555555555555556,
              "#d8576b"
             ],
             [
              0.6666666666666666,
              "#ed7953"
             ],
             [
              0.7777777777777778,
              "#fb9f3a"
             ],
             [
              0.8888888888888888,
              "#fdca26"
             ],
             [
              1,
              "#f0f921"
             ]
            ],
            "type": "histogram2d"
           }
          ],
          "histogram2dcontour": [
           {
            "colorbar": {
             "outlinewidth": 0,
             "ticks": ""
            },
            "colorscale": [
             [
              0,
              "#0d0887"
             ],
             [
              0.1111111111111111,
              "#46039f"
             ],
             [
              0.2222222222222222,
              "#7201a8"
             ],
             [
              0.3333333333333333,
              "#9c179e"
             ],
             [
              0.4444444444444444,
              "#bd3786"
             ],
             [
              0.5555555555555556,
              "#d8576b"
             ],
             [
              0.6666666666666666,
              "#ed7953"
             ],
             [
              0.7777777777777778,
              "#fb9f3a"
             ],
             [
              0.8888888888888888,
              "#fdca26"
             ],
             [
              1,
              "#f0f921"
             ]
            ],
            "type": "histogram2dcontour"
           }
          ],
          "mesh3d": [
           {
            "colorbar": {
             "outlinewidth": 0,
             "ticks": ""
            },
            "type": "mesh3d"
           }
          ],
          "parcoords": [
           {
            "line": {
             "colorbar": {
              "outlinewidth": 0,
              "ticks": ""
             }
            },
            "type": "parcoords"
           }
          ],
          "pie": [
           {
            "automargin": true,
            "type": "pie"
           }
          ],
          "scatter": [
           {
            "fillpattern": {
             "fillmode": "overlay",
             "size": 10,
             "solidity": 0.2
            },
            "type": "scatter"
           }
          ],
          "scatter3d": [
           {
            "line": {
             "colorbar": {
              "outlinewidth": 0,
              "ticks": ""
             }
            },
            "marker": {
             "colorbar": {
              "outlinewidth": 0,
              "ticks": ""
             }
            },
            "type": "scatter3d"
           }
          ],
          "scattercarpet": [
           {
            "marker": {
             "colorbar": {
              "outlinewidth": 0,
              "ticks": ""
             }
            },
            "type": "scattercarpet"
           }
          ],
          "scattergeo": [
           {
            "marker": {
             "colorbar": {
              "outlinewidth": 0,
              "ticks": ""
             }
            },
            "type": "scattergeo"
           }
          ],
          "scattergl": [
           {
            "marker": {
             "colorbar": {
              "outlinewidth": 0,
              "ticks": ""
             }
            },
            "type": "scattergl"
           }
          ],
          "scattermap": [
           {
            "marker": {
             "colorbar": {
              "outlinewidth": 0,
              "ticks": ""
             }
            },
            "type": "scattermap"
           }
          ],
          "scattermapbox": [
           {
            "marker": {
             "colorbar": {
              "outlinewidth": 0,
              "ticks": ""
             }
            },
            "type": "scattermapbox"
           }
          ],
          "scatterpolar": [
           {
            "marker": {
             "colorbar": {
              "outlinewidth": 0,
              "ticks": ""
             }
            },
            "type": "scatterpolar"
           }
          ],
          "scatterpolargl": [
           {
            "marker": {
             "colorbar": {
              "outlinewidth": 0,
              "ticks": ""
             }
            },
            "type": "scatterpolargl"
           }
          ],
          "scatterternary": [
           {
            "marker": {
             "colorbar": {
              "outlinewidth": 0,
              "ticks": ""
             }
            },
            "type": "scatterternary"
           }
          ],
          "surface": [
           {
            "colorbar": {
             "outlinewidth": 0,
             "ticks": ""
            },
            "colorscale": [
             [
              0,
              "#0d0887"
             ],
             [
              0.1111111111111111,
              "#46039f"
             ],
             [
              0.2222222222222222,
              "#7201a8"
             ],
             [
              0.3333333333333333,
              "#9c179e"
             ],
             [
              0.4444444444444444,
              "#bd3786"
             ],
             [
              0.5555555555555556,
              "#d8576b"
             ],
             [
              0.6666666666666666,
              "#ed7953"
             ],
             [
              0.7777777777777778,
              "#fb9f3a"
             ],
             [
              0.8888888888888888,
              "#fdca26"
             ],
             [
              1,
              "#f0f921"
             ]
            ],
            "type": "surface"
           }
          ],
          "table": [
           {
            "cells": {
             "fill": {
              "color": "#EBF0F8"
             },
             "line": {
              "color": "white"
             }
            },
            "header": {
             "fill": {
              "color": "#C8D4E3"
             },
             "line": {
              "color": "white"
             }
            },
            "type": "table"
           }
          ]
         },
         "layout": {
          "annotationdefaults": {
           "arrowcolor": "#2a3f5f",
           "arrowhead": 0,
           "arrowwidth": 1
          },
          "autotypenumbers": "strict",
          "coloraxis": {
           "colorbar": {
            "outlinewidth": 0,
            "ticks": ""
           }
          },
          "colorscale": {
           "diverging": [
            [
             0,
             "#8e0152"
            ],
            [
             0.1,
             "#c51b7d"
            ],
            [
             0.2,
             "#de77ae"
            ],
            [
             0.3,
             "#f1b6da"
            ],
            [
             0.4,
             "#fde0ef"
            ],
            [
             0.5,
             "#f7f7f7"
            ],
            [
             0.6,
             "#e6f5d0"
            ],
            [
             0.7,
             "#b8e186"
            ],
            [
             0.8,
             "#7fbc41"
            ],
            [
             0.9,
             "#4d9221"
            ],
            [
             1,
             "#276419"
            ]
           ],
           "sequential": [
            [
             0,
             "#0d0887"
            ],
            [
             0.1111111111111111,
             "#46039f"
            ],
            [
             0.2222222222222222,
             "#7201a8"
            ],
            [
             0.3333333333333333,
             "#9c179e"
            ],
            [
             0.4444444444444444,
             "#bd3786"
            ],
            [
             0.5555555555555556,
             "#d8576b"
            ],
            [
             0.6666666666666666,
             "#ed7953"
            ],
            [
             0.7777777777777778,
             "#fb9f3a"
            ],
            [
             0.8888888888888888,
             "#fdca26"
            ],
            [
             1,
             "#f0f921"
            ]
           ],
           "sequentialminus": [
            [
             0,
             "#0d0887"
            ],
            [
             0.1111111111111111,
             "#46039f"
            ],
            [
             0.2222222222222222,
             "#7201a8"
            ],
            [
             0.3333333333333333,
             "#9c179e"
            ],
            [
             0.4444444444444444,
             "#bd3786"
            ],
            [
             0.5555555555555556,
             "#d8576b"
            ],
            [
             0.6666666666666666,
             "#ed7953"
            ],
            [
             0.7777777777777778,
             "#fb9f3a"
            ],
            [
             0.8888888888888888,
             "#fdca26"
            ],
            [
             1,
             "#f0f921"
            ]
           ]
          },
          "colorway": [
           "#636efa",
           "#EF553B",
           "#00cc96",
           "#ab63fa",
           "#FFA15A",
           "#19d3f3",
           "#FF6692",
           "#B6E880",
           "#FF97FF",
           "#FECB52"
          ],
          "font": {
           "color": "#2a3f5f"
          },
          "geo": {
           "bgcolor": "white",
           "lakecolor": "white",
           "landcolor": "white",
           "showlakes": true,
           "showland": true,
           "subunitcolor": "#C8D4E3"
          },
          "hoverlabel": {
           "align": "left"
          },
          "hovermode": "closest",
          "mapbox": {
           "style": "light"
          },
          "paper_bgcolor": "white",
          "plot_bgcolor": "white",
          "polar": {
           "angularaxis": {
            "gridcolor": "#EBF0F8",
            "linecolor": "#EBF0F8",
            "ticks": ""
           },
           "bgcolor": "white",
           "radialaxis": {
            "gridcolor": "#EBF0F8",
            "linecolor": "#EBF0F8",
            "ticks": ""
           }
          },
          "scene": {
           "xaxis": {
            "backgroundcolor": "white",
            "gridcolor": "#DFE8F3",
            "gridwidth": 2,
            "linecolor": "#EBF0F8",
            "showbackground": true,
            "ticks": "",
            "zerolinecolor": "#EBF0F8"
           },
           "yaxis": {
            "backgroundcolor": "white",
            "gridcolor": "#DFE8F3",
            "gridwidth": 2,
            "linecolor": "#EBF0F8",
            "showbackground": true,
            "ticks": "",
            "zerolinecolor": "#EBF0F8"
           },
           "zaxis": {
            "backgroundcolor": "white",
            "gridcolor": "#DFE8F3",
            "gridwidth": 2,
            "linecolor": "#EBF0F8",
            "showbackground": true,
            "ticks": "",
            "zerolinecolor": "#EBF0F8"
           }
          },
          "shapedefaults": {
           "line": {
            "color": "#2a3f5f"
           }
          },
          "ternary": {
           "aaxis": {
            "gridcolor": "#DFE8F3",
            "linecolor": "#A2B1C6",
            "ticks": ""
           },
           "baxis": {
            "gridcolor": "#DFE8F3",
            "linecolor": "#A2B1C6",
            "ticks": ""
           },
           "bgcolor": "white",
           "caxis": {
            "gridcolor": "#DFE8F3",
            "linecolor": "#A2B1C6",
            "ticks": ""
           }
          },
          "title": {
           "x": 0.05
          },
          "xaxis": {
           "automargin": true,
           "gridcolor": "#EBF0F8",
           "linecolor": "#EBF0F8",
           "ticks": "",
           "title": {
            "standoff": 15
           },
           "zerolinecolor": "#EBF0F8",
           "zerolinewidth": 2
          },
          "yaxis": {
           "automargin": true,
           "gridcolor": "#EBF0F8",
           "linecolor": "#EBF0F8",
           "ticks": "",
           "title": {
            "standoff": 15
           },
           "zerolinecolor": "#EBF0F8",
           "zerolinewidth": 2
          }
         }
        },
        "title": {
         "text": "Loss History"
        },
        "width": 800,
        "xaxis": {
         "title": {
          "text": "Epoch"
         }
        },
        "yaxis": {
         "title": {
          "text": "Loss (log‑scale)"
         },
         "type": "log"
        }
       }
      }
     },
     "metadata": {},
     "output_type": "display_data"
    }
   ],
   "source": [
    "state = trainer.closure.get_state()\n",
    "plot_loss(state, smooth=True, smooth_window=10)"
   ]
  },
  {
   "cell_type": "code",
   "execution_count": 5,
   "id": "adaec2b8",
   "metadata": {},
   "outputs": [
    {
     "name": "stdout",
     "output_type": "stream",
     "text": [
      "L2 Error:  17.93898\n"
     ]
    }
   ],
   "source": [
    "results = compare_with_mc(model, params, n_prices=200,\n",
    "                          n_simulations=10_000, dtype=dtype, device=device, seed=42)['l2_rel_error']\n",
    "print(\"L2 Error: \", results*100)"
   ]
  },
  {
   "cell_type": "markdown",
   "id": "53f1c27f",
   "metadata": {},
   "source": [
    "### QN Training"
   ]
  },
  {
   "cell_type": "code",
   "execution_count": 6,
   "id": "94ae5cfa",
   "metadata": {},
   "outputs": [
    {
     "name": "stderr",
     "output_type": "stream",
     "text": [
      "SSBroyden training: 100%|██████████| 1000/1000 [07:19<00:00,  2.27it/s, Interior=0.000013, Boundary=0.000007, Initial=0.000017, Total=0.000038, Max Error=1.324707, L2 Error=0.002104]\n"
     ]
    },
    {
     "data": {
      "application/vnd.plotly.v1+json": {
       "config": {
        "plotlyServerURL": "https://plot.ly"
       },
       "data": [
        {
         "line": {
          "color": "#08306B"
         },
         "mode": "lines",
         "name": "PDE Loss",
         "type": "scatter",
         "x": {
          "bdata": "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",
          "dtype": "i2"
         },
         "y": {
          "bdata": "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",
          "dtype": "f8"
         }
        },
        {
         "line": {
          "color": "#3182BD"
         },
         "mode": "lines",
         "name": "Boundary Loss",
         "type": "scatter",
         "x": {
          "bdata": "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",
          "dtype": "i2"
         },
         "y": {
          "bdata": "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",
          "dtype": "f8"
         }
        },
        {
         "line": {
          "color": "#9ECAE1"
         },
         "mode": "lines",
         "name": "Initial Loss",
         "type": "scatter",
         "x": {
          "bdata": "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",
          "dtype": "i2"
         },
         "y": {
          "bdata": "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",
          "dtype": "f8"
         }
        }
       ],
       "layout": {
        "height": 600,
        "legend": {
         "orientation": "h",
         "x": 0.5,
         "xanchor": "center",
         "y": 1,
         "yanchor": "top"
        },
        "template": {
         "data": {
          "bar": [
           {
            "error_x": {
             "color": "#2a3f5f"
            },
            "error_y": {
             "color": "#2a3f5f"
            },
            "marker": {
             "line": {
              "color": "white",
              "width": 0.5
             },
             "pattern": {
              "fillmode": "overlay",
              "size": 10,
              "solidity": 0.2
             }
            },
            "type": "bar"
           }
          ],
          "barpolar": [
           {
            "marker": {
             "line": {
              "color": "white",
              "width": 0.5
             },
             "pattern": {
              "fillmode": "overlay",
              "size": 10,
              "solidity": 0.2
             }
            },
            "type": "barpolar"
           }
          ],
          "carpet": [
           {
            "aaxis": {
             "endlinecolor": "#2a3f5f",
             "gridcolor": "#C8D4E3",
             "linecolor": "#C8D4E3",
             "minorgridcolor": "#C8D4E3",
             "startlinecolor": "#2a3f5f"
            },
            "baxis": {
             "endlinecolor": "#2a3f5f",
             "gridcolor": "#C8D4E3",
             "linecolor": "#C8D4E3",
             "minorgridcolor": "#C8D4E3",
             "startlinecolor": "#2a3f5f"
            },
            "type": "carpet"
           }
          ],
          "choropleth": [
           {
            "colorbar": {
             "outlinewidth": 0,
             "ticks": ""
            },
            "type": "choropleth"
           }
          ],
          "contour": [
           {
            "colorbar": {
             "outlinewidth": 0,
             "ticks": ""
            },
            "colorscale": [
             [
              0,
              "#0d0887"
             ],
             [
              0.1111111111111111,
              "#46039f"
             ],
             [
              0.2222222222222222,
              "#7201a8"
             ],
             [
              0.3333333333333333,
              "#9c179e"
             ],
             [
              0.4444444444444444,
              "#bd3786"
             ],
             [
              0.5555555555555556,
              "#d8576b"
             ],
             [
              0.6666666666666666,
              "#ed7953"
             ],
             [
              0.7777777777777778,
              "#fb9f3a"
             ],
             [
              0.8888888888888888,
              "#fdca26"
             ],
             [
              1,
              "#f0f921"
             ]
            ],
            "type": "contour"
           }
          ],
          "contourcarpet": [
           {
            "colorbar": {
             "outlinewidth": 0,
             "ticks": ""
            },
            "type": "contourcarpet"
           }
          ],
          "heatmap": [
           {
            "colorbar": {
             "outlinewidth": 0,
             "ticks": ""
            },
            "colorscale": [
             [
              0,
              "#0d0887"
             ],
             [
              0.1111111111111111,
              "#46039f"
             ],
             [
              0.2222222222222222,
              "#7201a8"
             ],
             [
              0.3333333333333333,
              "#9c179e"
             ],
             [
              0.4444444444444444,
              "#bd3786"
             ],
             [
              0.5555555555555556,
              "#d8576b"
             ],
             [
              0.6666666666666666,
              "#ed7953"
             ],
             [
              0.7777777777777778,
              "#fb9f3a"
             ],
             [
              0.8888888888888888,
              "#fdca26"
             ],
             [
              1,
              "#f0f921"
             ]
            ],
            "type": "heatmap"
           }
          ],
          "histogram": [
           {
            "marker": {
             "pattern": {
              "fillmode": "overlay",
              "size": 10,
              "solidity": 0.2
             }
            },
            "type": "histogram"
           }
          ],
          "histogram2d": [
           {
            "colorbar": {
             "outlinewidth": 0,
             "ticks": ""
            },
            "colorscale": [
             [
              0,
              "#0d0887"
             ],
             [
              0.1111111111111111,
              "#46039f"
             ],
             [
              0.2222222222222222,
              "#7201a8"
             ],
             [
              0.3333333333333333,
              "#9c179e"
             ],
             [
              0.4444444444444444,
              "#bd3786"
             ],
             [
              0.5555555555555556,
              "#d8576b"
             ],
             [
              0.6666666666666666,
              "#ed7953"
             ],
             [
              0.7777777777777778,
              "#fb9f3a"
             ],
             [
              0.8888888888888888,
              "#fdca26"
             ],
             [
              1,
              "#f0f921"
             ]
            ],
            "type": "histogram2d"
           }
          ],
          "histogram2dcontour": [
           {
            "colorbar": {
             "outlinewidth": 0,
             "ticks": ""
            },
            "colorscale": [
             [
              0,
              "#0d0887"
             ],
             [
              0.1111111111111111,
              "#46039f"
             ],
             [
              0.2222222222222222,
              "#7201a8"
             ],
             [
              0.3333333333333333,
              "#9c179e"
             ],
             [
              0.4444444444444444,
              "#bd3786"
             ],
             [
              0.5555555555555556,
              "#d8576b"
             ],
             [
              0.6666666666666666,
              "#ed7953"
             ],
             [
              0.7777777777777778,
              "#fb9f3a"
             ],
             [
              0.8888888888888888,
              "#fdca26"
             ],
             [
              1,
              "#f0f921"
             ]
            ],
            "type": "histogram2dcontour"
           }
          ],
          "mesh3d": [
           {
            "colorbar": {
             "outlinewidth": 0,
             "ticks": ""
            },
            "type": "mesh3d"
           }
          ],
          "parcoords": [
           {
            "line": {
             "colorbar": {
              "outlinewidth": 0,
              "ticks": ""
             }
            },
            "type": "parcoords"
           }
          ],
          "pie": [
           {
            "automargin": true,
            "type": "pie"
           }
          ],
          "scatter": [
           {
            "fillpattern": {
             "fillmode": "overlay",
             "size": 10,
             "solidity": 0.2
            },
            "type": "scatter"
           }
          ],
          "scatter3d": [
           {
            "line": {
             "colorbar": {
              "outlinewidth": 0,
              "ticks": ""
             }
            },
            "marker": {
             "colorbar": {
              "outlinewidth": 0,
              "ticks": ""
             }
            },
            "type": "scatter3d"
           }
          ],
          "scattercarpet": [
           {
            "marker": {
             "colorbar": {
              "outlinewidth": 0,
              "ticks": ""
             }
            },
            "type": "scattercarpet"
           }
          ],
          "scattergeo": [
           {
            "marker": {
             "colorbar": {
              "outlinewidth": 0,
              "ticks": ""
             }
            },
            "type": "scattergeo"
           }
          ],
          "scattergl": [
           {
            "marker": {
             "colorbar": {
              "outlinewidth": 0,
              "ticks": ""
             }
            },
            "type": "scattergl"
           }
          ],
          "scattermap": [
           {
            "marker": {
             "colorbar": {
              "outlinewidth": 0,
              "ticks": ""
             }
            },
            "type": "scattermap"
           }
          ],
          "scattermapbox": [
           {
            "marker": {
             "colorbar": {
              "outlinewidth": 0,
              "ticks": ""
             }
            },
            "type": "scattermapbox"
           }
          ],
          "scatterpolar": [
           {
            "marker": {
             "colorbar": {
              "outlinewidth": 0,
              "ticks": ""
             }
            },
            "type": "scatterpolar"
           }
          ],
          "scatterpolargl": [
           {
            "marker": {
             "colorbar": {
              "outlinewidth": 0,
              "ticks": ""
             }
            },
            "type": "scatterpolargl"
           }
          ],
          "scatterternary": [
           {
            "marker": {
             "colorbar": {
              "outlinewidth": 0,
              "ticks": ""
             }
            },
            "type": "scatterternary"
           }
          ],
          "surface": [
           {
            "colorbar": {
             "outlinewidth": 0,
             "ticks": ""
            },
            "colorscale": [
             [
              0,
              "#0d0887"
             ],
             [
              0.1111111111111111,
              "#46039f"
             ],
             [
              0.2222222222222222,
              "#7201a8"
             ],
             [
              0.3333333333333333,
              "#9c179e"
             ],
             [
              0.4444444444444444,
              "#bd3786"
             ],
             [
              0.5555555555555556,
              "#d8576b"
             ],
             [
              0.6666666666666666,
              "#ed7953"
             ],
             [
              0.7777777777777778,
              "#fb9f3a"
             ],
             [
              0.8888888888888888,
              "#fdca26"
             ],
             [
              1,
              "#f0f921"
             ]
            ],
            "type": "surface"
           }
          ],
          "table": [
           {
            "cells": {
             "fill": {
              "color": "#EBF0F8"
             },
             "line": {
              "color": "white"
             }
            },
            "header": {
             "fill": {
              "color": "#C8D4E3"
             },
             "line": {
              "color": "white"
             }
            },
            "type": "table"
           }
          ]
         },
         "layout": {
          "annotationdefaults": {
           "arrowcolor": "#2a3f5f",
           "arrowhead": 0,
           "arrowwidth": 1
          },
          "autotypenumbers": "strict",
          "coloraxis": {
           "colorbar": {
            "outlinewidth": 0,
            "ticks": ""
           }
          },
          "colorscale": {
           "diverging": [
            [
             0,
             "#8e0152"
            ],
            [
             0.1,
             "#c51b7d"
            ],
            [
             0.2,
             "#de77ae"
            ],
            [
             0.3,
             "#f1b6da"
            ],
            [
             0.4,
             "#fde0ef"
            ],
            [
             0.5,
             "#f7f7f7"
            ],
            [
             0.6,
             "#e6f5d0"
            ],
            [
             0.7,
             "#b8e186"
            ],
            [
             0.8,
             "#7fbc41"
            ],
            [
             0.9,
             "#4d9221"
            ],
            [
             1,
             "#276419"
            ]
           ],
           "sequential": [
            [
             0,
             "#0d0887"
            ],
            [
             0.1111111111111111,
             "#46039f"
            ],
            [
             0.2222222222222222,
             "#7201a8"
            ],
            [
             0.3333333333333333,
             "#9c179e"
            ],
            [
             0.4444444444444444,
             "#bd3786"
            ],
            [
             0.5555555555555556,
             "#d8576b"
            ],
            [
             0.6666666666666666,
             "#ed7953"
            ],
            [
             0.7777777777777778,
             "#fb9f3a"
            ],
            [
             0.8888888888888888,
             "#fdca26"
            ],
            [
             1,
             "#f0f921"
            ]
           ],
           "sequentialminus": [
            [
             0,
             "#0d0887"
            ],
            [
             0.1111111111111111,
             "#46039f"
            ],
            [
             0.2222222222222222,
             "#7201a8"
            ],
            [
             0.3333333333333333,
             "#9c179e"
            ],
            [
             0.4444444444444444,
             "#bd3786"
            ],
            [
             0.5555555555555556,
             "#d8576b"
            ],
            [
             0.6666666666666666,
             "#ed7953"
            ],
            [
             0.7777777777777778,
             "#fb9f3a"
            ],
            [
             0.8888888888888888,
             "#fdca26"
            ],
            [
             1,
             "#f0f921"
            ]
           ]
          },
          "colorway": [
           "#636efa",
           "#EF553B",
           "#00cc96",
           "#ab63fa",
           "#FFA15A",
           "#19d3f3",
           "#FF6692",
           "#B6E880",
           "#FF97FF",
           "#FECB52"
          ],
          "font": {
           "color": "#2a3f5f"
          },
          "geo": {
           "bgcolor": "white",
           "lakecolor": "white",
           "landcolor": "white",
           "showlakes": true,
           "showland": true,
           "subunitcolor": "#C8D4E3"
          },
          "hoverlabel": {
           "align": "left"
          },
          "hovermode": "closest",
          "mapbox": {
           "style": "light"
          },
          "paper_bgcolor": "white",
          "plot_bgcolor": "white",
          "polar": {
           "angularaxis": {
            "gridcolor": "#EBF0F8",
            "linecolor": "#EBF0F8",
            "ticks": ""
           },
           "bgcolor": "white",
           "radialaxis": {
            "gridcolor": "#EBF0F8",
            "linecolor": "#EBF0F8",
            "ticks": ""
           }
          },
          "scene": {
           "xaxis": {
            "backgroundcolor": "white",
            "gridcolor": "#DFE8F3",
            "gridwidth": 2,
            "linecolor": "#EBF0F8",
            "showbackground": true,
            "ticks": "",
            "zerolinecolor": "#EBF0F8"
           },
           "yaxis": {
            "backgroundcolor": "white",
            "gridcolor": "#DFE8F3",
            "gridwidth": 2,
            "linecolor": "#EBF0F8",
            "showbackground": true,
            "ticks": "",
            "zerolinecolor": "#EBF0F8"
           },
           "zaxis": {
            "backgroundcolor": "white",
            "gridcolor": "#DFE8F3",
            "gridwidth": 2,
            "linecolor": "#EBF0F8",
            "showbackground": true,
            "ticks": "",
            "zerolinecolor": "#EBF0F8"
           }
          },
          "shapedefaults": {
           "line": {
            "color": "#2a3f5f"
           }
          },
          "ternary": {
           "aaxis": {
            "gridcolor": "#DFE8F3",
            "linecolor": "#A2B1C6",
            "ticks": ""
           },
           "baxis": {
            "gridcolor": "#DFE8F3",
            "linecolor": "#A2B1C6",
            "ticks": ""
           },
           "bgcolor": "white",
           "caxis": {
            "gridcolor": "#DFE8F3",
            "linecolor": "#A2B1C6",
            "ticks": ""
           }
          },
          "title": {
           "x": 0.05
          },
          "xaxis": {
           "automargin": true,
           "gridcolor": "#EBF0F8",
           "linecolor": "#EBF0F8",
           "ticks": "",
           "title": {
            "standoff": 15
           },
           "zerolinecolor": "#EBF0F8",
           "zerolinewidth": 2
          },
          "yaxis": {
           "automargin": true,
           "gridcolor": "#EBF0F8",
           "linecolor": "#EBF0F8",
           "ticks": "",
           "title": {
            "standoff": 15
           },
           "zerolinecolor": "#EBF0F8",
           "zerolinewidth": 2
          }
         }
        },
        "title": {
         "text": "Loss History"
        },
        "width": 800,
        "xaxis": {
         "title": {
          "text": "Epoch"
         }
        },
        "yaxis": {
         "title": {
          "text": "Loss (log‑scale)"
         },
         "type": "log"
        }
       }
      }
     },
     "metadata": {},
     "output_type": "display_data"
    }
   ],
   "source": [
    "boundary_samples = 500\n",
    "interior_samples = boundary_samples*assets*2\n",
    "initial_samples = boundary_samples*assets*2\n",
    "\n",
    "# We create new samples\n",
    "dataset = SampledDataset(\n",
    "    params, interior_samples, initial_samples, boundary_samples, sampler, dtype, device, seed=0)\n",
    "\n",
    "optimizer = SSBroyden(\n",
    "    model.parameters(),\n",
    "    max_iter=1_000,\n",
    ")\n",
    "batch_size = len(dataset) # we use all samples\n",
    "\n",
    "closure = closure.with_dataset(\n",
    "    dataset, loader_opts={'batch_size': batch_size, \"shuffle\": False, \"pin_memory\": True})\n",
    "\n",
    "trainer = trainer.with_optimizer(optimizer).with_training_step(closure)\n",
    "trainer.train()\n",
    "\n",
    "state = closure.get_state()\n",
    "plot_loss(state, smooth=False)"
   ]
  },
  {
   "cell_type": "code",
   "execution_count": 7,
   "id": "824c6b5f",
   "metadata": {},
   "outputs": [
    {
     "name": "stdout",
     "output_type": "stream",
     "text": [
      "L2 Error (%):  0.12421205\n"
     ]
    }
   ],
   "source": [
    "results = compare_with_mc(model, params, n_prices=200,\n",
    "                          n_simulations=10_000, dtype=dtype, device=device, seed=42)['l2_rel_error']\n",
    "print(\"L2 Error (%): \", results*100)"
   ]
  },
  {
   "cell_type": "code",
   "execution_count": 9,
   "id": "26cac2ad",
   "metadata": {},
   "outputs": [
    {
     "data": {
      "application/vnd.plotly.v1+json": {
       "config": {
        "plotlyServerURL": "https://plot.ly"
       },
       "data": [
        {
         "type": "surface",
         "x": {
          "bdata": "FVW1u7FrEsCZy+prjSYSwB5CIBxp4RHAorhVzEScEcAnL4t8IFcRwKulwCz8ERHALxz23NfMEMC0kiuNs4cQwDgJYT2PQhDAef8s29X6D8CC7Jc7jXAPwIrZApxE5g7AlMZt/PtbDsCcs9hcs9ENwKWgQ71qRw3Aro2uHSK9DMC2ehl+2TIMwMBnhN6QqAvAyFTvPkgeC8DRQVqf/5MKwNouxf+2CQrA4hswYG5/CcDrCJvAJfUIwPT1BSHdagjA/eJwgZTgB8AG0NvhS1YHwA69RkIDzAbAF6qxorpBBsAglxwDcrcFwCiEh2MpLQXAMXHyw+CiBMA6Xl0kmBgEwENLyIRPjgPATDgz5QYEA8BVJZ5FvnkCwF0SCaZ17wHAZv9zBi1lAcBv7N5m5NoAwHjZScebUADAAI1pT6aM/78SZz8QFXj+vyRBFdGDY/2/NhvrkfJO/L9I9cBSYTr7v1jPlhPQJfq/aqls1D4R+b98g0KVrfz3v45dGFYc6Pa/oDfuFovT9b+wEcTX+b70v8LrmZhoqvO/1MVvWdeV8r/mn0UaRoHxv/Z5G9u0bPC/EKjiN0ew7r80XI65JIfsv1gQOjsCXuq/fMTlvN806L+ceJE+vQvmv8AsPcCa4uO/4ODoQXi54b8QKimHqyDfv1CSgIpmztq/oPrXjSF81r/gYi+R3CnSv0CWDSkvr8u/4Ga8L6UKw7/AbtZsNsy0vwCAoNETGYy/AJ7c8OKLqz8ArhBrBQ+/P2CG2a4MLMg/8FoVVEto0D+g8r1QkLrUP2CKZk3VDNk/ICIPShpf3T/o3Fujr9jgP8gosCHSAeM/qHQEoPQq5T+AwFgeF1TnP2AMrZw5fek/OFgBG1ym6z8YpFWZfs/tP/jvqReh+O8/6B3/yuEQ8T/YQykKcyXyP8RpU0kEOvM/tI99iJVO9D+ktafHJmP1P5Db0Qa4d/Y/gAH8RUmM9z9sJyaF2qD4P1xNUMRrtfk/THN6A/3J+j84maRCjt77Pyi/zoEf8/w/FOX4wLAH/j8ECyMAQhz/P3qYpp9pGABAc6s7P7KiAEA=",
          "dtype": "f8"
         },
         "y": {
          "bdata": "FVW1u7FrEsCZy+prjSYSwB5CIBxp4RHAorhVzEScEcAnL4t8IFcRwKulwCz8ERHALxz23NfMEMC0kiuNs4cQwDgJYT2PQhDAef8s29X6D8CC7Jc7jXAPwIrZApxE5g7AlMZt/PtbDsCcs9hcs9ENwKWgQ71qRw3Aro2uHSK9DMC2ehl+2TIMwMBnhN6QqAvAyFTvPkgeC8DRQVqf/5MKwNouxf+2CQrA4hswYG5/CcDrCJvAJfUIwPT1BSHdagjA/eJwgZTgB8AG0NvhS1YHwA69RkIDzAbAF6qxorpBBsAglxwDcrcFwCiEh2MpLQXAMXHyw+CiBMA6Xl0kmBgEwENLyIRPjgPATDgz5QYEA8BVJZ5FvnkCwF0SCaZ17wHAZv9zBi1lAcBv7N5m5NoAwHjZScebUADAAI1pT6aM/78SZz8QFXj+vyRBFdGDY/2/NhvrkfJO/L9I9cBSYTr7v1jPlhPQJfq/aqls1D4R+b98g0KVrfz3v45dGFYc6Pa/oDfuFovT9b+wEcTX+b70v8LrmZhoqvO/1MVvWdeV8r/mn0UaRoHxv/Z5G9u0bPC/EKjiN0ew7r80XI65JIfsv1gQOjsCXuq/fMTlvN806L+ceJE+vQvmv8AsPcCa4uO/4ODoQXi54b8QKimHqyDfv1CSgIpmztq/oPrXjSF81r/gYi+R3CnSv0CWDSkvr8u/4Ga8L6UKw7/AbtZsNsy0vwCAoNETGYy/AJ7c8OKLqz8ArhBrBQ+/P2CG2a4MLMg/8FoVVEto0D+g8r1QkLrUP2CKZk3VDNk/ICIPShpf3T/o3Fujr9jgP8gosCHSAeM/qHQEoPQq5T+AwFgeF1TnP2AMrZw5fek/OFgBG1ym6z8YpFWZfs/tP/jvqReh+O8/6B3/yuEQ8T/YQykKcyXyP8RpU0kEOvM/tI99iJVO9D+ktafHJmP1P5Db0Qa4d/Y/gAH8RUmM9z9sJyaF2qD4P1xNUMRrtfk/THN6A/3J+j84maRCjt77Pyi/zoEf8/w/FOX4wLAH/j8ECyMAQhz/P3qYpp9pGABAc6s7P7KiAEA=",
          "dtype": "f8"
         },
         "z": {
          "bdata": "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",
          "dtype": "f4",
          "shape": "100, 100"
         }
        }
       ],
       "layout": {
        "autosize": true,
        "scene": {
         "xaxis": {
          "title": {
           "text": "x0"
          }
         },
         "yaxis": {
          "title": {
           "text": "x1"
          }
         },
         "zaxis": {
          "title": {
           "text": "Option Price"
          }
         }
        },
        "template": {
         "data": {
          "bar": [
           {
            "error_x": {
             "color": "#2a3f5f"
            },
            "error_y": {
             "color": "#2a3f5f"
            },
            "marker": {
             "line": {
              "color": "#E5ECF6",
              "width": 0.5
             },
             "pattern": {
              "fillmode": "overlay",
              "size": 10,
              "solidity": 0.2
             }
            },
            "type": "bar"
           }
          ],
          "barpolar": [
           {
            "marker": {
             "line": {
              "color": "#E5ECF6",
              "width": 0.5
             },
             "pattern": {
              "fillmode": "overlay",
              "size": 10,
              "solidity": 0.2
             }
            },
            "type": "barpolar"
           }
          ],
          "carpet": [
           {
            "aaxis": {
             "endlinecolor": "#2a3f5f",
             "gridcolor": "white",
             "linecolor": "white",
             "minorgridcolor": "white",
             "startlinecolor": "#2a3f5f"
            },
            "baxis": {
             "endlinecolor": "#2a3f5f",
             "gridcolor": "white",
             "linecolor": "white",
             "minorgridcolor": "white",
             "startlinecolor": "#2a3f5f"
            },
            "type": "carpet"
           }
          ],
          "choropleth": [
           {
            "colorbar": {
             "outlinewidth": 0,
             "ticks": ""
            },
            "type": "choropleth"
           }
          ],
          "contour": [
           {
            "colorbar": {
             "outlinewidth": 0,
             "ticks": ""
            },
            "colorscale": [
             [
              0,
              "#0d0887"
             ],
             [
              0.1111111111111111,
              "#46039f"
             ],
             [
              0.2222222222222222,
              "#7201a8"
             ],
             [
              0.3333333333333333,
              "#9c179e"
             ],
             [
              0.4444444444444444,
              "#bd3786"
             ],
             [
              0.5555555555555556,
              "#d8576b"
             ],
             [
              0.6666666666666666,
              "#ed7953"
             ],
             [
              0.7777777777777778,
              "#fb9f3a"
             ],
             [
              0.8888888888888888,
              "#fdca26"
             ],
             [
              1,
              "#f0f921"
             ]
            ],
            "type": "contour"
           }
          ],
          "contourcarpet": [
           {
            "colorbar": {
             "outlinewidth": 0,
             "ticks": ""
            },
            "type": "contourcarpet"
           }
          ],
          "heatmap": [
           {
            "colorbar": {
             "outlinewidth": 0,
             "ticks": ""
            },
            "colorscale": [
             [
              0,
              "#0d0887"
             ],
             [
              0.1111111111111111,
              "#46039f"
             ],
             [
              0.2222222222222222,
              "#7201a8"
             ],
             [
              0.3333333333333333,
              "#9c179e"
             ],
             [
              0.4444444444444444,
              "#bd3786"
             ],
             [
              0.5555555555555556,
              "#d8576b"
             ],
             [
              0.6666666666666666,
              "#ed7953"
             ],
             [
              0.7777777777777778,
              "#fb9f3a"
             ],
             [
              0.8888888888888888,
              "#fdca26"
             ],
             [
              1,
              "#f0f921"
             ]
            ],
            "type": "heatmap"
           }
          ],
          "histogram": [
           {
            "marker": {
             "pattern": {
              "fillmode": "overlay",
              "size": 10,
              "solidity": 0.2
             }
            },
            "type": "histogram"
           }
          ],
          "histogram2d": [
           {
            "colorbar": {
             "outlinewidth": 0,
             "ticks": ""
            },
            "colorscale": [
             [
              0,
              "#0d0887"
             ],
             [
              0.1111111111111111,
              "#46039f"
             ],
             [
              0.2222222222222222,
              "#7201a8"
             ],
             [
              0.3333333333333333,
              "#9c179e"
             ],
             [
              0.4444444444444444,
              "#bd3786"
             ],
             [
              0.5555555555555556,
              "#d8576b"
             ],
             [
              0.6666666666666666,
              "#ed7953"
             ],
             [
              0.7777777777777778,
              "#fb9f3a"
             ],
             [
              0.8888888888888888,
              "#fdca26"
             ],
             [
              1,
              "#f0f921"
             ]
            ],
            "type": "histogram2d"
           }
          ],
          "histogram2dcontour": [
           {
            "colorbar": {
             "outlinewidth": 0,
             "ticks": ""
            },
            "colorscale": [
             [
              0,
              "#0d0887"
             ],
             [
              0.1111111111111111,
              "#46039f"
             ],
             [
              0.2222222222222222,
              "#7201a8"
             ],
             [
              0.3333333333333333,
              "#9c179e"
             ],
             [
              0.4444444444444444,
              "#bd3786"
             ],
             [
              0.5555555555555556,
              "#d8576b"
             ],
             [
              0.6666666666666666,
              "#ed7953"
             ],
             [
              0.7777777777777778,
              "#fb9f3a"
             ],
             [
              0.8888888888888888,
              "#fdca26"
             ],
             [
              1,
              "#f0f921"
             ]
            ],
            "type": "histogram2dcontour"
           }
          ],
          "mesh3d": [
           {
            "colorbar": {
             "outlinewidth": 0,
             "ticks": ""
            },
            "type": "mesh3d"
           }
          ],
          "parcoords": [
           {
            "line": {
             "colorbar": {
              "outlinewidth": 0,
              "ticks": ""
             }
            },
            "type": "parcoords"
           }
          ],
          "pie": [
           {
            "automargin": true,
            "type": "pie"
           }
          ],
          "scatter": [
           {
            "fillpattern": {
             "fillmode": "overlay",
             "size": 10,
             "solidity": 0.2
            },
            "type": "scatter"
           }
          ],
          "scatter3d": [
           {
            "line": {
             "colorbar": {
              "outlinewidth": 0,
              "ticks": ""
             }
            },
            "marker": {
             "colorbar": {
              "outlinewidth": 0,
              "ticks": ""
             }
            },
            "type": "scatter3d"
           }
          ],
          "scattercarpet": [
           {
            "marker": {
             "colorbar": {
              "outlinewidth": 0,
              "ticks": ""
             }
            },
            "type": "scattercarpet"
           }
          ],
          "scattergeo": [
           {
            "marker": {
             "colorbar": {
              "outlinewidth": 0,
              "ticks": ""
             }
            },
            "type": "scattergeo"
           }
          ],
          "scattergl": [
           {
            "marker": {
             "colorbar": {
              "outlinewidth": 0,
              "ticks": ""
             }
            },
            "type": "scattergl"
           }
          ],
          "scattermap": [
           {
            "marker": {
             "colorbar": {
              "outlinewidth": 0,
              "ticks": ""
             }
            },
            "type": "scattermap"
           }
          ],
          "scattermapbox": [
           {
            "marker": {
             "colorbar": {
              "outlinewidth": 0,
              "ticks": ""
             }
            },
            "type": "scattermapbox"
           }
          ],
          "scatterpolar": [
           {
            "marker": {
             "colorbar": {
              "outlinewidth": 0,
              "ticks": ""
             }
            },
            "type": "scatterpolar"
           }
          ],
          "scatterpolargl": [
           {
            "marker": {
             "colorbar": {
              "outlinewidth": 0,
              "ticks": ""
             }
            },
            "type": "scatterpolargl"
           }
          ],
          "scatterternary": [
           {
            "marker": {
             "colorbar": {
              "outlinewidth": 0,
              "ticks": ""
             }
            },
            "type": "scatterternary"
           }
          ],
          "surface": [
           {
            "colorbar": {
             "outlinewidth": 0,
             "ticks": ""
            },
            "colorscale": [
             [
              0,
              "#0d0887"
             ],
             [
              0.1111111111111111,
              "#46039f"
             ],
             [
              0.2222222222222222,
              "#7201a8"
             ],
             [
              0.3333333333333333,
              "#9c179e"
             ],
             [
              0.4444444444444444,
              "#bd3786"
             ],
             [
              0.5555555555555556,
              "#d8576b"
             ],
             [
              0.6666666666666666,
              "#ed7953"
             ],
             [
              0.7777777777777778,
              "#fb9f3a"
             ],
             [
              0.8888888888888888,
              "#fdca26"
             ],
             [
              1,
              "#f0f921"
             ]
            ],
            "type": "surface"
           }
          ],
          "table": [
           {
            "cells": {
             "fill": {
              "color": "#EBF0F8"
             },
             "line": {
              "color": "white"
             }
            },
            "header": {
             "fill": {
              "color": "#C8D4E3"
             },
             "line": {
              "color": "white"
             }
            },
            "type": "table"
           }
          ]
         },
         "layout": {
          "annotationdefaults": {
           "arrowcolor": "#2a3f5f",
           "arrowhead": 0,
           "arrowwidth": 1
          },
          "autotypenumbers": "strict",
          "coloraxis": {
           "colorbar": {
            "outlinewidth": 0,
            "ticks": ""
           }
          },
          "colorscale": {
           "diverging": [
            [
             0,
             "#8e0152"
            ],
            [
             0.1,
             "#c51b7d"
            ],
            [
             0.2,
             "#de77ae"
            ],
            [
             0.3,
             "#f1b6da"
            ],
            [
             0.4,
             "#fde0ef"
            ],
            [
             0.5,
             "#f7f7f7"
            ],
            [
             0.6,
             "#e6f5d0"
            ],
            [
             0.7,
             "#b8e186"
            ],
            [
             0.8,
             "#7fbc41"
            ],
            [
             0.9,
             "#4d9221"
            ],
            [
             1,
             "#276419"
            ]
           ],
           "sequential": [
            [
             0,
             "#0d0887"
            ],
            [
             0.1111111111111111,
             "#46039f"
            ],
            [
             0.2222222222222222,
             "#7201a8"
            ],
            [
             0.3333333333333333,
             "#9c179e"
            ],
            [
             0.4444444444444444,
             "#bd3786"
            ],
            [
             0.5555555555555556,
             "#d8576b"
            ],
            [
             0.6666666666666666,
             "#ed7953"
            ],
            [
             0.7777777777777778,
             "#fb9f3a"
            ],
            [
             0.8888888888888888,
             "#fdca26"
            ],
            [
             1,
             "#f0f921"
            ]
           ],
           "sequentialminus": [
            [
             0,
             "#0d0887"
            ],
            [
             0.1111111111111111,
             "#46039f"
            ],
            [
             0.2222222222222222,
             "#7201a8"
            ],
            [
             0.3333333333333333,
             "#9c179e"
            ],
            [
             0.4444444444444444,
             "#bd3786"
            ],
            [
             0.5555555555555556,
             "#d8576b"
            ],
            [
             0.6666666666666666,
             "#ed7953"
            ],
            [
             0.7777777777777778,
             "#fb9f3a"
            ],
            [
             0.8888888888888888,
             "#fdca26"
            ],
            [
             1,
             "#f0f921"
            ]
           ]
          },
          "colorway": [
           "#636efa",
           "#EF553B",
           "#00cc96",
           "#ab63fa",
           "#FFA15A",
           "#19d3f3",
           "#FF6692",
           "#B6E880",
           "#FF97FF",
           "#FECB52"
          ],
          "font": {
           "color": "#2a3f5f"
          },
          "geo": {
           "bgcolor": "white",
           "lakecolor": "white",
           "landcolor": "#E5ECF6",
           "showlakes": true,
           "showland": true,
           "subunitcolor": "white"
          },
          "hoverlabel": {
           "align": "left"
          },
          "hovermode": "closest",
          "mapbox": {
           "style": "light"
          },
          "paper_bgcolor": "white",
          "plot_bgcolor": "#E5ECF6",
          "polar": {
           "angularaxis": {
            "gridcolor": "white",
            "linecolor": "white",
            "ticks": ""
           },
           "bgcolor": "#E5ECF6",
           "radialaxis": {
            "gridcolor": "white",
            "linecolor": "white",
            "ticks": ""
           }
          },
          "scene": {
           "xaxis": {
            "backgroundcolor": "#E5ECF6",
            "gridcolor": "white",
            "gridwidth": 2,
            "linecolor": "white",
            "showbackground": true,
            "ticks": "",
            "zerolinecolor": "white"
           },
           "yaxis": {
            "backgroundcolor": "#E5ECF6",
            "gridcolor": "white",
            "gridwidth": 2,
            "linecolor": "white",
            "showbackground": true,
            "ticks": "",
            "zerolinecolor": "white"
           },
           "zaxis": {
            "backgroundcolor": "#E5ECF6",
            "gridcolor": "white",
            "gridwidth": 2,
            "linecolor": "white",
            "showbackground": true,
            "ticks": "",
            "zerolinecolor": "white"
           }
          },
          "shapedefaults": {
           "line": {
            "color": "#2a3f5f"
           }
          },
          "ternary": {
           "aaxis": {
            "gridcolor": "white",
            "linecolor": "white",
            "ticks": ""
           },
           "baxis": {
            "gridcolor": "white",
            "linecolor": "white",
            "ticks": ""
           },
           "bgcolor": "#E5ECF6",
           "caxis": {
            "gridcolor": "white",
            "linecolor": "white",
            "ticks": ""
           }
          },
          "title": {
           "x": 0.05
          },
          "xaxis": {
           "automargin": true,
           "gridcolor": "white",
           "linecolor": "white",
           "ticks": "",
           "title": {
            "standoff": 15
           },
           "zerolinecolor": "white",
           "zerolinewidth": 2
          },
          "yaxis": {
           "automargin": true,
           "gridcolor": "white",
           "linecolor": "white",
           "ticks": "",
           "title": {
            "standoff": 15
           },
           "zerolinecolor": "white",
           "zerolinewidth": 2
          }
         }
        },
        "title": {
         "text": "Predicted Dimless Option Price"
        }
       }
      }
     },
     "metadata": {},
     "output_type": "display_data"
    }
   ],
   "source": [
    "num_points = 100\n",
    "x0_vals = np.linspace(params.x_min, params.x_max, num_points)\n",
    "x1_vals = np.linspace(params.x_min, params.x_max, num_points)\n",
    "fixed_val = (params.x_min + params.x_max) / 2.0\n",
    "\n",
    "grid_list = []\n",
    "for i in range(num_points):\n",
    "    for j in range(num_points):\n",
    "        # Start with all assets fixed at the midpoint.\n",
    "        point = [fixed_val] * assets\n",
    "        # Vary asset 0 and asset 1.\n",
    "        point[0] = x0_vals[i]\n",
    "        point[1] = x1_vals[j]\n",
    "        # Append time coordinate (we choose t = maturity, corresponding to τ = maturity).\n",
    "        point.append(params.tau)\n",
    "        grid_list.append(point)\n",
    "X_grid = torch.tensor(grid_list, dtype=torch.float32).to(device)\n",
    "y_pred = model(X_grid).detach().cpu().numpy()\n",
    "y_pred = y_pred.reshape(num_points, num_points)\n",
    "\n",
    "fig = go.Figure(data=[go.Surface(z=y_pred, x=x0_vals, y=x1_vals)])\n",
    "fig.update_layout(\n",
    "    title='Predicted Dimless Option Price',\n",
    "    scene=dict(xaxis_title='x0', yaxis_title='x1', zaxis_title='Option Price'),\n",
    "    autosize=True,\n",
    ")\n",
    "fig.show()"
   ]
  }
 ],
 "metadata": {
  "kernelspec": {
   "display_name": "Python 3",
   "language": "python",
   "name": "python3"
  },
  "language_info": {
   "codemirror_mode": {
    "name": "ipython",
    "version": 3
   },
   "file_extension": ".py",
   "mimetype": "text/x-python",
   "name": "python",
   "nbconvert_exporter": "python",
   "pygments_lexer": "ipython3",
   "version": "3.11.8"
  }
 },
 "nbformat": 4,
 "nbformat_minor": 5
}
