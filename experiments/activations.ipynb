{
 "cells": [
  {
   "cell_type": "markdown",
   "id": "b32ec4e1",
   "metadata": {},
   "source": [
    "# Which activation function to use?\n",
    "#### Author: JP Melo"
   ]
  },
  {
   "cell_type": "markdown",
   "id": "b50527de",
   "metadata": {},
   "source": [
    "### Imports"
   ]
  },
  {
   "cell_type": "code",
   "execution_count": 1,
   "id": "5d74c022",
   "metadata": {},
   "outputs": [],
   "source": [
    "from derpinns.nn import *\n",
    "from derpinns.utils import *\n",
    "from derpinns.trainer import *\n",
    "import torch.nn as nn\n",
    "import torch"
   ]
  },
  {
   "cell_type": "markdown",
   "id": "bc70ad0c",
   "metadata": {},
   "source": [
    "## Parameters"
   ]
  },
  {
   "cell_type": "code",
   "execution_count": 2,
   "id": "1176864d",
   "metadata": {},
   "outputs": [],
   "source": [
    "# Fix seed for reproducibility\n",
    "torch.manual_seed(0)\n",
    "np.random.seed(0)\n",
    "\n",
    "# Global parameters\n",
    "assets = 3\n",
    "\n",
    "sampler = \"pseudo\"\n",
    "nn_shape = \"10x3\"\n",
    "device = torch.device(\"cpu\")\n",
    "dtype = torch.float32\n",
    "\n",
    "# Define option valuation params\n",
    "params = OptionParameters(\n",
    "    n_assets=assets,\n",
    "    tau=1.0,\n",
    "    sigma=np.array([0.2] * assets),\n",
    "    rho=np.eye(assets) + 0.25 * (np.ones((assets, assets)) - np.eye(assets)),\n",
    "    r=0.05,\n",
    "    strike=100,\n",
    "    payoff=payoff\n",
    ")\n",
    "\n",
    "boundary_samples = 1_000\n",
    "interior_samples = boundary_samples*assets*2\n",
    "initial_samples = boundary_samples*assets*2"
   ]
  },
  {
   "cell_type": "markdown",
   "id": "7bdffad9",
   "metadata": {},
   "source": [
    "## Training"
   ]
  },
  {
   "cell_type": "markdown",
   "id": "75c5452c",
   "metadata": {},
   "source": [
    "### Tanh"
   ]
  },
  {
   "cell_type": "code",
   "execution_count": null,
   "id": "8a7c1354",
   "metadata": {},
   "outputs": [
    {
     "name": "stderr",
     "output_type": "stream",
     "text": [
      "SSBroyden training:   9%|▉         | 47/500 [01:03<09:54,  1.31s/it, Interior=0.007814, Boundary=0.029259, Initial=0.089855, Total=0.126927, Max Error=76.897736, L2 Error=0.123560] "
     ]
    }
   ],
   "source": [
    "model = build_nn(\n",
    "    nn_shape=nn_shape,\n",
    "    input_dim=assets,\n",
    "    dtype=torch.float32,\n",
    "    activation=nn.Tanh(),\n",
    ").apply(weights_init).to(device)\n",
    "\n",
    "model.train()\n",
    "\n",
    "dataset = SampledDataset(\n",
    "    params, interior_samples, initial_samples, boundary_samples, sampler, dtype, device, seed=0)\n",
    "\n",
    "optimizer = SSBroyden(\n",
    "    model.parameters(),\n",
    "    max_iter=500,\n",
    ")\n",
    "\n",
    "batch_size = len(dataset)  # we use all samples\n",
    "\n",
    "closure = DimlessBS()\\\n",
    "    .with_dataset(dataset, loader_opts={'batch_size': batch_size, \"shuffle\": True, \"pin_memory\": True})\\\n",
    "    .with_model(model)\\\n",
    "    .with_device(device)\\\n",
    "    .with_dtype(dtype)\n",
    "\n",
    "trainer = PINNTrainer()\\\n",
    "    .with_optimizer(optimizer)\\\n",
    "    .with_device(device)\\\n",
    "    .with_dtype(dtype)\\\n",
    "    .with_training_step(closure)\n",
    "\n",
    "trainer.train()"
   ]
  },
  {
   "cell_type": "code",
   "execution_count": null,
   "id": "adaec2b8",
   "metadata": {},
   "outputs": [],
   "source": [
    "with_tanh = trainer.closure.get_state()\n",
    "plot_loss(with_tanh, smooth=True, smooth_window=50)\n",
    "\n",
    "tanh_l2 = compare_with_mc(model, params, n_prices=200,\n",
    "                          n_simulations=10_000, dtype=dtype, device=device, seed=42)['l2_rel_error']\n",
    "print(\"L2 Error: \", tanh_l2*100)"
   ]
  },
  {
   "cell_type": "markdown",
   "id": "2149d711",
   "metadata": {},
   "source": [
    "### ReLU"
   ]
  },
  {
   "cell_type": "code",
   "execution_count": null,
   "id": "c8ea95d3",
   "metadata": {},
   "outputs": [],
   "source": [
    "model = build_nn(\n",
    "    nn_shape=nn_shape,\n",
    "    input_dim=assets,\n",
    "    dtype=torch.float32,\n",
    "    activation=nn.ReLU(),\n",
    ").apply(weights_init).to(device)\n",
    "\n",
    "model.train()\n",
    "\n",
    "dataset = SampledDataset(\n",
    "    params, interior_samples, initial_samples, boundary_samples, sampler, dtype, device, seed=0)\n",
    "\n",
    "optimizer = SSBroyden(\n",
    "    model.parameters(),\n",
    "    max_iter=500,\n",
    ")\n",
    "\n",
    "batch_size = len(dataset)  # we use all samples\n",
    "\n",
    "closure = DimlessBS()\\\n",
    "    .with_dataset(dataset, loader_opts={'batch_size': batch_size, \"shuffle\": True, \"pin_memory\": True})\\\n",
    "    .with_model(model)\\\n",
    "    .with_device(device)\\\n",
    "    .with_dtype(dtype)\n",
    "\n",
    "trainer = PINNTrainer()\\\n",
    "    .with_optimizer(optimizer)\\\n",
    "    .with_device(device)\\\n",
    "    .with_dtype(dtype)\\\n",
    "    .with_training_step(closure)\n",
    "\n",
    "trainer.train()"
   ]
  },
  {
   "cell_type": "code",
   "execution_count": null,
   "id": "dfe7b4e4",
   "metadata": {},
   "outputs": [],
   "source": [
    "with_relu = trainer.closure.get_state()\n",
    "plot_loss(with_relu, smooth=True, smooth_window=50)\n",
    "\n",
    "relu_l2 = compare_with_mc(model, params, n_prices=200,\n",
    "                          n_simulations=10_000, dtype=dtype, device=device, seed=42)['l2_rel_error']\n",
    "print(\"L2 Error: \", relu_l2*100)"
   ]
  },
  {
   "cell_type": "markdown",
   "id": "3c0ae436",
   "metadata": {},
   "source": [
    "### SoftPlus"
   ]
  },
  {
   "cell_type": "code",
   "execution_count": null,
   "id": "dc31b56d",
   "metadata": {},
   "outputs": [],
   "source": [
    "model = build_nn(\n",
    "    nn_shape=nn_shape,\n",
    "    input_dim=assets,\n",
    "    dtype=torch.float32,\n",
    "    activation=nn.Softplus(),\n",
    ").apply(weights_init).to(device)\n",
    "\n",
    "model.train()\n",
    "\n",
    "dataset = SampledDataset(\n",
    "    params, interior_samples, initial_samples, boundary_samples, sampler, dtype, device, seed=0)\n",
    "\n",
    "optimizer = SSBroyden(\n",
    "    model.parameters(),\n",
    "    max_iter=500,\n",
    ")\n",
    "\n",
    "batch_size = len(dataset)  # we use all samples\n",
    "\n",
    "closure = DimlessBS()\\\n",
    "    .with_dataset(dataset, loader_opts={'batch_size': batch_size, \"shuffle\": True, \"pin_memory\": True})\\\n",
    "    .with_model(model)\\\n",
    "    .with_device(device)\\\n",
    "    .with_dtype(dtype)\n",
    "\n",
    "trainer = PINNTrainer()\\\n",
    "    .with_optimizer(optimizer)\\\n",
    "    .with_device(device)\\\n",
    "    .with_dtype(dtype)\\\n",
    "    .with_training_step(closure)\n",
    "\n",
    "trainer.train()"
   ]
  },
  {
   "cell_type": "code",
   "execution_count": null,
   "id": "68a31544",
   "metadata": {},
   "outputs": [],
   "source": [
    "with_softplus = trainer.closure.get_state()\n",
    "plot_loss(with_softplus, smooth=True, smooth_window=50)\n",
    "\n",
    "softplus_l2 = compare_with_mc(model, params, n_prices=200,\n",
    "                          n_simulations=10_000, dtype=dtype, device=device, seed=42)['l2_rel_error']\n",
    "print(\"L2 Error: \", softplus_l2*100)"
   ]
  },
  {
   "cell_type": "markdown",
   "id": "8f771ec0",
   "metadata": {},
   "source": [
    "### ELU"
   ]
  },
  {
   "cell_type": "code",
   "execution_count": null,
   "id": "90a639e9",
   "metadata": {},
   "outputs": [],
   "source": [
    "model = build_nn(\n",
    "    nn_shape=nn_shape,\n",
    "    input_dim=assets,\n",
    "    dtype=torch.float32,\n",
    "    activation=nn.ELU(),\n",
    ").apply(weights_init).to(device)\n",
    "\n",
    "model.train()\n",
    "\n",
    "dataset = SampledDataset(\n",
    "    params, interior_samples, initial_samples, boundary_samples, sampler, dtype, device, seed=0)\n",
    "\n",
    "optimizer = SSBroyden(\n",
    "    model.parameters(),\n",
    "    max_iter=500,\n",
    ")\n",
    "\n",
    "batch_size = len(dataset)  # we use all samples\n",
    "\n",
    "closure = DimlessBS()\\\n",
    "    .with_dataset(dataset, loader_opts={'batch_size': batch_size, \"shuffle\": True, \"pin_memory\": True})\\\n",
    "    .with_model(model)\\\n",
    "    .with_device(device)\\\n",
    "    .with_dtype(dtype)\n",
    "\n",
    "trainer = PINNTrainer()\\\n",
    "    .with_optimizer(optimizer)\\\n",
    "    .with_device(device)\\\n",
    "    .with_dtype(dtype)\\\n",
    "    .with_training_step(closure)\n",
    "\n",
    "trainer.train()"
   ]
  },
  {
   "cell_type": "code",
   "execution_count": null,
   "id": "080d899b",
   "metadata": {},
   "outputs": [],
   "source": [
    "with_elu = trainer.closure.get_state()\n",
    "plot_loss(with_elu, smooth=True, smooth_window=50)\n",
    "\n",
    "elu_l2 = compare_with_mc(model, params, n_prices=200,\n",
    "                          n_simulations=10_000, dtype=dtype, device=device, seed=42)['l2_rel_error']\n",
    "print(\"L2 Error: \", elu_l2*100)"
   ]
  },
  {
   "cell_type": "markdown",
   "id": "cde0b3b6",
   "metadata": {},
   "source": [
    "### Compare runs"
   ]
  },
  {
   "cell_type": "code",
   "execution_count": null,
   "id": "c66a6e51",
   "metadata": {},
   "outputs": [],
   "source": [
    "compare_error_histories(\n",
    "    [with_tanh, with_relu, with_softplus, with_elu],\n",
    "    labels=[\"Tanh\", \"ReLU\", \"Softplus\", \"ELU\"],\n",
    "    smooth=False,\n",
    ")"
   ]
  }
 ],
 "metadata": {
  "kernelspec": {
   "display_name": "Python 3",
   "language": "python",
   "name": "python3"
  },
  "language_info": {
   "codemirror_mode": {
    "name": "ipython",
    "version": 3
   },
   "file_extension": ".py",
   "mimetype": "text/x-python",
   "name": "python",
   "nbconvert_exporter": "python",
   "pygments_lexer": "ipython3",
   "version": "3.11.8"
  }
 },
 "nbformat": 4,
 "nbformat_minor": 5
}
