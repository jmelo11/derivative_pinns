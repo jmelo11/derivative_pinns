{
 "cells": [
  {
   "cell_type": "markdown",
   "id": "b32ec4e1",
   "metadata": {},
   "source": [
    "# Benchmark\n",
    "#### Author: JP Melo"
   ]
  },
  {
   "cell_type": "markdown",
   "id": "b50527de",
   "metadata": {},
   "source": [
    "### Imports"
   ]
  },
  {
   "cell_type": "code",
   "execution_count": null,
   "id": "5d74c022",
   "metadata": {},
   "outputs": [],
   "source": [
    "from derpinns.nn import *\n",
    "from derpinns.utils import *\n",
    "from derpinns.trainer import *\n",
    "import time\n",
    "import torch\n",
    "import kfac\n",
    "import json"
   ]
  },
  {
   "cell_type": "markdown",
   "id": "bc70ad0c",
   "metadata": {},
   "source": [
    "## Parameters"
   ]
  },
  {
   "cell_type": "code",
   "execution_count": null,
   "id": "1176864d",
   "metadata": {},
   "outputs": [],
   "source": [
    "# Fix seed for reproducibility\n",
    "torch.manual_seed(0)\n",
    "np.random.seed(0)\n",
    "\n",
    "# Global parameters\n",
    "n_assets = list(range(10))\n",
    "sampler = \"pseudo\"                                         \n",
    "nn_shapes = [\"10x1\",\"10x3\",\"32x1\",\"32x3\"]                \n",
    "device = torch.device(\"cpu\")   \n",
    "dtype = torch.float32"
   ]
  },
  {
   "cell_type": "markdown",
   "id": "7bdffad9",
   "metadata": {},
   "source": [
    "## Training\n",
    "\n",
    "We use a multi-stage training process, where the first stage is done with ADAM and the second stage with SSBroyden as this methods achieve the best perfomance."
   ]
  },
  {
   "cell_type": "code",
   "execution_count": null,
   "id": "daa5ed24",
   "metadata": {},
   "outputs": [],
   "source": [
    "# load json if it exists, else create it\n",
    "try:\n",
    "    with open(\"bench.json\", \"r\") as f:\n",
    "        bench = json.load(f)\n",
    "except FileNotFoundError:\n",
    "    bench = {}\n",
    "    with open(\"bench.json\", \"w\") as f:\n",
    "        json.dump(bench, f)"
   ]
  },
  {
   "cell_type": "code",
   "execution_count": null,
   "id": "94ae5cfa",
   "metadata": {},
   "outputs": [],
   "source": [
    "for nn_shape in nn_shapes:\n",
    "    for assets in n_assets:\n",
    "        params = OptionParameters(\n",
    "            n_assets=assets,\n",
    "            tau=1.0,\n",
    "            sigma=np.array([0.2] * assets),\n",
    "            rho=np.eye(assets) + 0.25 * (np.ones((assets, assets)) - np.eye(assets)),\n",
    "            r=0.05,\n",
    "            strike=100,\n",
    "            payoff=payoff\n",
    "        )\n",
    "\n",
    "        # Build the net to be used\n",
    "        model = build_nn(\n",
    "            nn_shape=nn_shape,\n",
    "            input_dim=assets,\n",
    "            dtype=torch.float32\n",
    "        ).apply(weights_init).to(device)\n",
    "        model.train()\n",
    "\n",
    "        # Set the training parameters\n",
    "        batch_size = 100\n",
    "        total_iter = 200\n",
    "        boundary_samples = 20_000\n",
    "        interior_samples = boundary_samples*assets*2\n",
    "        initial_samples = boundary_samples*assets*2\n",
    "\n",
    "        # Create dataset to traing over\n",
    "        dataset = SampledDataset(\n",
    "            params, interior_samples, initial_samples, boundary_samples, sampler, dtype, device, seed=0)\n",
    "\n",
    "        # Set optimizer and training function\n",
    "        # 1e-2 is big enought to reach a reasonable min in few steps\n",
    "        optimizer = torch.optim.Adam(model.parameters(), lr=1e-2, amsgrad=True)\n",
    "        preconditioner = kfac.preconditioner.KFACPreconditioner(model)\n",
    "\n",
    "        # # Set the training function\n",
    "        closure = DimlessBS()\\\n",
    "            .with_dataset(dataset, loader_opts={'batch_size': batch_size, \"shuffle\": True, \"pin_memory\": True})\\\n",
    "            .with_model(model)\\\n",
    "            .with_device(device)\\\n",
    "            .with_dtype(dtype)\n",
    "\n",
    "        trainer = PINNTrainer()\\\n",
    "            .with_optimizer(optimizer)\\\n",
    "            .with_device(device)\\\n",
    "            .with_dtype(dtype)\\\n",
    "            .with_training_step(closure)\\\n",
    "            .with_preconditioner(preconditioner)\\\n",
    "            .with_epochs(total_iter)\\\n",
    "        \n",
    "        start = time.time()\n",
    "        trainer.train()\n",
    "        adam_time = time.time() - start\n",
    "\n",
    "        boundary_samples = 500\n",
    "        interior_samples = boundary_samples*assets*2\n",
    "        initial_samples = boundary_samples*assets*2\n",
    "\n",
    "        # We create new samples\n",
    "        dataset = SampledDataset(\n",
    "            params, interior_samples, initial_samples, boundary_samples, sampler, dtype, device, seed=0)\n",
    "\n",
    "        optimizer = SSBroyden(\n",
    "            model.parameters(),\n",
    "            max_eval=1_000,\n",
    "        )\n",
    "        batch_size = len(dataset) # we use all samples\n",
    "\n",
    "        closure = closure.with_dataset(\n",
    "            dataset, loader_opts={'batch_size': batch_size, \"shuffle\": False, \"pin_memory\": True})\n",
    "\n",
    "        trainer = trainer.with_optimizer(optimizer).with_training_step(closure)\n",
    "\n",
    "        start = time.time()\n",
    "        trainer.train()\n",
    "        ssbroyden_time = time.time() - start\n",
    "\n",
    "        state = closure.get_state()\n",
    "        # We save the model\n",
    "        torch.save(model.state_dict(), f\"model_{nn_shape}_{assets}.pt\")\n",
    "\n",
    "        l2_err = compare_with_mc(model, params, n_prices=200,\n",
    "                          n_simulations=10_000, dtype=dtype, device=device, seed=42)['l2_rel_error']\n",
    "        print(\"L2 Error (%): \", l2_err*100)\n",
    "        \n",
    "        bench[f\"{nn_shape}_{assets}\"] = {\n",
    "            \"adam_time\": adam_time,\n",
    "            \"ssbroyden_time\": ssbroyden_time,\n",
    "            \"state\": state,\n",
    "            \"l2_err\": l2_err,\n",
    "        }\n",
    "\n",
    "        with open(\"bench.json\", \"w\") as f:\n",
    "            json.dump(bench, f)"
   ]
  }
 ],
 "metadata": {
  "kernelspec": {
   "display_name": "Python 3",
   "language": "python",
   "name": "python3"
  },
  "language_info": {
   "codemirror_mode": {
    "name": "ipython",
    "version": 3
   },
   "file_extension": ".py",
   "mimetype": "text/x-python",
   "name": "python",
   "nbconvert_exporter": "python",
   "pygments_lexer": "ipython3",
   "version": "3.11.8"
  }
 },
 "nbformat": 4,
 "nbformat_minor": 5
}
