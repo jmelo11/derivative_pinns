{
 "cells": [
  {
   "cell_type": "markdown",
   "id": "b32ec4e1",
   "metadata": {},
   "source": [
    "# Benchmark\n",
    "#### Author: JP Melo"
   ]
  },
  {
   "cell_type": "markdown",
   "id": "b50527de",
   "metadata": {},
   "source": [
    "### Imports"
   ]
  },
  {
   "cell_type": "code",
   "execution_count": 1,
   "id": "5d74c022",
   "metadata": {},
   "outputs": [
    {
     "name": "stderr",
     "output_type": "stream",
     "text": [
      "/Users/josemelo/Desktop/master/tesis/codes/.conda/lib/python3.11/site-packages/kfac/base_preconditioner.py:15: UserWarning: NVIDIA Apex is not installed or was not installed with --cpp_ext. Falling back to PyTorch flatten and unflatten.\n",
      "  from kfac.distributed import get_rank\n"
     ]
    }
   ],
   "source": [
    "from derpinns.nn import *\n",
    "from derpinns.utils import *\n",
    "from derpinns.trainer import *\n",
    "import time\n",
    "import torch\n",
    "import kfac\n",
    "import json"
   ]
  },
  {
   "cell_type": "markdown",
   "id": "bc70ad0c",
   "metadata": {},
   "source": [
    "## Parameters"
   ]
  },
  {
   "cell_type": "code",
   "execution_count": null,
   "id": "1176864d",
   "metadata": {},
   "outputs": [],
   "source": [
    "# Fix seed for reproducibility\n",
    "torch.manual_seed(0)\n",
    "np.random.seed(0)\n",
    "\n",
    "# Global parameters\n",
    "n_assets = [7,10]\n",
    "sampler = \"pseudo\"                                         \n",
    "nn_shapes = [\"64x3\"]                \n",
    "device = torch.device(\"cpu\")   \n",
    "dtype = torch.float32"
   ]
  },
  {
   "cell_type": "code",
   "execution_count": 3,
   "id": "1bd85ced",
   "metadata": {},
   "outputs": [],
   "source": [
    "def handle_serialization(obj):\n",
    "    if isinstance(obj, torch.Tensor):\n",
    "        return obj.tolist()\n",
    "    elif isinstance(obj, np.ndarray):\n",
    "        return obj.tolist()\n",
    "    elif isinstance(obj, list):\n",
    "        return [handle_serialization(item) for item in obj]\n",
    "    elif isinstance(obj, dict):\n",
    "        return {k: handle_serialization(v) for k, v in obj.items()}\n",
    "    elif isinstance(obj, float):\n",
    "        return float(obj)\n",
    "    elif isinstance(obj, np.float32):\n",
    "        return float(obj)\n",
    "    elif isinstance(obj, np.float64):\n",
    "        return float(obj)\n",
    "    else:\n",
    "        raise TypeError(f\"Type {type(obj)} not serializable\")"
   ]
  },
  {
   "cell_type": "markdown",
   "id": "7bdffad9",
   "metadata": {},
   "source": [
    "## Training\n",
    "\n",
    "We use a multi-stage training process, where the first stage is done with ADAM and the second stage with SSBroyden as this methods achieve the best perfomance."
   ]
  },
  {
   "cell_type": "code",
   "execution_count": 4,
   "id": "daa5ed24",
   "metadata": {},
   "outputs": [],
   "source": [
    "# load json if it exists, else create it\n",
    "try:\n",
    "    with open(\"bench.json\", \"r\") as f:\n",
    "        bench = json.load(f)\n",
    "except FileNotFoundError:\n",
    "    bench = {}\n",
    "    with open(\"bench.json\", \"w\") as f:\n",
    "        json.dump(bench, f)"
   ]
  },
  {
   "cell_type": "code",
   "execution_count": 5,
   "id": "94ae5cfa",
   "metadata": {},
   "outputs": [
    {
     "name": "stdout",
     "output_type": "stream",
     "text": [
      "Training 64x3 with 7 assets\n"
     ]
    },
    {
     "name": "stderr",
     "output_type": "stream",
     "text": [
      "Adam training: 100%|██████████| 200/200 [03:19<00:00,  1.00it/s, Interior=0.000283, Boundary=0.000768, Initial=0.001821, Total=0.002871, Max Error=339.2472229004, L2 Error=0.5489569306]\n",
      "SSBroyden training: 100%|██████████| 1000/1000 [42:44<00:00,  2.56s/it, Interior=0.000135, Boundary=0.000076, Initial=0.000145, Total=0.000357, Max Error=54.390137, L2 Error=0.069113] \n"
     ]
    },
    {
     "name": "stdout",
     "output_type": "stream",
     "text": [
      "L2 Error (%):  5.331535\n",
      "Training 64x3 with 10 assets\n"
     ]
    },
    {
     "name": "stderr",
     "output_type": "stream",
     "text": [
      "Adam training: 100%|██████████| 200/200 [05:40<00:00,  1.70s/it, Interior=0.000187, Boundary=0.000930, Initial=0.000294, Total=0.001411, Max Error=184.7983551025, L2 Error=0.3290439844]\n",
      "SSBroyden training: 100%|██████████| 1000/1000 [1:27:25<00:00,  5.25s/it, Interior=0.000684, Boundary=0.000423, Initial=0.000369, Total=0.001476, Max Error=49.120575, L2 Error=0.078838]\n"
     ]
    },
    {
     "name": "stdout",
     "output_type": "stream",
     "text": [
      "L2 Error (%):  10.804757\n"
     ]
    }
   ],
   "source": [
    "for nn_shape in nn_shapes:\n",
    "    for assets in n_assets:\n",
    "        print(f\"Training {nn_shape} with {assets} assets\")\n",
    "        # check if the combination already exists, if so skip\n",
    "        if f\"{nn_shape}_{assets}\" in bench:\n",
    "            print(f\"Already trained {nn_shape} with {assets} assets\")\n",
    "            continue\n",
    "        params = OptionParameters(\n",
    "            n_assets=assets,\n",
    "            tau=1.0,\n",
    "            sigma=np.array([0.2] * assets),\n",
    "            rho=np.eye(assets) + 0.25 * (np.ones((assets, assets)) - np.eye(assets)),\n",
    "            r=0.05,\n",
    "            strike=100,\n",
    "            payoff=payoff\n",
    "        )\n",
    "\n",
    "        # Build the net to be used\n",
    "        model = build_nn(\n",
    "            nn_shape=nn_shape,\n",
    "            input_dim=assets,\n",
    "            dtype=torch.float32,\n",
    "            activation=nn.Softplus(),\n",
    "        ).apply(weights_init).to(device)\n",
    "        model.train()\n",
    "\n",
    "        # Set the training parameters\n",
    "        batch_size = 200\n",
    "        total_iter = 200\n",
    "        boundary_samples = 20_000\n",
    "        interior_samples = boundary_samples*assets*2\n",
    "        initial_samples = boundary_samples*assets*2\n",
    "\n",
    "        # Create dataset to traing over\n",
    "        dataset = SampledDataset(\n",
    "            params, interior_samples, initial_samples, boundary_samples, sampler, dtype, device, seed=0)\n",
    "\n",
    "        # Set optimizer and training function\n",
    "        # 1e-2 is big enought to reach a reasonable min in few steps\n",
    "        optimizer = torch.optim.Adam(model.parameters(), lr=1e-2, amsgrad=True)\n",
    "        preconditioner = kfac.preconditioner.KFACPreconditioner(model)\n",
    "\n",
    "        # # Set the training function\n",
    "        closure = DimlessBS()\\\n",
    "            .with_dataset(dataset, loader_opts={'batch_size': batch_size, \"shuffle\": True, \"pin_memory\": True})\\\n",
    "            .with_model(model)\\\n",
    "            .with_device(device)\\\n",
    "            .with_dtype(dtype)\n",
    "\n",
    "        trainer = PINNTrainer()\\\n",
    "            .with_optimizer(optimizer)\\\n",
    "            .with_device(device)\\\n",
    "            .with_dtype(dtype)\\\n",
    "            .with_training_step(closure)\\\n",
    "            .with_preconditioner(preconditioner)\\\n",
    "            .with_epochs(total_iter)\\\n",
    "        \n",
    "        start = time.time()\n",
    "        trainer.train()\n",
    "        adam_time = time.time() - start\n",
    "\n",
    "        boundary_samples = 100\n",
    "        interior_samples = boundary_samples*assets*2\n",
    "        initial_samples = boundary_samples*assets*2\n",
    "\n",
    "        # We create new samples\n",
    "        dataset = SampledDataset(\n",
    "            params, interior_samples, initial_samples, boundary_samples, sampler, dtype, device, seed=0)\n",
    "\n",
    "        optimizer = SSBroyden(\n",
    "            model.parameters(),\n",
    "            max_iter=1_000,\n",
    "        )\n",
    "        batch_size = len(dataset) # we use all samples\n",
    "\n",
    "        closure = closure.with_dataset(\n",
    "            dataset, loader_opts={'batch_size': batch_size, \"shuffle\": False, \"pin_memory\": True})\n",
    "\n",
    "        trainer = trainer.with_optimizer(optimizer).with_training_step(closure)\n",
    "\n",
    "        start = time.time()\n",
    "        trainer.train()\n",
    "        ssbroyden_time = time.time() - start\n",
    "\n",
    "        state = closure.get_state()\n",
    "        # We save the model\n",
    "        torch.save(model.state_dict(), f\"model_{nn_shape}_{assets}.pt\")\n",
    "\n",
    "        eval = compare_with_mc(model, params, n_prices=200,\n",
    "                          n_simulations=10_000, dtype=dtype, device=device, seed=42)\n",
    "        print(\"L2 Error (%): \", eval['l2_rel_error']*100)\n",
    "        \n",
    "        bench[f\"{nn_shape}_{assets}\"] = {\n",
    "            \"adam_time\": adam_time,\n",
    "            \"ssbroyden_time\": ssbroyden_time,\n",
    "            \"steps\": len(state['interior_loss']),\n",
    "            \"state\": state,\n",
    "            \"evaluation\": eval\n",
    "        }\n",
    "\n",
    "        with open(\"bench.json\", \"w\") as f:\n",
    "            json.dump(bench, f, default=handle_serialization, indent=4)"
   ]
  },
  {
   "cell_type": "code",
   "execution_count": 6,
   "id": "d78b5d2a",
   "metadata": {},
   "outputs": [
    {
     "name": "stdout",
     "output_type": "stream",
     "text": [
      "L2 Error (%):  10.804757\n"
     ]
    }
   ],
   "source": [
    "eval = compare_with_mc(model, params, n_prices=200,\n",
    "                          n_simulations=10_000, dtype=dtype, device=device, seed=42)\n",
    "print(\"L2 Error (%): \", eval['l2_rel_error']*100)\n",
    "\n",
    "bench[f\"{nn_shape}_{assets}\"] = {\n",
    "    \"adam_time\": adam_time,\n",
    "    \"ssbroyden_time\": ssbroyden_time,\n",
    "    \"steps\": len(state['interior_loss']),\n",
    "    \"state\": state,\n",
    "    \"evaluation\": eval\n",
    "}"
   ]
  }
 ],
 "metadata": {
  "kernelspec": {
   "display_name": "Python 3",
   "language": "python",
   "name": "python3"
  },
  "language_info": {
   "codemirror_mode": {
    "name": "ipython",
    "version": 3
   },
   "file_extension": ".py",
   "mimetype": "text/x-python",
   "name": "python",
   "nbconvert_exporter": "python",
   "pygments_lexer": "ipython3",
   "version": "3.11.8"
  }
 },
 "nbformat": 4,
 "nbformat_minor": 5
}
