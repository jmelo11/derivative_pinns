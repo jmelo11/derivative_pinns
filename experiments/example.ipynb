{
 "cells": [
  {
   "cell_type": "markdown",
   "id": "b32ec4e1",
   "metadata": {},
   "source": [
    "# Leveraging PINNs For Multi-Dimensional Pricing Problems \n",
    "#### Author: JP Melo"
   ]
  },
  {
   "cell_type": "markdown",
   "id": "408abab0",
   "metadata": {},
   "source": [
    "This thesis is focused on the application of Physics-Informed Neural Networks (PINNs) to solve multi-dimensional pricing problems in finance. The equation we attempt to solve is described below.\n",
    "\n",
    "### **Equation**\n",
    "First, we define the scaled variables \n",
    "$$\n",
    "  x_i \\;=\\; \\ln\\!\\Bigl(\\frac{S_i}{K}\\Bigr),\n",
    "  \\quad \n",
    "  u(\\tau, x_1, \\dots, x_d) \\;=\\; \\frac{V\\bigl(t,S_1,\\dots,S_d\\bigr)}{K}\n",
    "  \\quad\\text{with}\\quad \n",
    "  \\tau \\;=\\; T - t.\n",
    "$$\n",
    "\n",
    "Under risk-neutral pricing in backward time $\\tau$, the function \n",
    "$u(\\tau, x_1, \\dots, x_d)$ satisfies the PDE\n",
    "$$\n",
    "\\frac{\\partial u}{\\partial \\tau} \\;=\\;\n",
    "\\frac{1}{2}\\sum_{i=1}^d \n",
    "\\sigma_i^{2}\\!\\left(\n",
    "\\frac{\\partial^{2}u}{\\partial x_i^{2}}\n",
    "-\\frac{\\partial u}{\\partial x_i}\\right)\n",
    "\\;+\\;\n",
    "\\frac{1}{2}\\sum_{i=1}^d\\sum_{j=1}^d\n",
    "\\sigma_i\\sigma_j\\rho_{ij}\\,\n",
    "\\frac{\\partial^{2}u}{\\partial x_i\\,\\partial x_j}\n",
    "\\;+\\;\n",
    "r\\sum_{i=1}^d\\frac{\\partial u}{\\partial x_i}\n",
    "\\;-\\;\n",
    "r\\,u .\n",
    "$$\n",
    "\n",
    "### **Boundary Conditions**\n",
    "\n",
    "**Bottom boundary**  \n",
    "For very small $S_i$ i.e. $x_i \\to -\\infty$, one commonly imposes (1 asset)\n",
    "$$\n",
    "    -\\frac{\\partial u}{\\partial \\tau} - ru \\;=\\; 0.\n",
    "$$\n",
    "\n",
    "For the multi-asset case, the k'th lower boundary condition is given by\n",
    "\n",
    "$$\n",
    "\\frac{\\partial u}{\\partial \\tau} \\;=\\;\n",
    "\\frac{1}{2}\\sum_{\\substack{i=1 \\\\ i\\neq k}}^d \n",
    "\\sigma_i^{2}\\!\\left(\n",
    "\\frac{\\partial^{2}u}{\\partial x_i^{2}}\n",
    "-\\frac{\\partial u}{\\partial x_i}\\right)\n",
    "\\;+\\;\n",
    "\\frac{1}{2}\\sum_{\\substack{i=1 \\\\ i\\neq k}}^d\n",
    "      \\sum_{\\substack{j=1 \\\\ j\\neq k}}^d\n",
    "\\sigma_i\\sigma_j\\rho_{ij}\\,\n",
    "\\frac{\\partial^{2}u}{\\partial x_i\\,\\partial x_j}\n",
    "\\;+\\;\n",
    "r\\sum_{\\substack{i=1 \\\\ i\\neq k}}^d\n",
    "\\frac{\\partial u}{\\partial x_i}\n",
    "\\;-\\;\n",
    "r\\,u .\n",
    "$$\n",
    "\n",
    "**Top boundary**  \n",
    "For very large $S_i$ i.e. $x_i \\to +\\infty$, assume asymptotically linear behavior in $S_i$,\n",
    "which translates to the following expression in the dimensionless case (1 asset):\n",
    "$$\n",
    "   \\frac{\\partial^2 u}{\\partial x_i^2}-\\frac{\\partial u}{\\partial x_i} = 0\n",
    "$$\n",
    "\n",
    "The generalization for the multi-asset case is straightforward is presented below:\n",
    "\n",
    "$$\n",
    "\\frac{\\partial u}{\\partial \\tau} \\;=\\;\n",
    "\\frac{1}{2}\\sum_{\\substack{i=1 \\\\ i\\neq k}}^d \n",
    "\\sigma_i^{2}\\!\\left(\n",
    "\\frac{\\partial^{2}u}{\\partial x_i^{2}}\n",
    "-\\frac{\\partial u}{\\partial x_i}\\right)\n",
    "\\;+\\;\n",
    "\\frac{1}{2}\\sum_{\\substack{i=1 \\\\ i\\neq k}}^d\n",
    "      \\sum_{\\substack{j=1 \\\\ j\\neq k}}^d\n",
    "\\sigma_i\\sigma_j\\rho_{ij}\\,\n",
    "\\frac{\\partial^{2}u}{\\partial x_i\\,\\partial x_j}\n",
    "\\;+\\;\n",
    "r\\sum_{i=1}^d\\frac{\\partial u}{\\partial x_i}\n",
    "\\;-\\;\n",
    "r\\,u .\n",
    "$$"
   ]
  },
  {
   "cell_type": "markdown",
   "id": "b50527de",
   "metadata": {},
   "source": [
    "### Imports"
   ]
  },
  {
   "cell_type": "code",
   "execution_count": 1,
   "id": "5d74c022",
   "metadata": {},
   "outputs": [
    {
     "name": "stderr",
     "output_type": "stream",
     "text": [
      "/Users/josemelo/Desktop/master/tesis/codes/.conda/lib/python3.11/site-packages/kfac/base_preconditioner.py:15: UserWarning: NVIDIA Apex is not installed or was not installed with --cpp_ext. Falling back to PyTorch flatten and unflatten.\n",
      "  from kfac.distributed import get_rank\n"
     ]
    }
   ],
   "source": [
    "from derpinns.nn import *\n",
    "from derpinns.utils import *\n",
    "from derpinns.trainer import *\n",
    "import torch\n",
    "import kfac"
   ]
  },
  {
   "cell_type": "markdown",
   "id": "bc70ad0c",
   "metadata": {},
   "source": [
    "## Parameters"
   ]
  },
  {
   "cell_type": "code",
   "execution_count": 2,
   "id": "1176864d",
   "metadata": {},
   "outputs": [],
   "source": [
    "# Global parameters\n",
    "assets = 10\n",
    "\n",
    "sampler = \"Sobol\"  # [\"pseudo\", \"LHS\", \"Halton\", \"Hammersley\", \"Sobol\"]:\n",
    "device = torch.device(\"cpu\")\n",
    "dtype = torch.float32\n",
    "nn_shape = \"64x3\"\n",
    "\n",
    "# Define option valuation params\n",
    "params = OptionParameters(\n",
    "    n_assets=assets,\n",
    "    tau=1.0,\n",
    "    sigma=np.array([0.2] * assets),\n",
    "    rho=np.eye(assets) + 0.25 * (np.ones((assets, assets)\n",
    "                                         ) - np.eye(assets)),\n",
    "    r=0.05,\n",
    "    strike=100,\n",
    "    payoff=payoff\n",
    ")\n",
    "\n",
    "# Build the net to be used\n",
    "model = build_nn(\n",
    "    nn_shape=nn_shape,\n",
    "    input_dim=assets,\n",
    "    dtype=torch.float32\n",
    ").apply(weights_init).to(device)\n",
    "\n",
    "## Other possible net models\n",
    "# model = NNAnzats(n_layers=3, input_dim=assets+1,hidden_dim=64, output_dim=1).apply(weights_init).to(device)\n",
    "# model = SPINN(n_layers=3, input_dim=assets+1, hidden_dim=32, output_dim=1).apply(weights_init).to(device)\n",
    "# model = NNWithFourier(n_layers=3, input_dim=assets+1, hidden_dim=64, output_dim=1).apply(weights_init).to(device)"
   ]
  },
  {
   "cell_type": "markdown",
   "id": "7bdffad9",
   "metadata": {},
   "source": [
    "## Training\n",
    "\n",
    "For training, different optimizers are used in order to get better accuracy as stated in [this article](https://arxiv.org/pdf/2402.01868)."
   ]
  },
  {
   "cell_type": "markdown",
   "id": "75c5452c",
   "metadata": {},
   "source": [
    "### Adam Training"
   ]
  },
  {
   "cell_type": "code",
   "execution_count": null,
   "id": "8a7c1354",
   "metadata": {},
   "outputs": [],
   "source": [
    "# Set the training parameters\n",
    "batch_size = 200\n",
    "total_iter = 2_000\n",
    "boundary_samples = 5_000\n",
    "interior_samples = boundary_samples*assets*2\n",
    "initial_samples = boundary_samples*assets*2\n",
    "\n",
    "# Create dataset to traing over\n",
    "dataset = SampledDataset(\n",
    "    params, interior_samples, initial_samples, boundary_samples, sampler, dtype, device)\n",
    "\n",
    "# Set optimizer and training function\n",
    "model.train()\n",
    "optimizer = torch.optim.Adam(model.parameters(), lr=1e-2)\n",
    "\n",
    "\n",
    "# Set the training function\n",
    "closure = DimlessBS()\\\n",
    "    .with_dataset(dataset, loader_opts={'batch_size': batch_size, \"shuffle\": True, \"pin_memory\": True})\\\n",
    "    .with_model(model)\\\n",
    "    .with_device(device)\\\n",
    "    .with_dtype(dtype)\n",
    "\n",
    "trainer = PINNTrainer()\\\n",
    "    .with_optimizer(optimizer)\\\n",
    "    .with_device(device)\\\n",
    "    .with_dtype(dtype)\\\n",
    "    .with_training_step(closure)\\\n",
    "    .with_epochs(total_iter)\\\n",
    "    # .with_scheduler(scheduler)\n",
    "\n",
    "trainer.train()"
   ]
  },
  {
   "cell_type": "code",
   "execution_count": null,
   "id": "adaec2b8",
   "metadata": {},
   "outputs": [
    {
     "name": "stdout",
     "output_type": "stream",
     "text": [
      "L2 Error:  15.175803676368767\n"
     ]
    }
   ],
   "source": [
    "results = compare_with_mc(model, params, n_prices=200,\n",
    "                          n_simulations=10_000, dtype=dtype, device=device)['l2_rel_error']\n",
    "print(\"L2 Error: \", results*100)"
   ]
  },
  {
   "cell_type": "code",
   "execution_count": null,
   "id": "524726b5",
   "metadata": {},
   "outputs": [
    {
     "data": {
      "application/vnd.plotly.v1+json": {
       "config": {
        "plotlyServerURL": "https://plot.ly"
       },
       "data": [
        {
         "line": {
          "color": "#08306B"
         },
         "mode": "lines",
         "name": "PDE Loss",
         "type": "scatter",
         "x": {
          "bdata": "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",
          "dtype": "i2"
         },
         "y": {
          "bdata": "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",
          "dtype": "f8"
         }
        },
        {
         "line": {
          "color": "#3182BD"
         },
         "mode": "lines",
         "name": "Boundary Loss",
         "type": "scatter",
         "x": {
          "bdata": "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",
          "dtype": "i2"
         },
         "y": {
          "bdata": "16Nw3erSwj/Xo3Dd6tLCP9ejcN3q0sI/16Nw3erSwj/Xo3Dd6tLCP9ejcN3q0sI/16Nw3erSwj/Xo3Dd6tLCP9ejcN3q0sI/16Nw3erSwj/Xo3Dd6tLCP9ejcN3q0sI/16Nw3erSwj/Xo3Dd6tLCP9ejcN3q0sI/16Nw3erSwj/Xo3Dd6tLCP9ejcN3q0sI/16Nw3erSwj/Xo3Dd6tLCP9ejcN3q0sI/16Nw3erSwj/Xo3Dd6tLCP9ejcN3q0sI/16Nw3erSwj/Xo3Dd6tLCP9ejcN3q0sI/16Nw3erSwj/Xo3Dd6tLCP9ejcN3q0sI/16Nw3erSwj/Xo3Dd6tLCP9ejcN3q0sI/16Nw3erSwj/Xo3Dd6tLCP9ejcN3q0sI/16Nw3erSwj/Xo3Dd6tLCP9ejcN3q0sI/16Nw3erSwj/Xo3Dd6tLCP9ejcN3q0sI/16Nw3erSwj/Xo3Dd6tLCP9ejcN3q0sI/16Nw3erSwj/Xo3Dd6tLCP9ejcN3q0sI/16Nw3erSwj/Xo3Dd6tLCPylcjwLK0cI/UrgeFeGYwj/D9SiERbnBP8P1KOwIDcA/cT0KN0Ulvj/sUbhe/8G8P3sUrpcOPrw/cT0KX6+3uj/2KFxnSMO5PxSuR8Ej0rk/AAAAoBCOuT9cj8J1UjK5P0jhemQaCLk/MzMzk5y5uD+kcD2qWA25PwAAAIBLU7g/AAAAiCszuD/NzMw0ePe3P6RwPRJxMbg/zczM9DDHtz/Xo3BFB3S2P/YoXFdYN7Y/cT0Kj9NRtj8K16MgMfG1Px+F65GiorQ/cT0KF4KKtD/Xo3B1ebC0P6RwPaLk0LQ/UrgefeHktD9cj8LVSbG0P4/C9Yh2mrQ/ZmZmNvGWtD9I4XpkIsi0P3sUridXDrU/XI/CtVIftT9xPQpn/Qu1P6RwPVrDI7U/16NwvY0JtT/hehTOFym1P65H4RrpK7U/cT0KR8outT/Xo3DdcSS1PylcjxrPOrU/uB6Fq+4otT9I4XpUu+60Pz0K13ve8bQ/zczMFCW3tD+F61HwFqO0P4/C9SjzkLQ/cT0KbxCztD+amZmRXKC0P5qZmdFotbQ/cT0KFzTBtD9I4XpEIru0P1K4HnUd/LQ/hetRiAWRtD9mZmYOvWq0PzMzM/O7eLQ/j8L1aJmBtD9SuB4VHrO0P2ZmZmZoxrQ/H4Xr6VputD9mZmb+vU20PzMzM9PZ+LM/7FG4LiKDsz8pXI9S+X+zP65H4YK0ibM/exSuvyyDsz9cj8LNMHmzP3sUrp+qhrM/FK5HefBmsz+4HoWD8lazP0jhetyGAbM/16NwfWEmsz/hehS+4w2zP2ZmZmZS47I/j8L1CNfOsj8K16PIMIuyP5qZmRGkXLI/hetRCJVhsj/hehT24zWyP1yPwm1UQLI/AAAAqP3msT+kcD2a5Y+xPxSuRwHwcLE/SOF6JAJesT9I4XrEokaxP7gehaMlHrE/rkfh4g7msD8AAADo5N+wPxSuR/H41LA/PQrXs5XSsD8pXI/KM7uwPxSuRzGXp7A/FK5HSdi2sD+amZlRMqywP6RwPSIrwbA/FK5HGWO6sD+PwvUYsq6wPxSuR5FxtLA/UrgeBVO4sD+PwvW4EZiwPxSuR3kjnrA/PQrXs+t2sD/Xo3DFE0OwP7gehTNbP7A/16Nw3aResD/Xo3BNC2WwP9ejcH3uZLA/7FG4jj0BsD8zMzNTg/6vP3E9Cm85gbA/rkfhYpiVsD/2KFz/K8ywP9ejcE3UkrA/w/UorFXZsD/Xo3DNktuwP4/C9ciYlLA/FK5HEURRsD8Urkdx/EOwPxSuR9HRkbA/H4XrMaaYsD8AAABgwNewP1yPwsWvKbE/zczM7K9CsT+F61GIX6OxP65H4RqQA7I/9ihcR/Rbsj8K16M4+K6yP/YoXLd7p7I/7FG47n+Xsj/2KFxvC0KyP5qZmfkqVbI/AAAAaLTQsj+amZlxnLyyP1yPwi1QpbI/UrgePUy0sj/Xo3DVQJ6yPwrXowigo7I/PQrXe+TXsj+F61EoKOSyP9ejcK2ZHLM/KVyP0vZmsz/sUbg+AYKzP8P1KEw4j7M/rkfhwiygsz+uR+FCMpGzPwrXo5j6BrQ/hetRsBIatD+PwvWAGRC0P+F6FMZi7LM/w/UoxOMPtD8K16OoTim0P3sUrtedO7Q/AAAAGOpktD/hehSmkYa0P9ejcDXVbLQ/cT0KX35ntD89CtdrtE+0PwAAAJiHn7Q/16NwxTyVtD9SuB69q0u0P83MzJTCI7Q/uB6FS4wHtD/D9Si8LNOzP6RwPaJLiLM/uB6Fkzaasz9SuB6VjJizP3sUrgfVb7M/4XoUXhh0sz8zMzMz+BqzPx+F68GJEbM/KVyPapCtsj/hehSGhz2yP3sUrg+YUrI/j8L1kBLtsT8pXI8qtI6xP+F6FEbqb7E/H4XryRQ0sT+uR+FSrHKxPwAAAJg23bE/9ihc108Ksj97FK5fZSqyP9ejcHW49bE/cT0KV6zssT89CtdDE+axP1K4HjWB8rE/ZmZmvsr5sT8AAABYtEmyP3sUrl+qI7I/9ihcP6sasj/Xo3CNoiOyP3E9CjcU3rE/uB6FC0bwsT9xPQr/jxayP1yPwoXHOLI/exSul2dBsj97FK538fWxP4/C9WAE7bE/4XoUVl/gsT9I4Xpk89WxP+xRuK7BzbE/uB6FqyXNsT9cj8LlJ9SxPzMzM5NPqbE/UrgeJUbFsT9cj8KVBMWxP7gehVu4xbE/ZmZmNmADsj+amZn59wmyP7gehUtOMLI/hetRwCwHsj8pXI96oQmyP4/C9XC097E/hetR6BMTsj/hehTu5BOyP4XrUTixA7I/KVyPatAVsj8zMzPbeCGyPzMzM7Nc8bE/uB6F203lsT9SuB51svuxP/YoXOewF7I/j8L1sEddsj+kcD0KNi6yP5qZmbniJbI/cT0Kd+1xsj/hehQe/FWyPwAAABDTX7I/4XoUDtUpsj/D9SiMMtuxP7gehYsP87E/pHA9yjbqsT+4HoWLFyWyP1K4Hl2wI7I/mpmZwV0gsj+4HoVzH9axP65H4Qqc07E/7FG4pkCBsT+amZlZB1WxP9ejcPU2WrE/9ihch+IgsT8pXI/aCFmxPzMzM8vWK7E/uB6FM8gosT9I4XoMeO2wP5qZmcHw/LA/XI/CXZwHsT9cj8IdHwKxP9ejcGUXBLE/pHA9SjgXsT8zMzOrn/KwP3sUru826LA/H4XrSV+qsD/sUbhW0KywP1K4Hg3gkLA/XI/CDQyWsD9mZmYOAGywP7gehZMXF7A/ZmZmtk24rz+4HoU7rmqvP1K4HmVcxK8/SOF6dAmxrz8K16PQWLuvPwAAAIC6jK8/j8L1uClxrz9SuB4VznqvP/YoXF8JZK8/mpmZadZ8rz/D9SiMnnivP3E9CueCX68/zczMTLMcrz9mZmZGAKqvP+F6FJ7kFq8/exSuZ+ukrz+4HoWraQCwP1yPwpVDda8/16NwXWKmrz/2KFzP926vP/YoXF8sZa8/AAAA0J5Lrz8AAACQpeuuP3sUrrdsxq4/j8L16EP+rT+amZl5ukGuP5qZmYkFYK4/uB6Fq4lFrj/D9Sgc6lauP2ZmZmaSS64/H4Xr4RBwrj97FK4nPzCuP+F6FG5hqK4/FK5HgSNIrj9I4Xo0QFKuP65H4aruAq4/rkfh6sp5rj8UrkfxfhSuP65H4UpGTK4/16NwLb4zrj9mZmb2z76uP0jhekTMz64/cT0Kh9nLrj9xPQpnZtquP+xRuE6Aa68/4XoUvlx+rz9mZmb25zqvP+F6FD6AUK8/zczMzB9lrz9SuB6lUd2vP7gehbt1NLA/cT0Kdz/9rz+uR+Eam6yvP/YoXE8Jz68/SOF6BEnFrz8pXI+CfPSvPwrXowCYGrA/mpmZGWgisD9I4XpEyDywPxSuR4H2PbA/pHA9iqlfsD97FK7XyBCxP+F6FLa+JrE/H4XrMVvvsD8fhespMjKxP1K4Ht0W67A/SOF6LNfZsD9xPQq/zzqxP/YoXBfBKrE/KVyPakk1sT+F61F4MkOxP3sUrsfve7E/hetR+ACqsT+F61FApYuxP65H4bok6LE/PQrXk1fHsT97FK7/7OWxP9ejcC3NEbI/hetR0MInsj97FK7XNr+yP4XrUejS27I/FK5HuRYBsz+PwvWQD9WyPwrXo6jC+LI/cT0KXxIQsz/NzMysznGzPylcjwIXbLM/XI/C7S1csz+kcD06sQ6zPwrXo3g5MbM/zczMxKTwsj8K16NopzezPwrXo0inQ7M/j8L14HIqsz+4HoVT3gyzP1K4Hq3wFLM/16NwZc8ssz+PwvUAWVyzP3E9ChfPj7M/j8L1iHuFsz9cj8LlTD+zP6RwPeoif7M/7FG4/kfJsz+amZlJgQm0P+F6FB4lMbQ/FK5HQcEztD8Urkch2kK0P5qZmal+c7Q/PQrXg5FQtD/D9Sh8J0+0P65H4WqAPrQ/SOF6dIG6sz+PwvWo3cKzP65H4cJz57M/hetR6KGssz9I4XpECc6zP5qZmaEptLM/7FG4ZuRtsz/hehQ2Wn+zP3sUrq/TgrM/pHA9YoGpsz/NzMw0gH6zP7gehUMOZbM/j8L1YAqAsz9I4XrMHFWzP4XrUZi3ZLM/Urge1cxgsz8fhetxuD6zPzMzM1OBNrM/rkfhmui0sj+F61EYvdOyPzMzM8thyrI/mpmZGRu0sj8pXI8yz6qyP1K4HnULtLI/CtejID9csj8fhevJazmyP9ejcC0AX7I/Urgenb9ysj/Xo3B1ZL2yP/YoXKP+lLI/mpmZ7epTsj9xPQrTOkuyP3E9CiuQPrI/CtejdKAysj8fhes1/kCyP2ZmZjKHNbI/mpmZxccCsj/2KFy7UfmxPwrXo8yx0rE/pHA9ltTdsT/Xo3B5B+OxPzMzMz/Q77E/PQrXb5e3sT/D9SiIY8exP65H4WYo3rE/7FG4qkfusT8fhevN3ZexPz0K1+clp7E/hetR7Dt8sT+uR+E2SJaxP3sUrlMzgLE/MzMzj4C+sT97FK6zgr+xPwrXo7x2pbE/j8L1DI6SsT89Ctd/N5uxP+F6FFInibE/4XoU0pl1sT97FK77BWCxP5qZmeUiIrE/pHA9Frw9sT8AAAC8+haxPx+F66V15bA/CtejLDCPsD+amZl9m6GwP4/C9dzudLA/FK5HxXKlsD9mZmZigZmwP1yPwpEcr7A/9ihcS9OOsD9xPQp71ruwP/YoXDsds7A/4XoUCt7psD+4HoUXYU2xPx+F663vhrE/mpmZDYWasT8AAACkHZ+xPwrXozQWrrE/4XoUsrytsT+F61GwjwyyP9ejcAWbDbI/4XoU1lpAsj+uR+EKGqqyP/YoXI9rBrM/MzMzk7n+sj/D9Sg0NjCzPx+F6wlsH7M/PQrX2xEWsz+4HoUjmjuzP8P1KGwVILM/mpmZGYEAsz97FK6XCtKyP/YoXC8W4bI/9ihc3yjisj+uR+Gqv7qyP1K4HnVZ27I/4XoUDnD/sj9xPQrHuPKyPwAAAMCf+LI/UrgeFSCJsz/D9Sj8Kp+zP0jhevQpbLM/FK5Hebwdsz/D9Sik1zOzP65H4eoqPrM/ZmZm1hFCsz/D9ShE1CezPx+F6/ksa7M/exSuD5Zxsz89Ctdz/X6zPzMzMyNcRrM/exSuH4I4sz8AAACokX2zP2ZmZgpEdrM/UrgeuZO3sz/hehTyBMazP4XrUazi37M/KVyPTmo6tD9I4XrgEAy0P6RwPQauCLQ/16NwecK/sz9mZmaivf+zPxSuRz037LM/ZmZmMrCksz/sUbjK+ZmzP3E9CsP+lbM/MzMzr7bSsz+kcD3mpbuzP8P1KNhqiLM/XI/C8aE/sz9SuB7RAG2zP1yPwpHelLM/j8L1BH1tsz+kcD128yqzP6RwPSYAP7M/zczM+HYYsz+4HoU3OkqzP3E9CrNIerM/w/UoKD6Lsz8Urke1uaezP65H4e4fuLM/XI/CyQifsz+amZndYr6zP1yPwin54rM/ZmZmOlcStD/2KFyDQVK0P8P1KDAtW7Q/MzMz/0iitD89CtdPbNW0P6RwPfYbhbQ/MzMzr2qJtD89CtfvC7C0P65H4a4AC7U/CtejDHVLtT9SuB5RQWG1Px+F692KhLU/ZmZmyreGtT/2KFyD5FG1P0jheqjYeLU/7FG4Gh1VtT8UrkfNqF+1P65H4R5DnbU/j8L1hDR7tT8K16Poh8S1P65H4dINfLU/CtejGMaytT9I4Xrc6lW1Pylcj5q8BbU/7FG4JlgotT89Cte7IWi1PzMzM+uPlrU/zczMZPxdtT/NzMx0UE61P8P1KJSUNrU/FK5HWc8dtT9mZmZ+Di21P2ZmZp5RObU/exSun9tptT+F61EwSom1P8P1KHQxsLU/mpmZsdOgtT/2KFyH82a1P/YoXIdYkbU/Ctej2OG0tT8zMzObE7S1P/YoXIetp7U/uB6F41KGtT/Xo3B1XHm1P6RwPdLkpbU/MzMzmzugtT9SuB7NS2C1P/YoXOf5VLU/mpmZUUAwtT9mZmbWAeO0P6RwPdp77bQ/AAAAEHBftD8zMzPjtqC0P8P1KIzeebQ/7FG4VpFVtD8fheuZxSi0P0jhevwtObQ/hetR8LowtD9I4XpUyv6zP4XrUQjVorM/7FG4jnqusz/NzMy8j7ezP5qZmUFJA7Q/hetRoDENtD8zMzPbGe6zP6RwPfo/DLQ/ZmZmZkRDtD8AAAAAxme0Pylcj+ogjbQ/uB6F08CPtD8K16MoGJ+0P5qZmTFRALU/FK5Hae5OtT9mZmY+NlW1Pz0K10tAVrU/pHA9Im4mtT/2KFxPQxe1P65H4QrRKLU/w/UoTB5HtT+4HoUbs3C1P83MzMyv7LU/FK5HAexDtj+amZm5kvK1P8P1KNxT1rU/MzMzc9+stT8UrkfBKpS1P1yPwgUImrU/FK5HcYR4tT/sUbiOoEy1P9ejcB3kH7U/ZmZm5tMotT8K16MQvE+1P/YoXH+3XbU/hetRSLxStT/Xo3AVH+y0P5qZmSm/27Q/uB6Fm4IQtT9I4Xq0TP+0P+F6FKZw4rQ/ZmZm1hfytD97FK7nm8u0P+F6FA4w5LQ/MzMz4+GttD9cj8IVgH20P7gehZMZWbQ/uB6FAxEbtD8UrkfpMyO0P7gehcNcDLQ/pHA9Ep71sz/hehTWnw60P65H4dKS+bM/SOF6DE3Jsz+amZmR4p2zP0jhejTwXrM/j8L16PFisz9cj8LdqF6zP3sUro8eQ7M/hetRYIMIsz/D9SgEjg2zP+xRuAaC27I/mpmZMfnMsj9xPQovN1KyP1K4Hp28PLI/H4XrmRFjsj9SuB4dviWyP8P1KMQCZLI/pHA9ykhNsj/hehRut1iyP6RwPfr1gbI/KVyPEjVLsj9mZmbmOeKxP3E9Cpf9lbE/hetR+P+TsT/2KFwHG2+xP8P1KJTwjLE/FK5HiTbFsT+amZl5GpKxP2ZmZlZwybE/uB6Fiw2LsT9SuB5FOamxP3sUrs9Cd7E/exSuP19qsT97FK7vrbKxP9ejcHXXmrE/CtejQPd9sT8zMzM7Rp+xP2ZmZg74xbE/exSujwP9sT/sUbjucGGyPx+F60FMSLI/MzMzI6k3sj+amZmx+CGyPwAAAKi7SbI/7FG45q+Gsj/hehQ297ayP4/C9fAp/7I/9ihcp5ojsz/hehS2YfGyP1K4HhU8S7M/KVyPwqBesz8K16PI9jCzP7gehQM1SLM/cT0KTzJ2sz9xPQrnna6zP7gehTuMobM/MzMzG0XQsz/sUbiGGcezP8P1KMzDobM/UrgeBemdsz/2KFy/56qzP2ZmZpbsn7M/FK5HmYx6sz9SuB6tc3ezP/YoXDdec7M/zczMVJuqsz8pXI9qaqSzP4/C9ZAo1rM/PQrXG9QQtD/hehRGdJSzPylcj9oFfLM/CtejuD9xsz8pXI96OkCzPylcj8KpHrM/9ihc1ygvsz/hehQW4lmzP6RwPdJYObM/4XoUPvSMsz8fhespflizP9ejcNXdPLM/AAAA+Eg7sz9cj8IV4TazPx+F643//7I/KVyPTuypsj8K16PsE7+yP3E9CnNyDrM/Urge0eAYsz/Xo3ApD++yPxSuR53H0LI/j8L11AKRsj+F61F0ramyP6RwPUac/7I/9ihcg3Masz+F61E8rbyyP+F6FPI847I/4XoUklTZsj/hehTCTLuyP1K4HrkAkrI/FK5HBXDQsj/sUbgCXQ6zPxSuR8WWX7M/H4XrTSWTsz/2KFyLJ5CzP5qZmbVea7M/16Nw2eY6sz97FK4TgFKzPylcj85ePrM/XI/CAeBksz89CtdnRsOzP83MzPjVprM/CtejjNursz8K16Os+v6zP4XrUXyII7Q/CtejlFsLtD8K16OkW+mzP+F6FKJZ0rM/PQrXNzG1sz8Urkc10KqzP6RwPU6PubM/rkfhLrkrtD97FK4bjEu0P8P1KIAhNLQ/FK5HlW5ctD8AAADc5Ia0P9ejcBkdmLQ/rkfhRoNAtD/D9SgQzhy0P/YoXJOPOLQ/AAAAvNw4tD+4HoX/iUu0P3sUrtu1QLQ/9ihcA6CatD8K16MIzOS0P4/C9YCe8LQ/UrgeHVbftD/D9Sj8ebW0P2ZmZiZ11LQ/XI/C3YnAtD+PwvXALs+0PwrXo8h2/bQ/PQrXSzbxtD9I4Xp8sam0PxSuR1nK3bQ/uB6FI3gRtT8K16N4ccy0P7gehZOZuLQ/Urge/fm1tD9I4XoksXu0P1yPwnXqabQ/hetRmJ70sz/sUbjegcizPwrXo0CYqbM/9ihcv6ecsz/NzMxUEX+zPxSuR/nFuLM/cT0Kr0Oesz8AAAAocI6zP4XrUUACc7M/ZmZmbvZWsz/D9Sjc7VizPzMzMyNVTLM/zczMlOzSsj9mZmbupd2yP83MzIQ4/rI/UrgezXsjsz8AAADYYjSzP3sUrkcB87I/FK5HIe9Asz+F61EoZ+yyP4XrUfjfz7I/9ihcD3/msj9I4XrUbfOyP6RwPTrV1bI/rkfhGmjCsj8pXI9qBaSyPz0K15utmbI/4XoUjgOrsj8fheuREpOyP9ejcD1esrI/ZmZm3mfRsj+amZlxkvqyPwAAABi6tbI/ZmZmjv2vsj+amZnBi8GyPylcj5pk47I/cT0Kb+/isj89Ctdb+reyP8P1KKzjxLI/9ihcX+vTsj+PwvX4gc2yP+xRuF4ApbI/MzMzg3X5sj/NzMz83cWyPx+F61H0vrI/hetR2FrUsj+PwvUIejOzPz0K13NzK7M/MzMzW7Q/sz+uR+HqN/GyP8P1KCzl7LI/uB6Fo2e/sj8K16OYUs+yPwAAAIjZ9bI/rkfhWvw9sz/sUbhOMD2zP+F6FK4XT7M/uB6FK0FQsz9xPQrnQDKzPzMzMwMQ9rI/cT0KF/oBsz9SuB4l7RCzP2ZmZu7MU7M/zczMRDJhsz8AAAAI5mKzP9ejcDX6U7M/j8L1+CAksz9xPQrX7iqzP4XrUSAMxLI/SOF67Lfusj/hehSGsuWyPylcj1rq17I/zczMxJjZsj9xPQpvgryyP2ZmZg65rrI/mpmZaYPIsj8zMzPDDs6yP0jhehyTwbI/4XoUhrZ/sj9cj8LtRnayPz0K18OrT7I/9ihc784psj/NzMw0WxKyP0jheoRa+rE/pHA94iDOsT97FK6vdMixP3sUrsec7LE/SOF6RKHxsT+uR+E6a/ixP+xRuA7A+7E/XI/CNRcYsj/sUbheDpeyPwAAAJC8QrI/KVyPksMhsj/2KFzfhSKyP0jheqSIF7I/exSuhynwsT/NzMysbxCyPzMzM4N1XLI/FK5HuS58sj/hehSG14OyPylcj8JZcbI/H4XrkeeHsj+F61F4NnWyP3sUrqeJQrI/ZmZm9ogXsj/sUbi+cUiyP3E9ChdWS7I/16NwfZ9Ssj8UrkfhX4OyP9ejcD0MmLI/zczMnDa9sj+uR+HKwfayP7gehTsIsbI/UrgeVXiZsj/sUbhW5XOyPz0K14MGf7I/uB6FA8uysj/Xo3CdldCyPzMzM/PEFLM/FK5H4eo5sz+amZm5jjyzP+F6FN6ATbM/UrgeRe/asz8Urkf5M8KzPx+F6xkzqrM/ZmZmbkfIsz8zMzNDPtmzP/YoXA8OILQ/cT0Klx1StD/NzMxU/E20P3E9Cq/2LLQ/uB6FayY2tD8fhespJHa0P8P1KDxupbQ/XI/CJUVptD8fheuRkl+0P65H4dqWo7Q/zczMbIKTtD9cj8KFMWa0PylcjxKPSrQ/4XoU3hIBtD9I4XqEgDK0PzMzMwv+MrQ/pHA9sjtEtD+amZn53ja0P83MzMS3CbQ/CtejWAndsz8fhevptrazP2ZmZu54LrQ/pHA90voitD/D9ShUP0e0P8P1KEQhSbQ/FK5HmfYntD+PwvXQiii0P9ejcIWLM7Q/H4XrCY85tD8zMzNrd1W0PylcjzqrlbQ/j8L1EGZ9tD+4HoUDcVW0P7geheNONrQ/FK5Hqenrsz9I4XqcMSa0P/YoXG8KCrQ/AAAAMGf6sz+uR+FK5TW0P2ZmZhqb4LM/rkfhHj7osz8AAAAUCHSzPz0K1wfHBbM/4XoUcnQxsz9xPQqbSU6zPzMzMwdx+bI/ZmZmMpsksz9xPQrDlyCzP1K4HvGO3bI/uB6F90zmsj8=",
          "dtype": "f8"
         }
        },
        {
         "line": {
          "color": "#9ECAE1"
         },
         "mode": "lines",
         "name": "Initial Loss",
         "type": "scatter",
         "x": {
          "bdata": "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",
          "dtype": "i2"
         },
         "y": {
          "bdata": "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",
          "dtype": "f8"
         }
        }
       ],
       "layout": {
        "height": 600,
        "legend": {
         "orientation": "h",
         "x": 0.5,
         "xanchor": "center",
         "y": 1,
         "yanchor": "top"
        },
        "template": {
         "data": {
          "bar": [
           {
            "error_x": {
             "color": "#2a3f5f"
            },
            "error_y": {
             "color": "#2a3f5f"
            },
            "marker": {
             "line": {
              "color": "white",
              "width": 0.5
             },
             "pattern": {
              "fillmode": "overlay",
              "size": 10,
              "solidity": 0.2
             }
            },
            "type": "bar"
           }
          ],
          "barpolar": [
           {
            "marker": {
             "line": {
              "color": "white",
              "width": 0.5
             },
             "pattern": {
              "fillmode": "overlay",
              "size": 10,
              "solidity": 0.2
             }
            },
            "type": "barpolar"
           }
          ],
          "carpet": [
           {
            "aaxis": {
             "endlinecolor": "#2a3f5f",
             "gridcolor": "#C8D4E3",
             "linecolor": "#C8D4E3",
             "minorgridcolor": "#C8D4E3",
             "startlinecolor": "#2a3f5f"
            },
            "baxis": {
             "endlinecolor": "#2a3f5f",
             "gridcolor": "#C8D4E3",
             "linecolor": "#C8D4E3",
             "minorgridcolor": "#C8D4E3",
             "startlinecolor": "#2a3f5f"
            },
            "type": "carpet"
           }
          ],
          "choropleth": [
           {
            "colorbar": {
             "outlinewidth": 0,
             "ticks": ""
            },
            "type": "choropleth"
           }
          ],
          "contour": [
           {
            "colorbar": {
             "outlinewidth": 0,
             "ticks": ""
            },
            "colorscale": [
             [
              0,
              "#0d0887"
             ],
             [
              0.1111111111111111,
              "#46039f"
             ],
             [
              0.2222222222222222,
              "#7201a8"
             ],
             [
              0.3333333333333333,
              "#9c179e"
             ],
             [
              0.4444444444444444,
              "#bd3786"
             ],
             [
              0.5555555555555556,
              "#d8576b"
             ],
             [
              0.6666666666666666,
              "#ed7953"
             ],
             [
              0.7777777777777778,
              "#fb9f3a"
             ],
             [
              0.8888888888888888,
              "#fdca26"
             ],
             [
              1,
              "#f0f921"
             ]
            ],
            "type": "contour"
           }
          ],
          "contourcarpet": [
           {
            "colorbar": {
             "outlinewidth": 0,
             "ticks": ""
            },
            "type": "contourcarpet"
           }
          ],
          "heatmap": [
           {
            "colorbar": {
             "outlinewidth": 0,
             "ticks": ""
            },
            "colorscale": [
             [
              0,
              "#0d0887"
             ],
             [
              0.1111111111111111,
              "#46039f"
             ],
             [
              0.2222222222222222,
              "#7201a8"
             ],
             [
              0.3333333333333333,
              "#9c179e"
             ],
             [
              0.4444444444444444,
              "#bd3786"
             ],
             [
              0.5555555555555556,
              "#d8576b"
             ],
             [
              0.6666666666666666,
              "#ed7953"
             ],
             [
              0.7777777777777778,
              "#fb9f3a"
             ],
             [
              0.8888888888888888,
              "#fdca26"
             ],
             [
              1,
              "#f0f921"
             ]
            ],
            "type": "heatmap"
           }
          ],
          "histogram": [
           {
            "marker": {
             "pattern": {
              "fillmode": "overlay",
              "size": 10,
              "solidity": 0.2
             }
            },
            "type": "histogram"
           }
          ],
          "histogram2d": [
           {
            "colorbar": {
             "outlinewidth": 0,
             "ticks": ""
            },
            "colorscale": [
             [
              0,
              "#0d0887"
             ],
             [
              0.1111111111111111,
              "#46039f"
             ],
             [
              0.2222222222222222,
              "#7201a8"
             ],
             [
              0.3333333333333333,
              "#9c179e"
             ],
             [
              0.4444444444444444,
              "#bd3786"
             ],
             [
              0.5555555555555556,
              "#d8576b"
             ],
             [
              0.6666666666666666,
              "#ed7953"
             ],
             [
              0.7777777777777778,
              "#fb9f3a"
             ],
             [
              0.8888888888888888,
              "#fdca26"
             ],
             [
              1,
              "#f0f921"
             ]
            ],
            "type": "histogram2d"
           }
          ],
          "histogram2dcontour": [
           {
            "colorbar": {
             "outlinewidth": 0,
             "ticks": ""
            },
            "colorscale": [
             [
              0,
              "#0d0887"
             ],
             [
              0.1111111111111111,
              "#46039f"
             ],
             [
              0.2222222222222222,
              "#7201a8"
             ],
             [
              0.3333333333333333,
              "#9c179e"
             ],
             [
              0.4444444444444444,
              "#bd3786"
             ],
             [
              0.5555555555555556,
              "#d8576b"
             ],
             [
              0.6666666666666666,
              "#ed7953"
             ],
             [
              0.7777777777777778,
              "#fb9f3a"
             ],
             [
              0.8888888888888888,
              "#fdca26"
             ],
             [
              1,
              "#f0f921"
             ]
            ],
            "type": "histogram2dcontour"
           }
          ],
          "mesh3d": [
           {
            "colorbar": {
             "outlinewidth": 0,
             "ticks": ""
            },
            "type": "mesh3d"
           }
          ],
          "parcoords": [
           {
            "line": {
             "colorbar": {
              "outlinewidth": 0,
              "ticks": ""
             }
            },
            "type": "parcoords"
           }
          ],
          "pie": [
           {
            "automargin": true,
            "type": "pie"
           }
          ],
          "scatter": [
           {
            "fillpattern": {
             "fillmode": "overlay",
             "size": 10,
             "solidity": 0.2
            },
            "type": "scatter"
           }
          ],
          "scatter3d": [
           {
            "line": {
             "colorbar": {
              "outlinewidth": 0,
              "ticks": ""
             }
            },
            "marker": {
             "colorbar": {
              "outlinewidth": 0,
              "ticks": ""
             }
            },
            "type": "scatter3d"
           }
          ],
          "scattercarpet": [
           {
            "marker": {
             "colorbar": {
              "outlinewidth": 0,
              "ticks": ""
             }
            },
            "type": "scattercarpet"
           }
          ],
          "scattergeo": [
           {
            "marker": {
             "colorbar": {
              "outlinewidth": 0,
              "ticks": ""
             }
            },
            "type": "scattergeo"
           }
          ],
          "scattergl": [
           {
            "marker": {
             "colorbar": {
              "outlinewidth": 0,
              "ticks": ""
             }
            },
            "type": "scattergl"
           }
          ],
          "scattermap": [
           {
            "marker": {
             "colorbar": {
              "outlinewidth": 0,
              "ticks": ""
             }
            },
            "type": "scattermap"
           }
          ],
          "scattermapbox": [
           {
            "marker": {
             "colorbar": {
              "outlinewidth": 0,
              "ticks": ""
             }
            },
            "type": "scattermapbox"
           }
          ],
          "scatterpolar": [
           {
            "marker": {
             "colorbar": {
              "outlinewidth": 0,
              "ticks": ""
             }
            },
            "type": "scatterpolar"
           }
          ],
          "scatterpolargl": [
           {
            "marker": {
             "colorbar": {
              "outlinewidth": 0,
              "ticks": ""
             }
            },
            "type": "scatterpolargl"
           }
          ],
          "scatterternary": [
           {
            "marker": {
             "colorbar": {
              "outlinewidth": 0,
              "ticks": ""
             }
            },
            "type": "scatterternary"
           }
          ],
          "surface": [
           {
            "colorbar": {
             "outlinewidth": 0,
             "ticks": ""
            },
            "colorscale": [
             [
              0,
              "#0d0887"
             ],
             [
              0.1111111111111111,
              "#46039f"
             ],
             [
              0.2222222222222222,
              "#7201a8"
             ],
             [
              0.3333333333333333,
              "#9c179e"
             ],
             [
              0.4444444444444444,
              "#bd3786"
             ],
             [
              0.5555555555555556,
              "#d8576b"
             ],
             [
              0.6666666666666666,
              "#ed7953"
             ],
             [
              0.7777777777777778,
              "#fb9f3a"
             ],
             [
              0.8888888888888888,
              "#fdca26"
             ],
             [
              1,
              "#f0f921"
             ]
            ],
            "type": "surface"
           }
          ],
          "table": [
           {
            "cells": {
             "fill": {
              "color": "#EBF0F8"
             },
             "line": {
              "color": "white"
             }
            },
            "header": {
             "fill": {
              "color": "#C8D4E3"
             },
             "line": {
              "color": "white"
             }
            },
            "type": "table"
           }
          ]
         },
         "layout": {
          "annotationdefaults": {
           "arrowcolor": "#2a3f5f",
           "arrowhead": 0,
           "arrowwidth": 1
          },
          "autotypenumbers": "strict",
          "coloraxis": {
           "colorbar": {
            "outlinewidth": 0,
            "ticks": ""
           }
          },
          "colorscale": {
           "diverging": [
            [
             0,
             "#8e0152"
            ],
            [
             0.1,
             "#c51b7d"
            ],
            [
             0.2,
             "#de77ae"
            ],
            [
             0.3,
             "#f1b6da"
            ],
            [
             0.4,
             "#fde0ef"
            ],
            [
             0.5,
             "#f7f7f7"
            ],
            [
             0.6,
             "#e6f5d0"
            ],
            [
             0.7,
             "#b8e186"
            ],
            [
             0.8,
             "#7fbc41"
            ],
            [
             0.9,
             "#4d9221"
            ],
            [
             1,
             "#276419"
            ]
           ],
           "sequential": [
            [
             0,
             "#0d0887"
            ],
            [
             0.1111111111111111,
             "#46039f"
            ],
            [
             0.2222222222222222,
             "#7201a8"
            ],
            [
             0.3333333333333333,
             "#9c179e"
            ],
            [
             0.4444444444444444,
             "#bd3786"
            ],
            [
             0.5555555555555556,
             "#d8576b"
            ],
            [
             0.6666666666666666,
             "#ed7953"
            ],
            [
             0.7777777777777778,
             "#fb9f3a"
            ],
            [
             0.8888888888888888,
             "#fdca26"
            ],
            [
             1,
             "#f0f921"
            ]
           ],
           "sequentialminus": [
            [
             0,
             "#0d0887"
            ],
            [
             0.1111111111111111,
             "#46039f"
            ],
            [
             0.2222222222222222,
             "#7201a8"
            ],
            [
             0.3333333333333333,
             "#9c179e"
            ],
            [
             0.4444444444444444,
             "#bd3786"
            ],
            [
             0.5555555555555556,
             "#d8576b"
            ],
            [
             0.6666666666666666,
             "#ed7953"
            ],
            [
             0.7777777777777778,
             "#fb9f3a"
            ],
            [
             0.8888888888888888,
             "#fdca26"
            ],
            [
             1,
             "#f0f921"
            ]
           ]
          },
          "colorway": [
           "#636efa",
           "#EF553B",
           "#00cc96",
           "#ab63fa",
           "#FFA15A",
           "#19d3f3",
           "#FF6692",
           "#B6E880",
           "#FF97FF",
           "#FECB52"
          ],
          "font": {
           "color": "#2a3f5f"
          },
          "geo": {
           "bgcolor": "white",
           "lakecolor": "white",
           "landcolor": "white",
           "showlakes": true,
           "showland": true,
           "subunitcolor": "#C8D4E3"
          },
          "hoverlabel": {
           "align": "left"
          },
          "hovermode": "closest",
          "mapbox": {
           "style": "light"
          },
          "paper_bgcolor": "white",
          "plot_bgcolor": "white",
          "polar": {
           "angularaxis": {
            "gridcolor": "#EBF0F8",
            "linecolor": "#EBF0F8",
            "ticks": ""
           },
           "bgcolor": "white",
           "radialaxis": {
            "gridcolor": "#EBF0F8",
            "linecolor": "#EBF0F8",
            "ticks": ""
           }
          },
          "scene": {
           "xaxis": {
            "backgroundcolor": "white",
            "gridcolor": "#DFE8F3",
            "gridwidth": 2,
            "linecolor": "#EBF0F8",
            "showbackground": true,
            "ticks": "",
            "zerolinecolor": "#EBF0F8"
           },
           "yaxis": {
            "backgroundcolor": "white",
            "gridcolor": "#DFE8F3",
            "gridwidth": 2,
            "linecolor": "#EBF0F8",
            "showbackground": true,
            "ticks": "",
            "zerolinecolor": "#EBF0F8"
           },
           "zaxis": {
            "backgroundcolor": "white",
            "gridcolor": "#DFE8F3",
            "gridwidth": 2,
            "linecolor": "#EBF0F8",
            "showbackground": true,
            "ticks": "",
            "zerolinecolor": "#EBF0F8"
           }
          },
          "shapedefaults": {
           "line": {
            "color": "#2a3f5f"
           }
          },
          "ternary": {
           "aaxis": {
            "gridcolor": "#DFE8F3",
            "linecolor": "#A2B1C6",
            "ticks": ""
           },
           "baxis": {
            "gridcolor": "#DFE8F3",
            "linecolor": "#A2B1C6",
            "ticks": ""
           },
           "bgcolor": "white",
           "caxis": {
            "gridcolor": "#DFE8F3",
            "linecolor": "#A2B1C6",
            "ticks": ""
           }
          },
          "title": {
           "x": 0.05
          },
          "xaxis": {
           "automargin": true,
           "gridcolor": "#EBF0F8",
           "linecolor": "#EBF0F8",
           "ticks": "",
           "title": {
            "standoff": 15
           },
           "zerolinecolor": "#EBF0F8",
           "zerolinewidth": 2
          },
          "yaxis": {
           "automargin": true,
           "gridcolor": "#EBF0F8",
           "linecolor": "#EBF0F8",
           "ticks": "",
           "title": {
            "standoff": 15
           },
           "zerolinecolor": "#EBF0F8",
           "zerolinewidth": 2
          }
         }
        },
        "title": {
         "text": "Loss History  (NN size = 64x3)"
        },
        "width": 800,
        "xaxis": {
         "title": {
          "text": "Epoch"
         }
        },
        "yaxis": {
         "title": {
          "text": "Loss (log‑scale)"
         },
         "type": "log"
        }
       }
      }
     },
     "metadata": {},
     "output_type": "display_data"
    }
   ],
   "source": [
    "# plot the loss\n",
    "state = trainer.closure.get_state()\n",
    "plot_loss(state, nn_shape)"
   ]
  },
  {
   "cell_type": "markdown",
   "id": "53f1c27f",
   "metadata": {},
   "source": [
    "### LBFGS Training"
   ]
  },
  {
   "cell_type": "code",
   "execution_count": null,
   "id": "94ae5cfa",
   "metadata": {},
   "outputs": [
    {
     "name": "stderr",
     "output_type": "stream",
     "text": [
      "LBFGS training:   1%|          | 28/5000 [01:05<2:58:29,  2.15s/it, Interior=0.004227, Boundary=0.063291, Initial=0.271236, Total=0.338754, Max Error=75.020752, L2 Error=0.115447] Exception ignored in: <bound method IPythonKernel._clean_thread_parent_frames of <ipykernel.ipkernel.IPythonKernel object at 0x1040ce910>>\n",
      "Traceback (most recent call last):\n",
      "  File \"/Users/josemelo/Desktop/master/tesis/codes/.conda/lib/python3.11/site-packages/ipykernel/ipkernel.py\", line 775, in _clean_thread_parent_frames\n",
      "    def _clean_thread_parent_frames(\n",
      "\n",
      "KeyboardInterrupt: \n",
      "LBFGS training:   1%|          | 34/5000 [01:18<2:56:02,  2.13s/it, Interior=0.004066, Boundary=0.057666, Initial=0.257887, Total=0.319619, Max Error=67.365743, L2 Error=0.101571]"
     ]
    }
   ],
   "source": [
    "boundary_samples = 500\n",
    "interior_samples = boundary_samples*assets*2\n",
    "initial_samples = boundary_samples*assets*2\n",
    "\n",
    "# We create new samples\n",
    "dataset = SampledDataset(\n",
    "    params, interior_samples, initial_samples, boundary_samples, sampler, dtype, device)\n",
    "\n",
    "optimizer = LBFGS(\n",
    "    model.parameters(),\n",
    "    max_eval=5_000,\n",
    "    max_iter=1_000,\n",
    "    line_search_fn=\"strong_wolfe\",\n",
    ")\n",
    "batch_size = len(dataset) # we use all samples\n",
    "\n",
    "closure = closure.with_dataset(\n",
    "    dataset, loader_opts={'batch_size': batch_size, \"shuffle\": True, \"pin_memory\": True})\n",
    "\n",
    "trainer = trainer.with_optimizer(optimizer).with_training_step(closure)\n",
    "trainer.train()\n",
    "\n",
    "state = closure.get_state()\n",
    "plot_loss(state, nn_shape, smooth=False)"
   ]
  },
  {
   "cell_type": "markdown",
   "id": "10caa3c9",
   "metadata": {},
   "source": [
    "### NysNewtonCG Training"
   ]
  },
  {
   "cell_type": "code",
   "execution_count": null,
   "id": "656d3b80",
   "metadata": {},
   "outputs": [],
   "source": [
    "# boundary_samples = 50\n",
    "# interior_samples = boundary_samples*assets*2\n",
    "# initial_samples = boundary_samples*assets*2\n",
    "\n",
    "# dataset = SampledDataset(\n",
    "#     params, interior_samples, initial_samples, boundary_samples, sampler, dtype, device)\n",
    "# batch_size = len(dataset)\n",
    "\n",
    "# optimizer = NysNewtonCG(model.parameters(), line_search_fn='armijo', rank=60, mu=0.1, cg_tol=1e-5)\n",
    "\n",
    "# closure = closure.with_dataset(\n",
    "#     dataset, loader_opts={'batch_size': batch_size, \"shuffle\": True, \"pin_memory\": True})\n",
    "\n",
    "# trainer = trainer.with_optimizer(optimizer).with_epochs(10)\n",
    "# trainer.train()\n",
    "\n",
    "# state = closure.get_state()\n",
    "# plot_loss(state, nn_shape)"
   ]
  },
  {
   "cell_type": "code",
   "execution_count": null,
   "id": "824c6b5f",
   "metadata": {},
   "outputs": [
    {
     "name": "stdout",
     "output_type": "stream",
     "text": [
      "L2 Error:  28.604071529529985\n"
     ]
    }
   ],
   "source": [
    "results = compare_with_mc(model, params, n_prices=200,\n",
    "                          n_simulations=10_000, dtype=dtype, device=device)['l2_rel_error']\n",
    "print(\"L2 Error: \", results*100)"
   ]
  }
 ],
 "metadata": {
  "kernelspec": {
   "display_name": "Python 3",
   "language": "python",
   "name": "python3"
  },
  "language_info": {
   "codemirror_mode": {
    "name": "ipython",
    "version": 3
   },
   "file_extension": ".py",
   "mimetype": "text/x-python",
   "name": "python",
   "nbconvert_exporter": "python",
   "pygments_lexer": "ipython3",
   "version": "3.11.8"
  }
 },
 "nbformat": 4,
 "nbformat_minor": 5
}
